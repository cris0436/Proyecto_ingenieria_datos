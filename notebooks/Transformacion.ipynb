{
 "cells": [
  {
   "cell_type": "code",
   "execution_count": null,
   "id": "d60d2cea-13f3-49ae-bd00-f2eba9ff3480",
   "metadata": {},
   "outputs": [
    {
     "name": "stdout",
     "output_type": "stream",
     "text": [
      "Registros eliminados correctamente\n"
     ]
    }
   ],
   "source": [
    "using CSV, DataFrames \n",
    "\n",
    "#cargar BD\n",
    "df = CSV.read(\"..\\\\data\\\\raw\\\\Paper1_WebData_Final.csv\", DataFrame)\n",
    "\n",
    "# Lista de columnas de umbrales auditivos \n",
    "\n",
    "threshold_columns = [ \n",
    "\n",
    "    \"L500k\", \"L1k\", \"L2k\", \"L3k\", \"L4k\", \"L6k\", \"L8k\", \n",
    "\n",
    "    \"R500k\", \"R1k\", \"R2k\", \"R3k\", \"R4k\", \"R6k\", \"R8k\" \n",
    "\n",
    "] \n",
    "\n",
    " \n",
    "\n",
    "# Función para verificar si un valor es válido \n",
    "\n",
    "function is_valid(val) \n",
    "\n",
    "    return !ismissing(val) && !(val in [997, 998, 999]) \n",
    "\n",
    "end \n",
    "\n",
    " \n",
    "\n",
    "# Filtrar registros válidos \n",
    "\n",
    "df_cleaned = filter(row -> all(col -> is_valid(row[col]), threshold_columns), df) \n",
    "\n",
    "  \n",
    "\n",
    "#Guardar dataset limpio en processed \n",
    "\n",
    "CSV.write(\"..\\\\data\\\\processed\\\\datos_limpios.csv\", df) \n",
    "\n",
    "println(\"Registros eliminados correctamente\")"
   ]
  },
  {
   "cell_type": "code",
   "execution_count": null,
   "id": "9424592c-44f9-4040-b91c-6ad364173ad3",
   "metadata": {},
   "outputs": [
    {
     "name": "stdout",
     "output_type": "stream",
     "text": [
      "Datos filtrados por género guardados como 'hearing_loss_masculino.csv' y 'hearing_loss_femenino.csv'.\n"
     ]
    }
   ],
   "source": [
    "using CSV, DataFrames \n",
    "\n",
    "#cargar BD\n",
    "df = CSV.read(\"..\\\\data\\\\raw\\\\Paper1_WebData_Final.csv\", DataFrame)\n",
    "\n",
    "#Función para verificar si el género es masculino \n",
    "is_masculino(g) = !ismissing(g) && g == \"M\" \n",
    "\n",
    "# Función para verificar si el género es femenino \n",
    "is_femenino(g) = !ismissing(g) && g == \"F\" \n",
    "\n",
    "# Filtrar registros masculinos \n",
    "df_masculino = filter(row -> is_masculino(row.gender), df) \n",
    "\n",
    "# Filtrar registros femeninos \n",
    "df_femenino = filter(row -> is_femenino(row.gender), df) \n",
    "\n",
    "# Guardar los resultados en archivos separados \n",
    "CSV.write(\"..\\\\data\\\\processed\\\\hearing_loss_masculino.csv\", df_masculino) \n",
    "CSV.write(\"..\\\\data\\\\processed\\\\hearing_loss_femenino.csv\", df_femenino) \n",
    "println(\"Datos filtrados por género guardados como 'hearing_loss_masculino.csv' y 'hearing_loss_femenino.csv'.\") "
   ]
  },
  {
   "cell_type": "code",
   "execution_count": null,
   "id": "43a54880-24a8-47f6-a46e-c8c29d653561",
   "metadata": {},
   "outputs": [
    {
     "name": "stdout",
     "output_type": "stream",
     "text": [
      "Datos filtrados por grupo de edad 36–45 años guardados como 'hearing_loss_edad_36_45.csv'.\n"
     ]
    }
   ],
   "source": [
    "using CSV, DataFrames \n",
    "\n",
    "#cargar BD\n",
    "df = CSV.read(\"..\\\\data\\\\raw\\\\Paper1_WebData_Final.csv\", DataFrame)\n",
    "\n",
    "# Función para verificar grupo de edad \n",
    "function edad_en_grupo(row, grupo) \n",
    "    !ismissing(row.age_group) && row.age_group == grupo \n",
    "end \n",
    "\n",
    "# Filtrar por grupo de edad (ejemplo: grupo 3 = 36–45 años) \n",
    "df_edad_36_45 = filter(row -> edad_en_grupo(row, 4), df) \n",
    "\n",
    "# Guardar el resultado \n",
    "CSV.write(\"..\\\\data\\\\processed\\\\hearing_loss_edad_46_55.csv\", df_edad_36_45) \n",
    "println(\"Datos filtrados por grupo de edad 36–45 años guardados como 'hearing_loss_edad_36_45.csv'.\") "
   ]
  },
  {
   "cell_type": "code",
   "execution_count": null,
   "id": "5ce52bb9-085a-4a72-9d5a-21288e9165f5",
   "metadata": {},
   "outputs": [
    {
     "name": "stdout",
     "output_type": "stream",
     "text": [
      "Datos guardados segun la region.\n"
     ]
    }
   ],
   "source": [
    "using CSV, DataFrames \n",
    "\n",
    "#cargar BD\n",
    "df = CSV.read(\"..\\\\data\\\\raw\\\\Paper1_WebData_Final.csv\", DataFrame)\n",
    "\n",
    "#filtrar por region\n",
    "df_region_SO = filter(row -> !ismissing(row.region) && row.region == \"WE\", df) \n",
    "\n",
    "# Guardar el resultado \n",
    "CSV.write(\"..\\\\data\\\\processed\\\\region_WE.csv\", df_region_SO) \n",
    "println(\"Datos guardados segun la region.\") "
   ]
  },
  {
   "cell_type": "code",
   "execution_count": null,
   "id": "94df3fdc-1f1d-4c3d-88ae-9f53a6293c6b",
   "metadata": {},
   "outputs": [
    {
     "name": "stdout",
     "output_type": "stream",
     "text": [
      "Datos guardados segun su trabajo.\n"
     ]
    }
   ],
   "source": [
    "using CSV, DataFrames \n",
    "\n",
    "#cargar BD\n",
    "df = CSV.read(\"..\\\\data\\\\raw\\\\Paper1_WebData_Final.csv\", DataFrame)\n",
    "\n",
    "#filtrar por compañia\n",
    "df_industria_construccion = filter(row -> !ismissing(row.NAICS_descr) && occursin(\"Construction\", row.NAICS_descr), df) \n",
    "\n",
    "# Guardar el resultado \n",
    "CSV.write(\"..\\\\data\\\\processed\\\\contruccion.csv\", df_industria_construccion) \n",
    "println(\"Datos guardados segun su trabajo.\") "
   ]
  }
 ],
 "metadata": {
  "kernelspec": {
   "display_name": "Julia 1.11.6",
   "language": "julia",
   "name": "julia-1.11"
  },
  "language_info": {
   "file_extension": ".jl",
   "mimetype": "application/julia",
   "name": "julia",
   "version": "1.11.6"
  }
 },
 "nbformat": 4,
 "nbformat_minor": 5
}
