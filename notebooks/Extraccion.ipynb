{
 "cells": [
  {
   "cell_type": "code",
   "execution_count": null,
   "id": "26bc9375-7fbe-46ad-bf14-3c60b3ec52a8",
   "metadata": {},
   "outputs": [
    {
     "data": {
      "text/html": [
       "<div><div style = \"float: left;\"><span>5000×21 DataFrame</span></div><div style = \"float: right;\"><span style = \"font-style: italic;\">4975 rows omitted</span></div><div style = \"clear: both;\"></div></div><div class = \"data-frame\" style = \"overflow-x: scroll;\"><table class = \"data-frame\" style = \"margin-bottom: 6px;\"><thead><tr class = \"header\"><th class = \"rowNumber\" style = \"font-weight: bold; text-align: right;\">Row</th><th style = \"text-align: left;\">test_date</th><th style = \"text-align: left;\">nid</th><th style = \"text-align: left;\">L500k</th><th style = \"text-align: left;\">L1k</th><th style = \"text-align: left;\">L2k</th><th style = \"text-align: left;\">L3k</th><th style = \"text-align: left;\">L4k</th><th style = \"text-align: left;\">L6k</th><th style = \"text-align: left;\">L8k</th><th style = \"text-align: left;\">R500k</th><th style = \"text-align: left;\">R1k</th><th style = \"text-align: left;\">R2k</th><th style = \"text-align: left;\">R3k</th><th style = \"text-align: left;\">R4k</th><th style = \"text-align: left;\">R6k</th><th style = \"text-align: left;\">R8k</th><th style = \"text-align: left;\">gender</th><th style = \"text-align: left;\">naics</th><th style = \"text-align: left;\">age_group</th><th style = \"text-align: left;\">region</th><th style = \"text-align: left;\">NAICS_descr</th></tr><tr class = \"subheader headerLastRow\"><th class = \"rowNumber\" style = \"font-weight: bold; text-align: right;\"></th><th title = \"String15\" style = \"text-align: left;\">String15</th><th title = \"Int64\" style = \"text-align: left;\">Int64</th><th title = \"Union{Missing, Int64}\" style = \"text-align: left;\">Int64?</th><th title = \"Union{Missing, Int64}\" style = \"text-align: left;\">Int64?</th><th title = \"Union{Missing, Int64}\" style = \"text-align: left;\">Int64?</th><th title = \"Union{Missing, Int64}\" style = \"text-align: left;\">Int64?</th><th title = \"Union{Missing, Int64}\" style = \"text-align: left;\">Int64?</th><th title = \"Union{Missing, Int64}\" style = \"text-align: left;\">Int64?</th><th title = \"Union{Missing, Int64}\" style = \"text-align: left;\">Int64?</th><th title = \"Union{Missing, Int64}\" style = \"text-align: left;\">Int64?</th><th title = \"Union{Missing, Int64}\" style = \"text-align: left;\">Int64?</th><th title = \"Union{Missing, Int64}\" style = \"text-align: left;\">Int64?</th><th title = \"Union{Missing, Int64}\" style = \"text-align: left;\">Int64?</th><th title = \"Union{Missing, Int64}\" style = \"text-align: left;\">Int64?</th><th title = \"Union{Missing, Int64}\" style = \"text-align: left;\">Int64?</th><th title = \"Union{Missing, Int64}\" style = \"text-align: left;\">Int64?</th><th title = \"Union{Missing, String1}\" style = \"text-align: left;\">String1?</th><th title = \"Int64\" style = \"text-align: left;\">Int64</th><th title = \"Int64\" style = \"text-align: left;\">Int64</th><th title = \"Union{Missing, String3}\" style = \"text-align: left;\">String3?</th><th title = \"String\" style = \"text-align: left;\">String</th></tr></thead><tbody><tr><td class = \"rowNumber\" style = \"font-weight: bold; text-align: right;\">1</td><td style = \"text-align: left;\">12-FEB-2007</td><td style = \"text-align: right;\">1</td><td style = \"text-align: right;\">10</td><td style = \"text-align: right;\">5</td><td style = \"text-align: right;\">5</td><td style = \"text-align: right;\">15</td><td style = \"text-align: right;\">5</td><td style = \"text-align: right;\">0</td><td style = \"text-align: right;\">20</td><td style = \"text-align: right;\">20</td><td style = \"text-align: right;\">20</td><td style = \"text-align: right;\">10</td><td style = \"text-align: right;\">10</td><td style = \"text-align: right;\">25</td><td style = \"text-align: right;\">30</td><td style = \"text-align: right;\">45</td><td style = \"text-align: left;\">M</td><td style = \"text-align: right;\">331512</td><td style = \"text-align: right;\">4</td><td style = \"text-align: left;\">MA</td><td style = \"text-align: left;\">Steel Investment Foundries</td></tr><tr><td class = \"rowNumber\" style = \"font-weight: bold; text-align: right;\">2</td><td style = \"text-align: left;\">29-FEB-2008</td><td style = \"text-align: right;\">2</td><td style = \"text-align: right;\">15</td><td style = \"text-align: right;\">5</td><td style = \"text-align: right;\">15</td><td style = \"text-align: right;\">20</td><td style = \"text-align: right;\">20</td><td style = \"text-align: right;\">15</td><td style = \"text-align: right;\">15</td><td style = \"text-align: right;\">10</td><td style = \"text-align: right;\">0</td><td style = \"text-align: right;\">10</td><td style = \"text-align: right;\">15</td><td style = \"text-align: right;\">30</td><td style = \"text-align: right;\">20</td><td style = \"text-align: right;\">15</td><td style = \"text-align: left;\">M</td><td style = \"text-align: right;\">331512</td><td style = \"text-align: right;\">3</td><td style = \"text-align: left;\">MA</td><td style = \"text-align: left;\">Steel Investment Foundries</td></tr><tr><td class = \"rowNumber\" style = \"font-weight: bold; text-align: right;\">3</td><td style = \"text-align: left;\">08-FEB-2006</td><td style = \"text-align: right;\">3</td><td style = \"text-align: right;\">25</td><td style = \"text-align: right;\">20</td><td style = \"text-align: right;\">15</td><td style = \"text-align: right;\">20</td><td style = \"text-align: right;\">35</td><td style = \"text-align: right;\">25</td><td style = \"text-align: right;\">15</td><td style = \"text-align: right;\">20</td><td style = \"text-align: right;\">20</td><td style = \"text-align: right;\">10</td><td style = \"text-align: right;\">15</td><td style = \"text-align: right;\">40</td><td style = \"text-align: right;\">30</td><td style = \"text-align: right;\">30</td><td style = \"text-align: left;\">M</td><td style = \"text-align: right;\">331512</td><td style = \"text-align: right;\">3</td><td style = \"text-align: left;\">MA</td><td style = \"text-align: left;\">Steel Investment Foundries</td></tr><tr><td class = \"rowNumber\" style = \"font-weight: bold; text-align: right;\">4</td><td style = \"text-align: left;\">29-FEB-2008</td><td style = \"text-align: right;\">6</td><td style = \"text-align: right;\">10</td><td style = \"text-align: right;\">10</td><td style = \"text-align: right;\">10</td><td style = \"text-align: right;\">35</td><td style = \"text-align: right;\">50</td><td style = \"text-align: right;\">30</td><td style = \"text-align: right;\">10</td><td style = \"text-align: right;\">10</td><td style = \"text-align: right;\">10</td><td style = \"text-align: right;\">5</td><td style = \"text-align: right;\">30</td><td style = \"text-align: right;\">35</td><td style = \"text-align: right;\">25</td><td style = \"text-align: right;\">20</td><td style = \"text-align: left;\">M</td><td style = \"text-align: right;\">331512</td><td style = \"text-align: right;\">4</td><td style = \"text-align: left;\">MA</td><td style = \"text-align: left;\">Steel Investment Foundries</td></tr><tr><td class = \"rowNumber\" style = \"font-weight: bold; text-align: right;\">5</td><td style = \"text-align: left;\">08-FEB-2006</td><td style = \"text-align: right;\">8</td><td style = \"text-align: right;\">15</td><td style = \"text-align: right;\">15</td><td style = \"text-align: right;\">5</td><td style = \"text-align: right;\">15</td><td style = \"text-align: right;\">45</td><td style = \"text-align: right;\">30</td><td style = \"text-align: right;\">20</td><td style = \"text-align: right;\">15</td><td style = \"text-align: right;\">15</td><td style = \"text-align: right;\">5</td><td style = \"text-align: right;\">40</td><td style = \"text-align: right;\">50</td><td style = \"text-align: right;\">20</td><td style = \"text-align: right;\">5</td><td style = \"text-align: left;\">M</td><td style = \"text-align: right;\">331512</td><td style = \"text-align: right;\">3</td><td style = \"text-align: left;\">MA</td><td style = \"text-align: left;\">Steel Investment Foundries</td></tr><tr><td class = \"rowNumber\" style = \"font-weight: bold; text-align: right;\">6</td><td style = \"text-align: left;\">29-FEB-2008</td><td style = \"text-align: right;\">9</td><td style = \"text-align: right;\">10</td><td style = \"text-align: right;\">5</td><td style = \"text-align: right;\">0</td><td style = \"text-align: right;\">5</td><td style = \"text-align: right;\">15</td><td style = \"text-align: right;\">15</td><td style = \"text-align: right;\">15</td><td style = \"text-align: right;\">5</td><td style = \"text-align: right;\">0</td><td style = \"text-align: right;\">5</td><td style = \"text-align: right;\">5</td><td style = \"text-align: right;\">5</td><td style = \"text-align: right;\">5</td><td style = \"text-align: right;\">20</td><td style = \"text-align: left;\">M</td><td style = \"text-align: right;\">331512</td><td style = \"text-align: right;\">3</td><td style = \"text-align: left;\">MA</td><td style = \"text-align: left;\">Steel Investment Foundries</td></tr><tr><td class = \"rowNumber\" style = \"font-weight: bold; text-align: right;\">7</td><td style = \"text-align: left;\">29-FEB-2008</td><td style = \"text-align: right;\">10</td><td style = \"text-align: right;\">5</td><td style = \"text-align: right;\">0</td><td style = \"text-align: right;\">5</td><td style = \"text-align: right;\">5</td><td style = \"text-align: right;\">5</td><td style = \"text-align: right;\">10</td><td style = \"text-align: right;\">0</td><td style = \"text-align: right;\">10</td><td style = \"text-align: right;\">5</td><td style = \"text-align: right;\">5</td><td style = \"text-align: right;\">5</td><td style = \"text-align: right;\">5</td><td style = \"text-align: right;\">5</td><td style = \"text-align: right;\">0</td><td style = \"text-align: left;\">M</td><td style = \"text-align: right;\">331512</td><td style = \"text-align: right;\">2</td><td style = \"text-align: left;\">MA</td><td style = \"text-align: left;\">Steel Investment Foundries</td></tr><tr><td class = \"rowNumber\" style = \"font-weight: bold; text-align: right;\">8</td><td style = \"text-align: left;\">29-FEB-2008</td><td style = \"text-align: right;\">11</td><td style = \"text-align: right;\">30</td><td style = \"text-align: right;\">20</td><td style = \"text-align: right;\">25</td><td style = \"text-align: right;\">60</td><td style = \"text-align: right;\">60</td><td style = \"text-align: right;\">60</td><td style = \"text-align: right;\">30</td><td style = \"text-align: right;\">25</td><td style = \"text-align: right;\">20</td><td style = \"text-align: right;\">35</td><td style = \"text-align: right;\">65</td><td style = \"text-align: right;\">65</td><td style = \"text-align: right;\">70</td><td style = \"text-align: right;\">50</td><td style = \"text-align: left;\">M</td><td style = \"text-align: right;\">331512</td><td style = \"text-align: right;\">5</td><td style = \"text-align: left;\">MA</td><td style = \"text-align: left;\">Steel Investment Foundries</td></tr><tr><td class = \"rowNumber\" style = \"font-weight: bold; text-align: right;\">9</td><td style = \"text-align: left;\">29-FEB-2008</td><td style = \"text-align: right;\">12</td><td style = \"text-align: right;\">15</td><td style = \"text-align: right;\">10</td><td style = \"text-align: right;\">5</td><td style = \"text-align: right;\">5</td><td style = \"text-align: right;\">35</td><td style = \"text-align: right;\">20</td><td style = \"text-align: right;\">5</td><td style = \"text-align: right;\">10</td><td style = \"text-align: right;\">15</td><td style = \"text-align: right;\">5</td><td style = \"text-align: right;\">25</td><td style = \"text-align: right;\">40</td><td style = \"text-align: right;\">10</td><td style = \"text-align: right;\">20</td><td style = \"text-align: left;\">M</td><td style = \"text-align: right;\">331512</td><td style = \"text-align: right;\">3</td><td style = \"text-align: left;\">MA</td><td style = \"text-align: left;\">Steel Investment Foundries</td></tr><tr><td class = \"rowNumber\" style = \"font-weight: bold; text-align: right;\">10</td><td style = \"text-align: left;\">08-FEB-2005</td><td style = \"text-align: right;\">13</td><td style = \"text-align: right;\">10</td><td style = \"text-align: right;\">5</td><td style = \"text-align: right;\">10</td><td style = \"text-align: right;\">45</td><td style = \"text-align: right;\">50</td><td style = \"text-align: right;\">35</td><td style = \"text-align: right;\">30</td><td style = \"text-align: right;\">10</td><td style = \"text-align: right;\">10</td><td style = \"text-align: right;\">10</td><td style = \"text-align: right;\">10</td><td style = \"text-align: right;\">20</td><td style = \"text-align: right;\">5</td><td style = \"text-align: right;\">20</td><td style = \"text-align: left;\">M</td><td style = \"text-align: right;\">331512</td><td style = \"text-align: right;\">5</td><td style = \"text-align: left;\">MA</td><td style = \"text-align: left;\">Steel Investment Foundries</td></tr><tr><td class = \"rowNumber\" style = \"font-weight: bold; text-align: right;\">11</td><td style = \"text-align: left;\">29-FEB-2008</td><td style = \"text-align: right;\">14</td><td style = \"text-align: right;\">15</td><td style = \"text-align: right;\">5</td><td style = \"text-align: right;\">10</td><td style = \"text-align: right;\">55</td><td style = \"text-align: right;\">60</td><td style = \"text-align: right;\">75</td><td style = \"text-align: right;\">75</td><td style = \"text-align: right;\">15</td><td style = \"text-align: right;\">5</td><td style = \"text-align: right;\">20</td><td style = \"text-align: right;\">65</td><td style = \"text-align: right;\">65</td><td style = \"text-align: right;\">75</td><td style = \"text-align: right;\">80</td><td style = \"text-align: left;\">M</td><td style = \"text-align: right;\">331512</td><td style = \"text-align: right;\">5</td><td style = \"text-align: left;\">MA</td><td style = \"text-align: left;\">Steel Investment Foundries</td></tr><tr><td class = \"rowNumber\" style = \"font-weight: bold; text-align: right;\">12</td><td style = \"text-align: left;\">29-FEB-2008</td><td style = \"text-align: right;\">15</td><td style = \"text-align: right;\">15</td><td style = \"text-align: right;\">15</td><td style = \"text-align: right;\">15</td><td style = \"text-align: right;\">30</td><td style = \"text-align: right;\">60</td><td style = \"text-align: right;\">45</td><td style = \"text-align: right;\">15</td><td style = \"text-align: right;\">20</td><td style = \"text-align: right;\">10</td><td style = \"text-align: right;\">5</td><td style = \"text-align: right;\">35</td><td style = \"text-align: right;\">45</td><td style = \"text-align: right;\">60</td><td style = \"text-align: right;\">25</td><td style = \"text-align: left;\">M</td><td style = \"text-align: right;\">331512</td><td style = \"text-align: right;\">4</td><td style = \"text-align: left;\">MA</td><td style = \"text-align: left;\">Steel Investment Foundries</td></tr><tr><td class = \"rowNumber\" style = \"font-weight: bold; text-align: right;\">13</td><td style = \"text-align: left;\">29-FEB-2008</td><td style = \"text-align: right;\">17</td><td style = \"text-align: right;\">15</td><td style = \"text-align: right;\">10</td><td style = \"text-align: right;\">5</td><td style = \"text-align: right;\">10</td><td style = \"text-align: right;\">40</td><td style = \"text-align: right;\">20</td><td style = \"text-align: right;\">10</td><td style = \"text-align: right;\">15</td><td style = \"text-align: right;\">5</td><td style = \"text-align: right;\">0</td><td style = \"text-align: right;\">20</td><td style = \"text-align: right;\">5</td><td style = \"text-align: right;\">25</td><td style = \"text-align: right;\">5</td><td style = \"text-align: left;\">M</td><td style = \"text-align: right;\">331512</td><td style = \"text-align: right;\">2</td><td style = \"text-align: left;\">MA</td><td style = \"text-align: left;\">Steel Investment Foundries</td></tr><tr><td style = \"text-align: right;\">&vellip;</td><td style = \"text-align: right;\">&vellip;</td><td style = \"text-align: right;\">&vellip;</td><td style = \"text-align: right;\">&vellip;</td><td style = \"text-align: right;\">&vellip;</td><td style = \"text-align: right;\">&vellip;</td><td style = \"text-align: right;\">&vellip;</td><td style = \"text-align: right;\">&vellip;</td><td style = \"text-align: right;\">&vellip;</td><td style = \"text-align: right;\">&vellip;</td><td style = \"text-align: right;\">&vellip;</td><td style = \"text-align: right;\">&vellip;</td><td style = \"text-align: right;\">&vellip;</td><td style = \"text-align: right;\">&vellip;</td><td style = \"text-align: right;\">&vellip;</td><td style = \"text-align: right;\">&vellip;</td><td style = \"text-align: right;\">&vellip;</td><td style = \"text-align: right;\">&vellip;</td><td style = \"text-align: right;\">&vellip;</td><td style = \"text-align: right;\">&vellip;</td><td style = \"text-align: right;\">&vellip;</td><td style = \"text-align: right;\">&vellip;</td></tr><tr><td class = \"rowNumber\" style = \"font-weight: bold; text-align: right;\">4989</td><td style = \"text-align: left;\">28-OCT-2004</td><td style = \"text-align: right;\">8345</td><td style = \"text-align: right;\">15</td><td style = \"text-align: right;\">10</td><td style = \"text-align: right;\">5</td><td style = \"text-align: right;\">15</td><td style = \"text-align: right;\">15</td><td style = \"text-align: right;\">10</td><td style = \"text-align: right;\">15</td><td style = \"text-align: right;\">10</td><td style = \"text-align: right;\">10</td><td style = \"text-align: right;\">5</td><td style = \"text-align: right;\">10</td><td style = \"text-align: right;\">10</td><td style = \"text-align: right;\">15</td><td style = \"text-align: right;\">20</td><td style = \"text-align: left;\">F</td><td style = \"text-align: right;\">321911</td><td style = \"text-align: right;\">2</td><td style = \"text-align: left;\">MA</td><td style = \"text-align: left;\">Wood Window and Door Manufacturing</td></tr><tr><td class = \"rowNumber\" style = \"font-weight: bold; text-align: right;\">4990</td><td style = \"text-align: left;\">28-NOV-2006</td><td style = \"text-align: right;\">8346</td><td style = \"text-align: right;\">5</td><td style = \"text-align: right;\">5</td><td style = \"text-align: right;\">5</td><td style = \"text-align: right;\">15</td><td style = \"text-align: right;\">0</td><td style = \"text-align: right;\">10</td><td style = \"text-align: right;\">5</td><td style = \"text-align: right;\">10</td><td style = \"text-align: right;\">10</td><td style = \"text-align: right;\">5</td><td style = \"text-align: right;\">15</td><td style = \"text-align: right;\">20</td><td style = \"text-align: right;\">5</td><td style = \"text-align: right;\">20</td><td style = \"text-align: left;\">M</td><td style = \"text-align: right;\">321911</td><td style = \"text-align: right;\">2</td><td style = \"text-align: left;\">MA</td><td style = \"text-align: left;\">Wood Window and Door Manufacturing</td></tr><tr><td class = \"rowNumber\" style = \"font-weight: bold; text-align: right;\">4991</td><td style = \"text-align: left;\">28-OCT-2004</td><td style = \"text-align: right;\">8348</td><td style = \"text-align: right;\">5</td><td style = \"text-align: right;\">0</td><td style = \"text-align: right;\">5</td><td style = \"text-align: right;\">5</td><td style = \"text-align: right;\">5</td><td style = \"text-align: right;\">0</td><td style = \"text-align: right;\">10</td><td style = \"text-align: right;\">5</td><td style = \"text-align: right;\">0</td><td style = \"text-align: right;\">5</td><td style = \"text-align: right;\">0</td><td style = \"text-align: right;\">0</td><td style = \"text-align: right;\">10</td><td style = \"text-align: right;\">0</td><td style = \"text-align: left;\">M</td><td style = \"text-align: right;\">321911</td><td style = \"text-align: right;\">2</td><td style = \"text-align: left;\">MA</td><td style = \"text-align: left;\">Wood Window and Door Manufacturing</td></tr><tr><td class = \"rowNumber\" style = \"font-weight: bold; text-align: right;\">4992</td><td style = \"text-align: left;\">28-OCT-2004</td><td style = \"text-align: right;\">8350</td><td style = \"text-align: right;\">15</td><td style = \"text-align: right;\">20</td><td style = \"text-align: right;\">35</td><td style = \"text-align: right;\">45</td><td style = \"text-align: right;\">45</td><td style = \"text-align: right;\">35</td><td style = \"text-align: right;\">35</td><td style = \"text-align: right;\">25</td><td style = \"text-align: right;\">30</td><td style = \"text-align: right;\">55</td><td style = \"text-align: right;\">60</td><td style = \"text-align: right;\">60</td><td style = \"text-align: right;\">40</td><td style = \"text-align: right;\">65</td><td style = \"text-align: left;\">M</td><td style = \"text-align: right;\">321911</td><td style = \"text-align: right;\">4</td><td style = \"text-align: left;\">MA</td><td style = \"text-align: left;\">Wood Window and Door Manufacturing</td></tr><tr><td class = \"rowNumber\" style = \"font-weight: bold; text-align: right;\">4993</td><td style = \"text-align: left;\">28-OCT-2004</td><td style = \"text-align: right;\">8351</td><td style = \"text-align: right;\">5</td><td style = \"text-align: right;\">5</td><td style = \"text-align: right;\">0</td><td style = \"text-align: right;\">0</td><td style = \"text-align: right;\">0</td><td style = \"text-align: right;\">5</td><td style = \"text-align: right;\">5</td><td style = \"text-align: right;\">5</td><td style = \"text-align: right;\">0</td><td style = \"text-align: right;\">5</td><td style = \"text-align: right;\">0</td><td style = \"text-align: right;\">0</td><td style = \"text-align: right;\">10</td><td style = \"text-align: right;\">5</td><td style = \"text-align: left;\">M</td><td style = \"text-align: right;\">321911</td><td style = \"text-align: right;\">2</td><td style = \"text-align: left;\">MA</td><td style = \"text-align: left;\">Wood Window and Door Manufacturing</td></tr><tr><td class = \"rowNumber\" style = \"font-weight: bold; text-align: right;\">4994</td><td style = \"text-align: left;\">28-OCT-2004</td><td style = \"text-align: right;\">8352</td><td style = \"text-align: right;\">15</td><td style = \"text-align: right;\">15</td><td style = \"text-align: right;\">15</td><td style = \"text-align: right;\">25</td><td style = \"text-align: right;\">25</td><td style = \"text-align: right;\">30</td><td style = \"text-align: right;\">30</td><td style = \"text-align: right;\">10</td><td style = \"text-align: right;\">5</td><td style = \"text-align: right;\">10</td><td style = \"text-align: right;\">15</td><td style = \"text-align: right;\">15</td><td style = \"text-align: right;\">30</td><td style = \"text-align: right;\">10</td><td style = \"text-align: left;\">F</td><td style = \"text-align: right;\">321911</td><td style = \"text-align: right;\">3</td><td style = \"text-align: left;\">MA</td><td style = \"text-align: left;\">Wood Window and Door Manufacturing</td></tr><tr><td class = \"rowNumber\" style = \"font-weight: bold; text-align: right;\">4995</td><td style = \"text-align: left;\">28-OCT-2004</td><td style = \"text-align: right;\">8353</td><td style = \"text-align: right;\">20</td><td style = \"text-align: right;\">20</td><td style = \"text-align: right;\">15</td><td style = \"text-align: right;\">15</td><td style = \"text-align: right;\">20</td><td style = \"text-align: right;\">10</td><td style = \"text-align: right;\">35</td><td style = \"text-align: right;\">30</td><td style = \"text-align: right;\">25</td><td style = \"text-align: right;\">25</td><td style = \"text-align: right;\">10</td><td style = \"text-align: right;\">15</td><td style = \"text-align: right;\">20</td><td style = \"text-align: right;\">25</td><td style = \"text-align: left;\">M</td><td style = \"text-align: right;\">321911</td><td style = \"text-align: right;\">3</td><td style = \"text-align: left;\">MA</td><td style = \"text-align: left;\">Wood Window and Door Manufacturing</td></tr><tr><td class = \"rowNumber\" style = \"font-weight: bold; text-align: right;\">4996</td><td style = \"text-align: left;\">28-NOV-2007</td><td style = \"text-align: right;\">8354</td><td style = \"text-align: right;\">15</td><td style = \"text-align: right;\">5</td><td style = \"text-align: right;\">10</td><td style = \"text-align: right;\">10</td><td style = \"text-align: right;\">5</td><td style = \"text-align: right;\">20</td><td style = \"text-align: right;\">999</td><td style = \"text-align: right;\">10</td><td style = \"text-align: right;\">15</td><td style = \"text-align: right;\">10</td><td style = \"text-align: right;\">5</td><td style = \"text-align: right;\">5</td><td style = \"text-align: right;\">25</td><td style = \"text-align: right;\">999</td><td style = \"text-align: left;\">F</td><td style = \"text-align: right;\">321911</td><td style = \"text-align: right;\">3</td><td style = \"text-align: left;\">MA</td><td style = \"text-align: left;\">Wood Window and Door Manufacturing</td></tr><tr><td class = \"rowNumber\" style = \"font-weight: bold; text-align: right;\">4997</td><td style = \"text-align: left;\">28-OCT-2004</td><td style = \"text-align: right;\">8355</td><td style = \"text-align: right;\">10</td><td style = \"text-align: right;\">5</td><td style = \"text-align: right;\">15</td><td style = \"text-align: right;\">10</td><td style = \"text-align: right;\">25</td><td style = \"text-align: right;\">45</td><td style = \"text-align: right;\">15</td><td style = \"text-align: right;\">10</td><td style = \"text-align: right;\">5</td><td style = \"text-align: right;\">5</td><td style = \"text-align: right;\">5</td><td style = \"text-align: right;\">25</td><td style = \"text-align: right;\">40</td><td style = \"text-align: right;\">15</td><td style = \"text-align: left;\">F</td><td style = \"text-align: right;\">321911</td><td style = \"text-align: right;\">3</td><td style = \"text-align: left;\">MA</td><td style = \"text-align: left;\">Wood Window and Door Manufacturing</td></tr><tr><td class = \"rowNumber\" style = \"font-weight: bold; text-align: right;\">4998</td><td style = \"text-align: left;\">13-DEC-2005</td><td style = \"text-align: right;\">8356</td><td style = \"text-align: right;\">10</td><td style = \"text-align: right;\">5</td><td style = \"text-align: right;\">5</td><td style = \"text-align: right;\">5</td><td style = \"text-align: right;\">0</td><td style = \"text-align: right;\">20</td><td style = \"text-align: right;\">20</td><td style = \"text-align: right;\">5</td><td style = \"text-align: right;\">10</td><td style = \"text-align: right;\">10</td><td style = \"text-align: right;\">15</td><td style = \"text-align: right;\">0</td><td style = \"text-align: right;\">30</td><td style = \"text-align: right;\">15</td><td style = \"text-align: left;\">F</td><td style = \"text-align: right;\">321911</td><td style = \"text-align: right;\">2</td><td style = \"text-align: left;\">MA</td><td style = \"text-align: left;\">Wood Window and Door Manufacturing</td></tr><tr><td class = \"rowNumber\" style = \"font-weight: bold; text-align: right;\">4999</td><td style = \"text-align: left;\">28-OCT-2004</td><td style = \"text-align: right;\">8357</td><td style = \"text-align: right;\">15</td><td style = \"text-align: right;\">15</td><td style = \"text-align: right;\">15</td><td style = \"text-align: right;\">10</td><td style = \"text-align: right;\">15</td><td style = \"text-align: right;\">15</td><td style = \"text-align: right;\">35</td><td style = \"text-align: right;\">10</td><td style = \"text-align: right;\">15</td><td style = \"text-align: right;\">5</td><td style = \"text-align: right;\">5</td><td style = \"text-align: right;\">30</td><td style = \"text-align: right;\">30</td><td style = \"text-align: right;\">30</td><td style = \"text-align: left;\">M</td><td style = \"text-align: right;\">321911</td><td style = \"text-align: right;\">3</td><td style = \"text-align: left;\">MA</td><td style = \"text-align: left;\">Wood Window and Door Manufacturing</td></tr><tr><td class = \"rowNumber\" style = \"font-weight: bold; text-align: right;\">5000</td><td style = \"text-align: left;\">28-OCT-2004</td><td style = \"text-align: right;\">8359</td><td style = \"text-align: right;\">10</td><td style = \"text-align: right;\">5</td><td style = \"text-align: right;\">10</td><td style = \"text-align: right;\">5</td><td style = \"text-align: right;\">10</td><td style = \"text-align: right;\">10</td><td style = \"text-align: right;\">5</td><td style = \"text-align: right;\">10</td><td style = \"text-align: right;\">5</td><td style = \"text-align: right;\">10</td><td style = \"text-align: right;\">5</td><td style = \"text-align: right;\">5</td><td style = \"text-align: right;\">0</td><td style = \"text-align: right;\">0</td><td style = \"text-align: left;\">M</td><td style = \"text-align: right;\">321911</td><td style = \"text-align: right;\">3</td><td style = \"text-align: left;\">MA</td><td style = \"text-align: left;\">Wood Window and Door Manufacturing</td></tr></tbody></table></div>"
      ],
      "text/latex": [
       "\\begin{tabular}{r|ccccccccccc}\n",
       "\t& test\\_date & nid & L500k & L1k & L2k & L3k & L4k & L6k & L8k & R500k & \\\\\n",
       "\t\\hline\n",
       "\t& String15 & Int64 & Int64? & Int64? & Int64? & Int64? & Int64? & Int64? & Int64? & Int64? & \\\\\n",
       "\t\\hline\n",
       "\t1 & 12-FEB-2007 & 1 & 10 & 5 & 5 & 15 & 5 & 0 & 20 & 20 & $\\dots$ \\\\\n",
       "\t2 & 29-FEB-2008 & 2 & 15 & 5 & 15 & 20 & 20 & 15 & 15 & 10 & $\\dots$ \\\\\n",
       "\t3 & 08-FEB-2006 & 3 & 25 & 20 & 15 & 20 & 35 & 25 & 15 & 20 & $\\dots$ \\\\\n",
       "\t4 & 29-FEB-2008 & 6 & 10 & 10 & 10 & 35 & 50 & 30 & 10 & 10 & $\\dots$ \\\\\n",
       "\t5 & 08-FEB-2006 & 8 & 15 & 15 & 5 & 15 & 45 & 30 & 20 & 15 & $\\dots$ \\\\\n",
       "\t6 & 29-FEB-2008 & 9 & 10 & 5 & 0 & 5 & 15 & 15 & 15 & 5 & $\\dots$ \\\\\n",
       "\t7 & 29-FEB-2008 & 10 & 5 & 0 & 5 & 5 & 5 & 10 & 0 & 10 & $\\dots$ \\\\\n",
       "\t8 & 29-FEB-2008 & 11 & 30 & 20 & 25 & 60 & 60 & 60 & 30 & 25 & $\\dots$ \\\\\n",
       "\t9 & 29-FEB-2008 & 12 & 15 & 10 & 5 & 5 & 35 & 20 & 5 & 10 & $\\dots$ \\\\\n",
       "\t10 & 08-FEB-2005 & 13 & 10 & 5 & 10 & 45 & 50 & 35 & 30 & 10 & $\\dots$ \\\\\n",
       "\t11 & 29-FEB-2008 & 14 & 15 & 5 & 10 & 55 & 60 & 75 & 75 & 15 & $\\dots$ \\\\\n",
       "\t12 & 29-FEB-2008 & 15 & 15 & 15 & 15 & 30 & 60 & 45 & 15 & 20 & $\\dots$ \\\\\n",
       "\t13 & 29-FEB-2008 & 17 & 15 & 10 & 5 & 10 & 40 & 20 & 10 & 15 & $\\dots$ \\\\\n",
       "\t14 & 08-FEB-2006 & 18 & 10 & 10 & 5 & 35 & 40 & 35 & 10 & 10 & $\\dots$ \\\\\n",
       "\t15 & 12-FEB-2007 & 20 & 15 & 5 & 10 & 50 & 50 & 15 & 20 & 15 & $\\dots$ \\\\\n",
       "\t16 & 22-FEB-2006 & 21 & 5 & 0 & 5 & 20 & 10 & 25 & 0 & 5 & $\\dots$ \\\\\n",
       "\t17 & 29-FEB-2008 & 22 & 15 & 5 & 5 & 15 & 15 & 40 & 15 & 10 & $\\dots$ \\\\\n",
       "\t18 & 29-FEB-2008 & 23 & 10 & 10 & 5 & 5 & 20 & 20 & 15 & 10 & $\\dots$ \\\\\n",
       "\t19 & 22-FEB-2006 & 24 & 5 & 0 & 0 & 0 & 5 & 10 & 0 & 0 & $\\dots$ \\\\\n",
       "\t20 & 12-FEB-2007 & 26 & 15 & 5 & 15 & 25 & 35 & 20 & 5 & 10 & $\\dots$ \\\\\n",
       "\t21 & 12-FEB-2007 & 27 & 10 & 5 & 5 & 10 & 5 & 0 & 5 & 10 & $\\dots$ \\\\\n",
       "\t22 & 29-FEB-2008 & 29 & 20 & 15 & 15 & 20 & 25 & 25 & 10 & 15 & $\\dots$ \\\\\n",
       "\t23 & 12-FEB-2007 & 30 & 25 & 20 & 15 & 10 & 10 & 30 & 15 & 25 & $\\dots$ \\\\\n",
       "\t24 & 29-FEB-2008 & 31 & 20 & 15 & 20 & 20 & 25 & 40 & 10 & 15 & $\\dots$ \\\\\n",
       "\t25 & 29-FEB-2008 & 32 & 10 & 0 & 10 & 5 & 5 & 25 & 15 & 10 & $\\dots$ \\\\\n",
       "\t26 & 12-FEB-2007 & 33 & 15 & 10 & 5 & 10 & 5 & 15 & 20 & 10 & $\\dots$ \\\\\n",
       "\t27 & 29-FEB-2008 & 34 & 15 & 15 & 10 & 15 & 5 & 20 & 20 & 15 & $\\dots$ \\\\\n",
       "\t28 & 29-FEB-2008 & 35 & 10 & 15 & 30 & 40 & 55 & 45 & 45 & 15 & $\\dots$ \\\\\n",
       "\t29 & 29-FEB-2008 & 37 & 10 & 5 & 0 & 20 & 10 & 20 & 10 & 10 & $\\dots$ \\\\\n",
       "\t30 & 29-FEB-2008 & 39 & 5 & 5 & 10 & 25 & 15 & 20 & 10 & 5 & $\\dots$ \\\\\n",
       "\t$\\dots$ & $\\dots$ & $\\dots$ & $\\dots$ & $\\dots$ & $\\dots$ & $\\dots$ & $\\dots$ & $\\dots$ & $\\dots$ & $\\dots$ &  \\\\\n",
       "\\end{tabular}\n"
      ],
      "text/plain": [
       "\u001b[1m5000×21 DataFrame\u001b[0m\n",
       "\u001b[1m  Row \u001b[0m│\u001b[1m test_date   \u001b[0m\u001b[1m nid   \u001b[0m\u001b[1m L500k  \u001b[0m\u001b[1m L1k    \u001b[0m\u001b[1m L2k    \u001b[0m\u001b[1m L3k    \u001b[0m\u001b[1m L4k    \u001b[0m\u001b[1m L6k    \u001b[0m\u001b[1m L8\u001b[0m ⋯\n",
       "      │\u001b[90m String15    \u001b[0m\u001b[90m Int64 \u001b[0m\u001b[90m Int64? \u001b[0m\u001b[90m Int64? \u001b[0m\u001b[90m Int64? \u001b[0m\u001b[90m Int64? \u001b[0m\u001b[90m Int64? \u001b[0m\u001b[90m Int64? \u001b[0m\u001b[90m In\u001b[0m ⋯\n",
       "──────┼─────────────────────────────────────────────────────────────────────────\n",
       "    1 │ 12-FEB-2007      1      10       5       5      15       5       0     ⋯\n",
       "    2 │ 29-FEB-2008      2      15       5      15      20      20      15\n",
       "    3 │ 08-FEB-2006      3      25      20      15      20      35      25\n",
       "    4 │ 29-FEB-2008      6      10      10      10      35      50      30\n",
       "    5 │ 08-FEB-2006      8      15      15       5      15      45      30     ⋯\n",
       "    6 │ 29-FEB-2008      9      10       5       0       5      15      15\n",
       "    7 │ 29-FEB-2008     10       5       0       5       5       5      10\n",
       "    8 │ 29-FEB-2008     11      30      20      25      60      60      60\n",
       "    9 │ 29-FEB-2008     12      15      10       5       5      35      20     ⋯\n",
       "   10 │ 08-FEB-2005     13      10       5      10      45      50      35\n",
       "   11 │ 29-FEB-2008     14      15       5      10      55      60      75\n",
       "  ⋮   │      ⋮         ⋮      ⋮       ⋮       ⋮       ⋮       ⋮       ⋮        ⋱\n",
       " 4991 │ 28-OCT-2004   8348       5       0       5       5       5       0\n",
       " 4992 │ 28-OCT-2004   8350      15      20      35      45      45      35     ⋯\n",
       " 4993 │ 28-OCT-2004   8351       5       5       0       0       0       5\n",
       " 4994 │ 28-OCT-2004   8352      15      15      15      25      25      30\n",
       " 4995 │ 28-OCT-2004   8353      20      20      15      15      20      10\n",
       " 4996 │ 28-NOV-2007   8354      15       5      10      10       5      20     ⋯\n",
       " 4997 │ 28-OCT-2004   8355      10       5      15      10      25      45\n",
       " 4998 │ 13-DEC-2005   8356      10       5       5       5       0      20\n",
       " 4999 │ 28-OCT-2004   8357      15      15      15      10      15      15\n",
       " 5000 │ 28-OCT-2004   8359      10       5      10       5      10      10     ⋯\n",
       "\u001b[36m                                                13 columns and 4979 rows omitted\u001b[0m"
      ]
     },
     "execution_count": 14,
     "metadata": {},
     "output_type": "execute_result"
    }
   ],
   "source": [
    "using CSV, DataFrames, Plots\n",
    "\n",
    "df = CSV.read(\"..\\\\data\\\\raw\\\\Paper1_WebData_Final.csv\", DataFrame) \n",
    "\n",
    "first(df, 5000) "
   ]
  },
  {
   "cell_type": "code",
   "execution_count": 7,
   "id": "4a27d2ee-5013-43ca-af62-a05074366dbc",
   "metadata": {},
   "outputs": [
    {
     "data": {
      "text/plain": [
       "21-element Vector{String}:\n",
       " \"test_date\"\n",
       " \"nid\"\n",
       " \"L500k\"\n",
       " \"L1k\"\n",
       " \"L2k\"\n",
       " \"L3k\"\n",
       " \"L4k\"\n",
       " \"L6k\"\n",
       " \"L8k\"\n",
       " \"R500k\"\n",
       " \"R1k\"\n",
       " \"R2k\"\n",
       " \"R3k\"\n",
       " \"R4k\"\n",
       " \"R6k\"\n",
       " \"R8k\"\n",
       " \"gender\"\n",
       " \"naics\"\n",
       " \"age_group\"\n",
       " \"region\"\n",
       " \"NAICS_descr\""
      ]
     },
     "execution_count": 7,
     "metadata": {},
     "output_type": "execute_result"
    }
   ],
   "source": [
    "names(df)"
   ]
  },
  {
   "cell_type": "code",
   "execution_count": 12,
   "id": "036cbbe3-09c8-4d1e-9b83-83f7e60ba76a",
   "metadata": {},
   "outputs": [
    {
     "data": {
      "text/plain": [
       "21-element Vector{Type}:\n",
       " String15\n",
       " Int64\n",
       " Union{Missing, Int64}\n",
       " Union{Missing, Int64}\n",
       " Union{Missing, Int64}\n",
       " Union{Missing, Int64}\n",
       " Union{Missing, Int64}\n",
       " Union{Missing, Int64}\n",
       " Union{Missing, Int64}\n",
       " Union{Missing, Int64}\n",
       " Union{Missing, Int64}\n",
       " Union{Missing, Int64}\n",
       " Union{Missing, Int64}\n",
       " Union{Missing, Int64}\n",
       " Union{Missing, Int64}\n",
       " Union{Missing, Int64}\n",
       " Union{Missing, String1}\n",
       " Int64\n",
       " Int64\n",
       " Union{Missing, String3}\n",
       " String"
      ]
     },
     "execution_count": 12,
     "metadata": {},
     "output_type": "execute_result"
    }
   ],
   "source": [
    "eltype.(eachcol(df))"
   ]
  },
  {
   "cell_type": "code",
   "execution_count": 13,
   "id": "885e0436-8d85-4ff9-a767-5b80ff001084",
   "metadata": {},
   "outputs": [
    {
     "data": {
      "text/plain": [
       "(1114966, 21)"
      ]
     },
     "execution_count": 13,
     "metadata": {},
     "output_type": "execute_result"
    }
   ],
   "source": [
    "size(df)"
   ]
  },
  {
   "cell_type": "code",
   "execution_count": null,
   "id": "ca572e42-ea88-4868-831d-78dbcdce5293",
   "metadata": {},
   "outputs": [],
   "source": []
  }
 ],
 "metadata": {
  "kernelspec": {
   "display_name": "Julia 1.11.6",
   "language": "julia",
   "name": "julia-1.11"
  },
  "language_info": {
   "file_extension": ".jl",
   "mimetype": "application/julia",
   "name": "julia",
   "version": "1.11.6"
  }
 },
 "nbformat": 4,
 "nbformat_minor": 5
}
