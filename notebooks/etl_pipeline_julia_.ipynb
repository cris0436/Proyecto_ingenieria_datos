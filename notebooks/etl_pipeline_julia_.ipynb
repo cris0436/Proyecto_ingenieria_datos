{
 "cells": [
  {
   "cell_type": "markdown",
   "id": "8ec8fbee",
   "metadata": {},
   "source": [
    "# Extraccion de datos de las pruebas de audicion.\n",
    "\n",
    "Como primer paso instalamos las librerias necesarias para realizar el procesos ETL."
   ]
  },
  {
   "cell_type": "code",
   "execution_count": 1,
   "id": "b1991e54",
   "metadata": {},
   "outputs": [
    {
     "ename": "ArgumentError",
     "evalue": "ArgumentError: Package JSON3 not found in current path.\n- Run `import Pkg; Pkg.add(\"JSON3\")` to install the JSON3 package.",
     "output_type": "error",
     "traceback": [
      "ArgumentError: Package JSON3 not found in current path.\n",
      "- Run `import Pkg; Pkg.add(\"JSON3\")` to install the JSON3 package.\n",
      "\n",
      "Stacktrace:\n",
      "  [1] macro expansion\n",
      "    @ .\\loading.jl:2296 [inlined]\n",
      "  [2] macro expansion\n",
      "    @ .\\lock.jl:273 [inlined]\n",
      "  [3] __require(into::Module, mod::Symbol)\n",
      "    @ Base .\\loading.jl:2271\n",
      "  [4] #invoke_in_world#3\n",
      "    @ .\\essentials.jl:1089 [inlined]\n",
      "  [5] invoke_in_world\n",
      "    @ .\\essentials.jl:1086 [inlined]\n",
      "  [6] require(into::Module, mod::Symbol)\n",
      "    @ Base .\\loading.jl:2260\n",
      "  [7] eval\n",
      "    @ .\\boot.jl:430 [inlined]\n",
      "  [8] include_string(mapexpr::typeof(REPL.softscope), mod::Module, code::String, filename::String)\n",
      "    @ Base .\\loading.jl:2734\n",
      "  [9] #invokelatest#2\n",
      "    @ .\\essentials.jl:1055 [inlined]\n",
      " [10] invokelatest\n",
      "    @ .\\essentials.jl:1052 [inlined]\n",
      " [11] (::VSCodeServer.var\"#217#218\"{VSCodeServer.NotebookRunCellArguments, String})()\n",
      "    @ VSCodeServer c:\\Users\\USUARIO\\.vscode\\extensions\\julialang.language-julia-1.149.2\\scripts\\packages\\VSCodeServer\\src\\serve_notebook.jl:24\n",
      " [12] withpath(f::VSCodeServer.var\"#217#218\"{VSCodeServer.NotebookRunCellArguments, String}, path::String)\n",
      "    @ VSCodeServer c:\\Users\\USUARIO\\.vscode\\extensions\\julialang.language-julia-1.149.2\\scripts\\packages\\VSCodeServer\\src\\repl.jl:276\n",
      " [13] notebook_runcell_request(conn::VSCodeServer.JSONRPC.JSONRPCEndpoint{Base.PipeEndpoint, Base.PipeEndpoint, VSCodeServer.JSON.Serializations.StandardSerialization}, params::VSCodeServer.NotebookRunCellArguments, token::VSCodeServer.CancellationTokens.CancellationToken)\n",
      "    @ VSCodeServer c:\\Users\\USUARIO\\.vscode\\extensions\\julialang.language-julia-1.149.2\\scripts\\packages\\VSCodeServer\\src\\serve_notebook.jl:13\n",
      " [14] dispatch_msg(x::VSCodeServer.JSONRPC.JSONRPCEndpoint{Base.PipeEndpoint, Base.PipeEndpoint, VSCodeServer.JSON.Serializations.StandardSerialization}, dispatcher::VSCodeServer.JSONRPC.MsgDispatcher, msg::VSCodeServer.JSONRPC.Request)\n",
      "    @ VSCodeServer.JSONRPC c:\\Users\\USUARIO\\.vscode\\extensions\\julialang.language-julia-1.149.2\\scripts\\packages\\JSONRPC\\src\\typed.jl:68\n",
      " [15] serve_notebook(pipename::String, debugger_pipename::String, outputchannel_logger::Base.CoreLogging.SimpleLogger; error_handler::var\"#5#10\"{String})\n",
      "    @ VSCodeServer c:\\Users\\USUARIO\\.vscode\\extensions\\julialang.language-julia-1.149.2\\scripts\\packages\\VSCodeServer\\src\\serve_notebook.jl:147\n",
      " [16] top-level scope\n",
      "    @ c:\\Users\\USUARIO\\.vscode\\extensions\\julialang.language-julia-1.149.2\\scripts\\notebook\\notebook.jl:35"
     ]
    }
   ],
   "source": [
    "# Instalar paquetes necesarios (ejecutar solo la primera vez)\n",
    "# test push\n",
    "using Pkg\n",
    "# Pkg.add([\"DataFrames\", \"CSV\", \"Dates\", \"JSON3\", \"Logging\", \"Statistics\"])\n",
    "\n",
    "# Cargar librerías\n",
    "using DataFrames        # Manipulación y análisis de datos\n",
    "using CSV              # Lectura y escritura de archivos CSV\n",
    "using Dates            # Manejo de fechas y tiempos\n",
    "using JSON3            # Manejo de datos JSON\n",
    "using Logging          # Sistema de logs\n",
    "using Statistics       # Funciones estadísticas básicas\n",
    "\n",
    "# Configuración de logging para monitorear el pipeline\n",
    "logger = ConsoleLogger(stdout, Logging.Info)\n",
    "global_logger(logger)\n",
    "\n",
    "println(\"✅ Librerías cargadas exitosamente\")"
   ]
  },
  {
   "cell_type": "markdown",
   "id": "765809d1",
   "metadata": {},
   "source": [
    "# Instalar paquetes necesarios (ejecutar solo la primera vez)\n",
    "# Pkg.add([\"DataFrames\", \"CSV\", \"Dates\", \"JSON3\", \"Logging\", \"Statistics\"])\n",
    "\n",
    "# Cargar librerías\n"
   ]
  },
  {
   "cell_type": "code",
   "execution_count": 2,
   "id": "76f157fc",
   "metadata": {},
   "outputs": [
    {
     "name": "stdout",
     "output_type": "stream",
     "text": [
      "✅ Datos cargados exitosamente\n"
     ]
    }
   ],
   "source": [
    "df = CSV.read(\"..\\\\data\\\\raw\\\\Paper1_WebData_Final.csv\", DataFrame) \n",
    "println(\"✅ Datos cargados exitosamente\")"
   ]
  },
  {
   "cell_type": "markdown",
   "id": "2bd6ba97",
   "metadata": {},
   "source": [
    "# 1. Extracción de datos\n",
    "Como primer paso del proceso ETL (Extracción, Transformación y Carga), se procede a extraer la información más relevante desde nuestra base de datos. Esta etapa consiste en identificar y recuperar los datos necesarios que serán utilizados en las siguientes fases del proceso, asegurando que se obtenga información precisa y útil para el análisis posterior."
   ]
  },
  {
   "cell_type": "markdown",
   "id": "e6cf68a3",
   "metadata": {},
   "source": [
    "# Primer vistazo a los datos\n",
    "\n",
    "Antes de realizar cualquier transformación, es útil observar una muestra de los datos contenidos en la base de datos. Para ello, utilizamos la función first, que nos permite visualizar las primeras filas del DataFrame y así tener una idea general de su contenido, estructura y posibles inconsistencias."
   ]
  },
  {
   "cell_type": "code",
   "execution_count": 15,
   "id": "6068b149",
   "metadata": {},
   "outputs": [
    {
     "data": {
      "text/html": [
       "<div><div style = \"float: left;\"><span>20×21 DataFrame</span></div><div style = \"clear: both;\"></div></div><div class = \"data-frame\" style = \"overflow-x: scroll;\"><table class = \"data-frame\" style = \"margin-bottom: 6px;\"><thead><tr class = \"header\"><th class = \"rowNumber\" style = \"font-weight: bold; text-align: right;\">Row</th><th style = \"text-align: left;\">test_date</th><th style = \"text-align: left;\">nid</th><th style = \"text-align: left;\">L500k</th><th style = \"text-align: left;\">L1k</th><th style = \"text-align: left;\">L2k</th><th style = \"text-align: left;\">L3k</th><th style = \"text-align: left;\">L4k</th><th style = \"text-align: left;\">L6k</th><th style = \"text-align: left;\">L8k</th><th style = \"text-align: left;\">R500k</th><th style = \"text-align: left;\">R1k</th><th style = \"text-align: left;\">R2k</th><th style = \"text-align: left;\">R3k</th><th style = \"text-align: left;\">R4k</th><th style = \"text-align: left;\">R6k</th><th style = \"text-align: left;\">R8k</th><th style = \"text-align: left;\">gender</th><th style = \"text-align: left;\">naics</th><th style = \"text-align: left;\">age_group</th><th style = \"text-align: left;\">region</th><th style = \"text-align: left;\">NAICS_descr</th></tr><tr class = \"subheader headerLastRow\"><th class = \"rowNumber\" style = \"font-weight: bold; text-align: right;\"></th><th title = \"String15\" style = \"text-align: left;\">String15</th><th title = \"Int64\" style = \"text-align: left;\">Int64</th><th title = \"Union{Missing, Int64}\" style = \"text-align: left;\">Int64?</th><th title = \"Union{Missing, Int64}\" style = \"text-align: left;\">Int64?</th><th title = \"Union{Missing, Int64}\" style = \"text-align: left;\">Int64?</th><th title = \"Union{Missing, Int64}\" style = \"text-align: left;\">Int64?</th><th title = \"Union{Missing, Int64}\" style = \"text-align: left;\">Int64?</th><th title = \"Union{Missing, Int64}\" style = \"text-align: left;\">Int64?</th><th title = \"Union{Missing, Int64}\" style = \"text-align: left;\">Int64?</th><th title = \"Union{Missing, Int64}\" style = \"text-align: left;\">Int64?</th><th title = \"Union{Missing, Int64}\" style = \"text-align: left;\">Int64?</th><th title = \"Union{Missing, Int64}\" style = \"text-align: left;\">Int64?</th><th title = \"Union{Missing, Int64}\" style = \"text-align: left;\">Int64?</th><th title = \"Union{Missing, Int64}\" style = \"text-align: left;\">Int64?</th><th title = \"Union{Missing, Int64}\" style = \"text-align: left;\">Int64?</th><th title = \"Union{Missing, Int64}\" style = \"text-align: left;\">Int64?</th><th title = \"Union{Missing, String1}\" style = \"text-align: left;\">String1?</th><th title = \"Int64\" style = \"text-align: left;\">Int64</th><th title = \"Int64\" style = \"text-align: left;\">Int64</th><th title = \"Union{Missing, String3}\" style = \"text-align: left;\">String3?</th><th title = \"String\" style = \"text-align: left;\">String</th></tr></thead><tbody><tr><td class = \"rowNumber\" style = \"font-weight: bold; text-align: right;\">1</td><td style = \"text-align: left;\">12-FEB-2007</td><td style = \"text-align: right;\">1</td><td style = \"text-align: right;\">10</td><td style = \"text-align: right;\">5</td><td style = \"text-align: right;\">5</td><td style = \"text-align: right;\">15</td><td style = \"text-align: right;\">5</td><td style = \"text-align: right;\">0</td><td style = \"text-align: right;\">20</td><td style = \"text-align: right;\">20</td><td style = \"text-align: right;\">20</td><td style = \"text-align: right;\">10</td><td style = \"text-align: right;\">10</td><td style = \"text-align: right;\">25</td><td style = \"text-align: right;\">30</td><td style = \"text-align: right;\">45</td><td style = \"text-align: left;\">M</td><td style = \"text-align: right;\">331512</td><td style = \"text-align: right;\">4</td><td style = \"text-align: left;\">MA</td><td style = \"text-align: left;\">Steel Investment Foundries</td></tr><tr><td class = \"rowNumber\" style = \"font-weight: bold; text-align: right;\">2</td><td style = \"text-align: left;\">29-FEB-2008</td><td style = \"text-align: right;\">2</td><td style = \"text-align: right;\">15</td><td style = \"text-align: right;\">5</td><td style = \"text-align: right;\">15</td><td style = \"text-align: right;\">20</td><td style = \"text-align: right;\">20</td><td style = \"text-align: right;\">15</td><td style = \"text-align: right;\">15</td><td style = \"text-align: right;\">10</td><td style = \"text-align: right;\">0</td><td style = \"text-align: right;\">10</td><td style = \"text-align: right;\">15</td><td style = \"text-align: right;\">30</td><td style = \"text-align: right;\">20</td><td style = \"text-align: right;\">15</td><td style = \"text-align: left;\">M</td><td style = \"text-align: right;\">331512</td><td style = \"text-align: right;\">3</td><td style = \"text-align: left;\">MA</td><td style = \"text-align: left;\">Steel Investment Foundries</td></tr><tr><td class = \"rowNumber\" style = \"font-weight: bold; text-align: right;\">3</td><td style = \"text-align: left;\">08-FEB-2006</td><td style = \"text-align: right;\">3</td><td style = \"text-align: right;\">25</td><td style = \"text-align: right;\">20</td><td style = \"text-align: right;\">15</td><td style = \"text-align: right;\">20</td><td style = \"text-align: right;\">35</td><td style = \"text-align: right;\">25</td><td style = \"text-align: right;\">15</td><td style = \"text-align: right;\">20</td><td style = \"text-align: right;\">20</td><td style = \"text-align: right;\">10</td><td style = \"text-align: right;\">15</td><td style = \"text-align: right;\">40</td><td style = \"text-align: right;\">30</td><td style = \"text-align: right;\">30</td><td style = \"text-align: left;\">M</td><td style = \"text-align: right;\">331512</td><td style = \"text-align: right;\">3</td><td style = \"text-align: left;\">MA</td><td style = \"text-align: left;\">Steel Investment Foundries</td></tr><tr><td class = \"rowNumber\" style = \"font-weight: bold; text-align: right;\">4</td><td style = \"text-align: left;\">29-FEB-2008</td><td style = \"text-align: right;\">6</td><td style = \"text-align: right;\">10</td><td style = \"text-align: right;\">10</td><td style = \"text-align: right;\">10</td><td style = \"text-align: right;\">35</td><td style = \"text-align: right;\">50</td><td style = \"text-align: right;\">30</td><td style = \"text-align: right;\">10</td><td style = \"text-align: right;\">10</td><td style = \"text-align: right;\">10</td><td style = \"text-align: right;\">5</td><td style = \"text-align: right;\">30</td><td style = \"text-align: right;\">35</td><td style = \"text-align: right;\">25</td><td style = \"text-align: right;\">20</td><td style = \"text-align: left;\">M</td><td style = \"text-align: right;\">331512</td><td style = \"text-align: right;\">4</td><td style = \"text-align: left;\">MA</td><td style = \"text-align: left;\">Steel Investment Foundries</td></tr><tr><td class = \"rowNumber\" style = \"font-weight: bold; text-align: right;\">5</td><td style = \"text-align: left;\">08-FEB-2006</td><td style = \"text-align: right;\">8</td><td style = \"text-align: right;\">15</td><td style = \"text-align: right;\">15</td><td style = \"text-align: right;\">5</td><td style = \"text-align: right;\">15</td><td style = \"text-align: right;\">45</td><td style = \"text-align: right;\">30</td><td style = \"text-align: right;\">20</td><td style = \"text-align: right;\">15</td><td style = \"text-align: right;\">15</td><td style = \"text-align: right;\">5</td><td style = \"text-align: right;\">40</td><td style = \"text-align: right;\">50</td><td style = \"text-align: right;\">20</td><td style = \"text-align: right;\">5</td><td style = \"text-align: left;\">M</td><td style = \"text-align: right;\">331512</td><td style = \"text-align: right;\">3</td><td style = \"text-align: left;\">MA</td><td style = \"text-align: left;\">Steel Investment Foundries</td></tr><tr><td class = \"rowNumber\" style = \"font-weight: bold; text-align: right;\">6</td><td style = \"text-align: left;\">29-FEB-2008</td><td style = \"text-align: right;\">9</td><td style = \"text-align: right;\">10</td><td style = \"text-align: right;\">5</td><td style = \"text-align: right;\">0</td><td style = \"text-align: right;\">5</td><td style = \"text-align: right;\">15</td><td style = \"text-align: right;\">15</td><td style = \"text-align: right;\">15</td><td style = \"text-align: right;\">5</td><td style = \"text-align: right;\">0</td><td style = \"text-align: right;\">5</td><td style = \"text-align: right;\">5</td><td style = \"text-align: right;\">5</td><td style = \"text-align: right;\">5</td><td style = \"text-align: right;\">20</td><td style = \"text-align: left;\">M</td><td style = \"text-align: right;\">331512</td><td style = \"text-align: right;\">3</td><td style = \"text-align: left;\">MA</td><td style = \"text-align: left;\">Steel Investment Foundries</td></tr><tr><td class = \"rowNumber\" style = \"font-weight: bold; text-align: right;\">7</td><td style = \"text-align: left;\">29-FEB-2008</td><td style = \"text-align: right;\">10</td><td style = \"text-align: right;\">5</td><td style = \"text-align: right;\">0</td><td style = \"text-align: right;\">5</td><td style = \"text-align: right;\">5</td><td style = \"text-align: right;\">5</td><td style = \"text-align: right;\">10</td><td style = \"text-align: right;\">0</td><td style = \"text-align: right;\">10</td><td style = \"text-align: right;\">5</td><td style = \"text-align: right;\">5</td><td style = \"text-align: right;\">5</td><td style = \"text-align: right;\">5</td><td style = \"text-align: right;\">5</td><td style = \"text-align: right;\">0</td><td style = \"text-align: left;\">M</td><td style = \"text-align: right;\">331512</td><td style = \"text-align: right;\">2</td><td style = \"text-align: left;\">MA</td><td style = \"text-align: left;\">Steel Investment Foundries</td></tr><tr><td class = \"rowNumber\" style = \"font-weight: bold; text-align: right;\">8</td><td style = \"text-align: left;\">29-FEB-2008</td><td style = \"text-align: right;\">11</td><td style = \"text-align: right;\">30</td><td style = \"text-align: right;\">20</td><td style = \"text-align: right;\">25</td><td style = \"text-align: right;\">60</td><td style = \"text-align: right;\">60</td><td style = \"text-align: right;\">60</td><td style = \"text-align: right;\">30</td><td style = \"text-align: right;\">25</td><td style = \"text-align: right;\">20</td><td style = \"text-align: right;\">35</td><td style = \"text-align: right;\">65</td><td style = \"text-align: right;\">65</td><td style = \"text-align: right;\">70</td><td style = \"text-align: right;\">50</td><td style = \"text-align: left;\">M</td><td style = \"text-align: right;\">331512</td><td style = \"text-align: right;\">5</td><td style = \"text-align: left;\">MA</td><td style = \"text-align: left;\">Steel Investment Foundries</td></tr><tr><td class = \"rowNumber\" style = \"font-weight: bold; text-align: right;\">9</td><td style = \"text-align: left;\">29-FEB-2008</td><td style = \"text-align: right;\">12</td><td style = \"text-align: right;\">15</td><td style = \"text-align: right;\">10</td><td style = \"text-align: right;\">5</td><td style = \"text-align: right;\">5</td><td style = \"text-align: right;\">35</td><td style = \"text-align: right;\">20</td><td style = \"text-align: right;\">5</td><td style = \"text-align: right;\">10</td><td style = \"text-align: right;\">15</td><td style = \"text-align: right;\">5</td><td style = \"text-align: right;\">25</td><td style = \"text-align: right;\">40</td><td style = \"text-align: right;\">10</td><td style = \"text-align: right;\">20</td><td style = \"text-align: left;\">M</td><td style = \"text-align: right;\">331512</td><td style = \"text-align: right;\">3</td><td style = \"text-align: left;\">MA</td><td style = \"text-align: left;\">Steel Investment Foundries</td></tr><tr><td class = \"rowNumber\" style = \"font-weight: bold; text-align: right;\">10</td><td style = \"text-align: left;\">08-FEB-2005</td><td style = \"text-align: right;\">13</td><td style = \"text-align: right;\">10</td><td style = \"text-align: right;\">5</td><td style = \"text-align: right;\">10</td><td style = \"text-align: right;\">45</td><td style = \"text-align: right;\">50</td><td style = \"text-align: right;\">35</td><td style = \"text-align: right;\">30</td><td style = \"text-align: right;\">10</td><td style = \"text-align: right;\">10</td><td style = \"text-align: right;\">10</td><td style = \"text-align: right;\">10</td><td style = \"text-align: right;\">20</td><td style = \"text-align: right;\">5</td><td style = \"text-align: right;\">20</td><td style = \"text-align: left;\">M</td><td style = \"text-align: right;\">331512</td><td style = \"text-align: right;\">5</td><td style = \"text-align: left;\">MA</td><td style = \"text-align: left;\">Steel Investment Foundries</td></tr><tr><td class = \"rowNumber\" style = \"font-weight: bold; text-align: right;\">11</td><td style = \"text-align: left;\">29-FEB-2008</td><td style = \"text-align: right;\">14</td><td style = \"text-align: right;\">15</td><td style = \"text-align: right;\">5</td><td style = \"text-align: right;\">10</td><td style = \"text-align: right;\">55</td><td style = \"text-align: right;\">60</td><td style = \"text-align: right;\">75</td><td style = \"text-align: right;\">75</td><td style = \"text-align: right;\">15</td><td style = \"text-align: right;\">5</td><td style = \"text-align: right;\">20</td><td style = \"text-align: right;\">65</td><td style = \"text-align: right;\">65</td><td style = \"text-align: right;\">75</td><td style = \"text-align: right;\">80</td><td style = \"text-align: left;\">M</td><td style = \"text-align: right;\">331512</td><td style = \"text-align: right;\">5</td><td style = \"text-align: left;\">MA</td><td style = \"text-align: left;\">Steel Investment Foundries</td></tr><tr><td class = \"rowNumber\" style = \"font-weight: bold; text-align: right;\">12</td><td style = \"text-align: left;\">29-FEB-2008</td><td style = \"text-align: right;\">15</td><td style = \"text-align: right;\">15</td><td style = \"text-align: right;\">15</td><td style = \"text-align: right;\">15</td><td style = \"text-align: right;\">30</td><td style = \"text-align: right;\">60</td><td style = \"text-align: right;\">45</td><td style = \"text-align: right;\">15</td><td style = \"text-align: right;\">20</td><td style = \"text-align: right;\">10</td><td style = \"text-align: right;\">5</td><td style = \"text-align: right;\">35</td><td style = \"text-align: right;\">45</td><td style = \"text-align: right;\">60</td><td style = \"text-align: right;\">25</td><td style = \"text-align: left;\">M</td><td style = \"text-align: right;\">331512</td><td style = \"text-align: right;\">4</td><td style = \"text-align: left;\">MA</td><td style = \"text-align: left;\">Steel Investment Foundries</td></tr><tr><td class = \"rowNumber\" style = \"font-weight: bold; text-align: right;\">13</td><td style = \"text-align: left;\">29-FEB-2008</td><td style = \"text-align: right;\">17</td><td style = \"text-align: right;\">15</td><td style = \"text-align: right;\">10</td><td style = \"text-align: right;\">5</td><td style = \"text-align: right;\">10</td><td style = \"text-align: right;\">40</td><td style = \"text-align: right;\">20</td><td style = \"text-align: right;\">10</td><td style = \"text-align: right;\">15</td><td style = \"text-align: right;\">5</td><td style = \"text-align: right;\">0</td><td style = \"text-align: right;\">20</td><td style = \"text-align: right;\">5</td><td style = \"text-align: right;\">25</td><td style = \"text-align: right;\">5</td><td style = \"text-align: left;\">M</td><td style = \"text-align: right;\">331512</td><td style = \"text-align: right;\">2</td><td style = \"text-align: left;\">MA</td><td style = \"text-align: left;\">Steel Investment Foundries</td></tr><tr><td class = \"rowNumber\" style = \"font-weight: bold; text-align: right;\">14</td><td style = \"text-align: left;\">08-FEB-2006</td><td style = \"text-align: right;\">18</td><td style = \"text-align: right;\">10</td><td style = \"text-align: right;\">10</td><td style = \"text-align: right;\">5</td><td style = \"text-align: right;\">35</td><td style = \"text-align: right;\">40</td><td style = \"text-align: right;\">35</td><td style = \"text-align: right;\">10</td><td style = \"text-align: right;\">10</td><td style = \"text-align: right;\">5</td><td style = \"text-align: right;\">0</td><td style = \"text-align: right;\">10</td><td style = \"text-align: right;\">20</td><td style = \"text-align: right;\">30</td><td style = \"text-align: right;\">10</td><td style = \"text-align: left;\">M</td><td style = \"text-align: right;\">331512</td><td style = \"text-align: right;\">2</td><td style = \"text-align: left;\">MA</td><td style = \"text-align: left;\">Steel Investment Foundries</td></tr><tr><td class = \"rowNumber\" style = \"font-weight: bold; text-align: right;\">15</td><td style = \"text-align: left;\">12-FEB-2007</td><td style = \"text-align: right;\">20</td><td style = \"text-align: right;\">15</td><td style = \"text-align: right;\">5</td><td style = \"text-align: right;\">10</td><td style = \"text-align: right;\">50</td><td style = \"text-align: right;\">50</td><td style = \"text-align: right;\">15</td><td style = \"text-align: right;\">20</td><td style = \"text-align: right;\">15</td><td style = \"text-align: right;\">10</td><td style = \"text-align: right;\">10</td><td style = \"text-align: right;\">35</td><td style = \"text-align: right;\">50</td><td style = \"text-align: right;\">15</td><td style = \"text-align: right;\">10</td><td style = \"text-align: left;\">M</td><td style = \"text-align: right;\">331512</td><td style = \"text-align: right;\">4</td><td style = \"text-align: left;\">MA</td><td style = \"text-align: left;\">Steel Investment Foundries</td></tr><tr><td class = \"rowNumber\" style = \"font-weight: bold; text-align: right;\">16</td><td style = \"text-align: left;\">22-FEB-2006</td><td style = \"text-align: right;\">21</td><td style = \"text-align: right;\">5</td><td style = \"text-align: right;\">0</td><td style = \"text-align: right;\">5</td><td style = \"text-align: right;\">20</td><td style = \"text-align: right;\">10</td><td style = \"text-align: right;\">25</td><td style = \"text-align: right;\">0</td><td style = \"text-align: right;\">5</td><td style = \"text-align: right;\">0</td><td style = \"text-align: right;\">0</td><td style = \"text-align: right;\">5</td><td style = \"text-align: right;\">5</td><td style = \"text-align: right;\">15</td><td style = \"text-align: right;\">10</td><td style = \"text-align: left;\">M</td><td style = \"text-align: right;\">331512</td><td style = \"text-align: right;\">4</td><td style = \"text-align: left;\">MA</td><td style = \"text-align: left;\">Steel Investment Foundries</td></tr><tr><td class = \"rowNumber\" style = \"font-weight: bold; text-align: right;\">17</td><td style = \"text-align: left;\">29-FEB-2008</td><td style = \"text-align: right;\">22</td><td style = \"text-align: right;\">15</td><td style = \"text-align: right;\">5</td><td style = \"text-align: right;\">5</td><td style = \"text-align: right;\">15</td><td style = \"text-align: right;\">15</td><td style = \"text-align: right;\">40</td><td style = \"text-align: right;\">15</td><td style = \"text-align: right;\">10</td><td style = \"text-align: right;\">10</td><td style = \"text-align: right;\">5</td><td style = \"text-align: right;\">10</td><td style = \"text-align: right;\">15</td><td style = \"text-align: right;\">20</td><td style = \"text-align: right;\">20</td><td style = \"text-align: left;\">M</td><td style = \"text-align: right;\">331512</td><td style = \"text-align: right;\">4</td><td style = \"text-align: left;\">MA</td><td style = \"text-align: left;\">Steel Investment Foundries</td></tr><tr><td class = \"rowNumber\" style = \"font-weight: bold; text-align: right;\">18</td><td style = \"text-align: left;\">29-FEB-2008</td><td style = \"text-align: right;\">23</td><td style = \"text-align: right;\">10</td><td style = \"text-align: right;\">10</td><td style = \"text-align: right;\">5</td><td style = \"text-align: right;\">5</td><td style = \"text-align: right;\">20</td><td style = \"text-align: right;\">20</td><td style = \"text-align: right;\">15</td><td style = \"text-align: right;\">10</td><td style = \"text-align: right;\">5</td><td style = \"text-align: right;\">0</td><td style = \"text-align: right;\">5</td><td style = \"text-align: right;\">30</td><td style = \"text-align: right;\">10</td><td style = \"text-align: right;\">15</td><td style = \"text-align: left;\">M</td><td style = \"text-align: right;\">331512</td><td style = \"text-align: right;\">4</td><td style = \"text-align: left;\">MA</td><td style = \"text-align: left;\">Steel Investment Foundries</td></tr><tr><td class = \"rowNumber\" style = \"font-weight: bold; text-align: right;\">19</td><td style = \"text-align: left;\">22-FEB-2006</td><td style = \"text-align: right;\">24</td><td style = \"text-align: right;\">5</td><td style = \"text-align: right;\">0</td><td style = \"text-align: right;\">0</td><td style = \"text-align: right;\">0</td><td style = \"text-align: right;\">5</td><td style = \"text-align: right;\">10</td><td style = \"text-align: right;\">0</td><td style = \"text-align: right;\">0</td><td style = \"text-align: right;\">0</td><td style = \"text-align: right;\">0</td><td style = \"text-align: right;\">0</td><td style = \"text-align: right;\">10</td><td style = \"text-align: right;\">0</td><td style = \"text-align: right;\">5</td><td style = \"text-align: left;\">M</td><td style = \"text-align: right;\">331512</td><td style = \"text-align: right;\">3</td><td style = \"text-align: left;\">MA</td><td style = \"text-align: left;\">Steel Investment Foundries</td></tr><tr><td class = \"rowNumber\" style = \"font-weight: bold; text-align: right;\">20</td><td style = \"text-align: left;\">12-FEB-2007</td><td style = \"text-align: right;\">26</td><td style = \"text-align: right;\">15</td><td style = \"text-align: right;\">5</td><td style = \"text-align: right;\">15</td><td style = \"text-align: right;\">25</td><td style = \"text-align: right;\">35</td><td style = \"text-align: right;\">20</td><td style = \"text-align: right;\">5</td><td style = \"text-align: right;\">10</td><td style = \"text-align: right;\">15</td><td style = \"text-align: right;\">20</td><td style = \"text-align: right;\">25</td><td style = \"text-align: right;\">55</td><td style = \"text-align: right;\">15</td><td style = \"text-align: right;\">30</td><td style = \"text-align: left;\">M</td><td style = \"text-align: right;\">331512</td><td style = \"text-align: right;\">3</td><td style = \"text-align: left;\">MA</td><td style = \"text-align: left;\">Steel Investment Foundries</td></tr></tbody></table></div>"
      ],
      "text/latex": [
       "\\begin{tabular}{r|ccccccccccc}\n",
       "\t& test\\_date & nid & L500k & L1k & L2k & L3k & L4k & L6k & L8k & R500k & \\\\\n",
       "\t\\hline\n",
       "\t& String15 & Int64 & Int64? & Int64? & Int64? & Int64? & Int64? & Int64? & Int64? & Int64? & \\\\\n",
       "\t\\hline\n",
       "\t1 & 12-FEB-2007 & 1 & 10 & 5 & 5 & 15 & 5 & 0 & 20 & 20 & $\\dots$ \\\\\n",
       "\t2 & 29-FEB-2008 & 2 & 15 & 5 & 15 & 20 & 20 & 15 & 15 & 10 & $\\dots$ \\\\\n",
       "\t3 & 08-FEB-2006 & 3 & 25 & 20 & 15 & 20 & 35 & 25 & 15 & 20 & $\\dots$ \\\\\n",
       "\t4 & 29-FEB-2008 & 6 & 10 & 10 & 10 & 35 & 50 & 30 & 10 & 10 & $\\dots$ \\\\\n",
       "\t5 & 08-FEB-2006 & 8 & 15 & 15 & 5 & 15 & 45 & 30 & 20 & 15 & $\\dots$ \\\\\n",
       "\t6 & 29-FEB-2008 & 9 & 10 & 5 & 0 & 5 & 15 & 15 & 15 & 5 & $\\dots$ \\\\\n",
       "\t7 & 29-FEB-2008 & 10 & 5 & 0 & 5 & 5 & 5 & 10 & 0 & 10 & $\\dots$ \\\\\n",
       "\t8 & 29-FEB-2008 & 11 & 30 & 20 & 25 & 60 & 60 & 60 & 30 & 25 & $\\dots$ \\\\\n",
       "\t9 & 29-FEB-2008 & 12 & 15 & 10 & 5 & 5 & 35 & 20 & 5 & 10 & $\\dots$ \\\\\n",
       "\t10 & 08-FEB-2005 & 13 & 10 & 5 & 10 & 45 & 50 & 35 & 30 & 10 & $\\dots$ \\\\\n",
       "\t11 & 29-FEB-2008 & 14 & 15 & 5 & 10 & 55 & 60 & 75 & 75 & 15 & $\\dots$ \\\\\n",
       "\t12 & 29-FEB-2008 & 15 & 15 & 15 & 15 & 30 & 60 & 45 & 15 & 20 & $\\dots$ \\\\\n",
       "\t13 & 29-FEB-2008 & 17 & 15 & 10 & 5 & 10 & 40 & 20 & 10 & 15 & $\\dots$ \\\\\n",
       "\t14 & 08-FEB-2006 & 18 & 10 & 10 & 5 & 35 & 40 & 35 & 10 & 10 & $\\dots$ \\\\\n",
       "\t15 & 12-FEB-2007 & 20 & 15 & 5 & 10 & 50 & 50 & 15 & 20 & 15 & $\\dots$ \\\\\n",
       "\t16 & 22-FEB-2006 & 21 & 5 & 0 & 5 & 20 & 10 & 25 & 0 & 5 & $\\dots$ \\\\\n",
       "\t17 & 29-FEB-2008 & 22 & 15 & 5 & 5 & 15 & 15 & 40 & 15 & 10 & $\\dots$ \\\\\n",
       "\t18 & 29-FEB-2008 & 23 & 10 & 10 & 5 & 5 & 20 & 20 & 15 & 10 & $\\dots$ \\\\\n",
       "\t19 & 22-FEB-2006 & 24 & 5 & 0 & 0 & 0 & 5 & 10 & 0 & 0 & $\\dots$ \\\\\n",
       "\t20 & 12-FEB-2007 & 26 & 15 & 5 & 15 & 25 & 35 & 20 & 5 & 10 & $\\dots$ \\\\\n",
       "\\end{tabular}\n"
      ],
      "text/plain": [
       "\u001b[1m20×21 DataFrame\u001b[0m\n",
       "\u001b[1m Row \u001b[0m│\u001b[1m test_date   \u001b[0m\u001b[1m nid   \u001b[0m\u001b[1m L500k  \u001b[0m\u001b[1m L1k    \u001b[0m\u001b[1m L2k    \u001b[0m\u001b[1m L3k    \u001b[0m\u001b[1m L4k    \u001b[0m\u001b[1m L6k    \u001b[0m\u001b[1m L8k\u001b[0m ⋯\n",
       "     │\u001b[90m String15    \u001b[0m\u001b[90m Int64 \u001b[0m\u001b[90m Int64? \u001b[0m\u001b[90m Int64? \u001b[0m\u001b[90m Int64? \u001b[0m\u001b[90m Int64? \u001b[0m\u001b[90m Int64? \u001b[0m\u001b[90m Int64? \u001b[0m\u001b[90m Int\u001b[0m ⋯\n",
       "─────┼──────────────────────────────────────────────────────────────────────────\n",
       "   1 │ 12-FEB-2007      1      10       5       5      15       5       0      ⋯\n",
       "   2 │ 29-FEB-2008      2      15       5      15      20      20      15\n",
       "   3 │ 08-FEB-2006      3      25      20      15      20      35      25\n",
       "   4 │ 29-FEB-2008      6      10      10      10      35      50      30\n",
       "   5 │ 08-FEB-2006      8      15      15       5      15      45      30      ⋯\n",
       "   6 │ 29-FEB-2008      9      10       5       0       5      15      15\n",
       "   7 │ 29-FEB-2008     10       5       0       5       5       5      10\n",
       "   8 │ 29-FEB-2008     11      30      20      25      60      60      60\n",
       "  ⋮  │      ⋮         ⋮      ⋮       ⋮       ⋮       ⋮       ⋮       ⋮       ⋮ ⋱\n",
       "  14 │ 08-FEB-2006     18      10      10       5      35      40      35      ⋯\n",
       "  15 │ 12-FEB-2007     20      15       5      10      50      50      15\n",
       "  16 │ 22-FEB-2006     21       5       0       5      20      10      25\n",
       "  17 │ 29-FEB-2008     22      15       5       5      15      15      40\n",
       "  18 │ 29-FEB-2008     23      10      10       5       5      20      20      ⋯\n",
       "  19 │ 22-FEB-2006     24       5       0       0       0       5      10\n",
       "  20 │ 12-FEB-2007     26      15       5      15      25      35      20\n",
       "\u001b[36m                                                   13 columns and 5 rows omitted\u001b[0m"
      ]
     },
     "metadata": {},
     "output_type": "display_data"
    }
   ],
   "source": [
    "# Mostrar las primeras 20 filas del DataFrame\n",
    "first(df, 20)"
   ]
  },
  {
   "cell_type": "markdown",
   "id": "739d53ed",
   "metadata": {},
   "source": [
    "# Columnas\n",
    "Extraemos los nombres de las columnas de nuestra base de datos con el objetivo de identificarlas y comprender la estructura de la información disponible."
   ]
  },
  {
   "cell_type": "code",
   "execution_count": 4,
   "id": "6fc8a220",
   "metadata": {},
   "outputs": [
    {
     "data": {
      "text/plain": [
       "21-element Vector{String}:\n",
       " \"test_date\"\n",
       " \"nid\"\n",
       " \"L500k\"\n",
       " \"L1k\"\n",
       " \"L2k\"\n",
       " \"L3k\"\n",
       " \"L4k\"\n",
       " \"L6k\"\n",
       " \"L8k\"\n",
       " \"R500k\"\n",
       " ⋮\n",
       " \"R3k\"\n",
       " \"R4k\"\n",
       " \"R6k\"\n",
       " \"R8k\"\n",
       " \"gender\"\n",
       " \"naics\"\n",
       " \"age_group\"\n",
       " \"region\"\n",
       " \"NAICS_descr\""
      ]
     },
     "metadata": {},
     "output_type": "display_data"
    }
   ],
   "source": [
    "names(df)"
   ]
  },
  {
   "cell_type": "markdown",
   "id": "d912487f",
   "metadata": {},
   "source": [
    "# Identificación de datos faltantes\n",
    "\n",
    "Utilizamos el siguiente código para identificar valores vacíos o faltantes dentro de las columnas de nuestra base de datos. Este análisis es fundamental para evaluar la calidad de los datos disponibles y tomar decisiones informadas sobre su limpieza o tratamiento en fases posteriores del proceso ETL."
   ]
  },
  {
   "cell_type": "code",
   "execution_count": 3,
   "id": "b1ca123f",
   "metadata": {},
   "outputs": [
    {
     "data": {
      "text/html": [
       "<div><div style = \"float: left;\"><span>21×2 DataFrame</span></div><div style = \"clear: both;\"></div></div><div class = \"data-frame\" style = \"overflow-x: scroll;\"><table class = \"data-frame\" style = \"margin-bottom: 6px;\"><thead><tr class = \"header\"><th class = \"rowNumber\" style = \"font-weight: bold; text-align: right;\">Row</th><th style = \"text-align: left;\">columna</th><th style = \"text-align: left;\">n_missing</th></tr><tr class = \"subheader headerLastRow\"><th class = \"rowNumber\" style = \"font-weight: bold; text-align: right;\"></th><th title = \"String\" style = \"text-align: left;\">String</th><th title = \"Int64\" style = \"text-align: left;\">Int64</th></tr></thead><tbody><tr><td class = \"rowNumber\" style = \"font-weight: bold; text-align: right;\">1</td><td style = \"text-align: left;\">test_date</td><td style = \"text-align: right;\">0</td></tr><tr><td class = \"rowNumber\" style = \"font-weight: bold; text-align: right;\">2</td><td style = \"text-align: left;\">nid</td><td style = \"text-align: right;\">0</td></tr><tr><td class = \"rowNumber\" style = \"font-weight: bold; text-align: right;\">3</td><td style = \"text-align: left;\">L500k</td><td style = \"text-align: right;\">56</td></tr><tr><td class = \"rowNumber\" style = \"font-weight: bold; text-align: right;\">4</td><td style = \"text-align: left;\">L1k</td><td style = \"text-align: right;\">66</td></tr><tr><td class = \"rowNumber\" style = \"font-weight: bold; text-align: right;\">5</td><td style = \"text-align: left;\">L2k</td><td style = \"text-align: right;\">61</td></tr><tr><td class = \"rowNumber\" style = \"font-weight: bold; text-align: right;\">6</td><td style = \"text-align: left;\">L3k</td><td style = \"text-align: right;\">61</td></tr><tr><td class = \"rowNumber\" style = \"font-weight: bold; text-align: right;\">7</td><td style = \"text-align: left;\">L4k</td><td style = \"text-align: right;\">34</td></tr><tr><td class = \"rowNumber\" style = \"font-weight: bold; text-align: right;\">8</td><td style = \"text-align: left;\">L6k</td><td style = \"text-align: right;\">77</td></tr><tr><td class = \"rowNumber\" style = \"font-weight: bold; text-align: right;\">9</td><td style = \"text-align: left;\">L8k</td><td style = \"text-align: right;\">2286</td></tr><tr><td class = \"rowNumber\" style = \"font-weight: bold; text-align: right;\">10</td><td style = \"text-align: left;\">R500k</td><td style = \"text-align: right;\">69</td></tr><tr><td class = \"rowNumber\" style = \"font-weight: bold; text-align: right;\">11</td><td style = \"text-align: left;\">R1k</td><td style = \"text-align: right;\">70</td></tr><tr><td class = \"rowNumber\" style = \"font-weight: bold; text-align: right;\">12</td><td style = \"text-align: left;\">R2k</td><td style = \"text-align: right;\">73</td></tr><tr><td class = \"rowNumber\" style = \"font-weight: bold; text-align: right;\">13</td><td style = \"text-align: left;\">R3k</td><td style = \"text-align: right;\">67</td></tr><tr><td class = \"rowNumber\" style = \"font-weight: bold; text-align: right;\">14</td><td style = \"text-align: left;\">R4k</td><td style = \"text-align: right;\">52</td></tr><tr><td class = \"rowNumber\" style = \"font-weight: bold; text-align: right;\">15</td><td style = \"text-align: left;\">R6k</td><td style = \"text-align: right;\">98</td></tr><tr><td class = \"rowNumber\" style = \"font-weight: bold; text-align: right;\">16</td><td style = \"text-align: left;\">R8k</td><td style = \"text-align: right;\">2307</td></tr><tr><td class = \"rowNumber\" style = \"font-weight: bold; text-align: right;\">17</td><td style = \"text-align: left;\">gender</td><td style = \"text-align: right;\">3244</td></tr><tr><td class = \"rowNumber\" style = \"font-weight: bold; text-align: right;\">18</td><td style = \"text-align: left;\">naics</td><td style = \"text-align: right;\">0</td></tr><tr><td class = \"rowNumber\" style = \"font-weight: bold; text-align: right;\">19</td><td style = \"text-align: left;\">age_group</td><td style = \"text-align: right;\">0</td></tr><tr><td class = \"rowNumber\" style = \"font-weight: bold; text-align: right;\">20</td><td style = \"text-align: left;\">region</td><td style = \"text-align: right;\">28056</td></tr><tr><td class = \"rowNumber\" style = \"font-weight: bold; text-align: right;\">21</td><td style = \"text-align: left;\">NAICS_descr</td><td style = \"text-align: right;\">0</td></tr></tbody></table></div>"
      ],
      "text/latex": [
       "\\begin{tabular}{r|cc}\n",
       "\t& columna & n\\_missing\\\\\n",
       "\t\\hline\n",
       "\t& String & Int64\\\\\n",
       "\t\\hline\n",
       "\t1 & test\\_date & 0 \\\\\n",
       "\t2 & nid & 0 \\\\\n",
       "\t3 & L500k & 56 \\\\\n",
       "\t4 & L1k & 66 \\\\\n",
       "\t5 & L2k & 61 \\\\\n",
       "\t6 & L3k & 61 \\\\\n",
       "\t7 & L4k & 34 \\\\\n",
       "\t8 & L6k & 77 \\\\\n",
       "\t9 & L8k & 2286 \\\\\n",
       "\t10 & R500k & 69 \\\\\n",
       "\t11 & R1k & 70 \\\\\n",
       "\t12 & R2k & 73 \\\\\n",
       "\t13 & R3k & 67 \\\\\n",
       "\t14 & R4k & 52 \\\\\n",
       "\t15 & R6k & 98 \\\\\n",
       "\t16 & R8k & 2307 \\\\\n",
       "\t17 & gender & 3244 \\\\\n",
       "\t18 & naics & 0 \\\\\n",
       "\t19 & age\\_group & 0 \\\\\n",
       "\t20 & region & 28056 \\\\\n",
       "\t21 & NAICS\\_descr & 0 \\\\\n",
       "\\end{tabular}\n"
      ],
      "text/plain": [
       "\u001b[1m21×2 DataFrame\u001b[0m\n",
       "\u001b[1m Row \u001b[0m│\u001b[1m columna     \u001b[0m\u001b[1m n_missing \u001b[0m\n",
       "     │\u001b[90m String      \u001b[0m\u001b[90m Int64     \u001b[0m\n",
       "─────┼────────────────────────\n",
       "   1 │ test_date            0\n",
       "   2 │ nid                  0\n",
       "   3 │ L500k               56\n",
       "   4 │ L1k                 66\n",
       "   5 │ L2k                 61\n",
       "   6 │ L3k                 61\n",
       "   7 │ L4k                 34\n",
       "   8 │ L6k                 77\n",
       "  ⋮  │      ⋮           ⋮\n",
       "  15 │ R6k                 98\n",
       "  16 │ R8k               2307\n",
       "  17 │ gender            3244\n",
       "  18 │ naics                0\n",
       "  19 │ age_group            0\n",
       "  20 │ region           28056\n",
       "  21 │ NAICS_descr          0\n",
       "\u001b[36m                6 rows omitted\u001b[0m"
      ]
     },
     "metadata": {},
     "output_type": "display_data"
    }
   ],
   "source": [
    "using CSV, DataFrames, Plots\n",
    "\n",
    "df = CSV.read(\"C:\\\\Users\\\\USUARIO\\\\ing_datos\\\\data\\\\raw\\\\Paper1_WebData_Final.csv\", DataFrame) \n",
    "\n",
    "\n",
    "# Revisar valores faltantes\n",
    "missing_report = DataFrame(\n",
    "    columna = names(df),\n",
    "    n_missing = [sum(ismissing.(df[!, c])) for c in names(df)]\n",
    ")\n",
    "\n",
    "missing_report"
   ]
  },
  {
   "cell_type": "markdown",
   "id": "e353a07f",
   "metadata": {},
   "source": [
    "# Identificación de tipos de datos y dimensiones de la base de datos\n",
    "\n",
    "En esta etapa del proceso de extracción, utilizamos el siguiente código para identificar el tipo de datos establecido en cada columna de la base de datos, lo cual nos permite comprender la naturaleza de la información (por ejemplo, numérica, texto, fecha, etc.) y aplicar transformaciones adecuadas en fases posteriores. Además, determinamos el número total de columnas y filas presentes en la base de datos, lo que nos brinda una visión general de su tamaño y estructura actual."
   ]
  },
  {
   "cell_type": "code",
   "execution_count": 9,
   "id": "8a889bd9",
   "metadata": {},
   "outputs": [
    {
     "name": "stdout",
     "output_type": "stream",
     "text": [
      "\u001b[1m21×2 DataFrame\u001b[0m\n",
      "\u001b[1m Row \u001b[0m│\u001b[1m Columna     \u001b[0m\u001b[1m Tipo                    \u001b[0m\n",
      "     │\u001b[90m String      \u001b[0m\u001b[90m Type                    \u001b[0m\n",
      "─────┼──────────────────────────────────────\n",
      "   1 │ test_date    String15\n",
      "   2 │ nid          Int64\n",
      "   3 │ L500k        Union{Missing, Int64}\n",
      "   4 │ L1k          Union{Missing, Int64}\n",
      "   5 │ L2k          Union{Missing, Int64}\n",
      "   6 │ L3k          Union{Missing, Int64}\n",
      "   7 │ L4k          Union{Missing, Int64}\n",
      "   8 │ L6k          Union{Missing, Int64}\n",
      "   9 │ L8k          Union{Missing, Int64}\n",
      "  10 │ R500k        Union{Missing, Int64}\n",
      "  11 │ R1k          Union{Missing, Int64}\n",
      "  12 │ R2k          Union{Missing, Int64}\n",
      "  13 │ R3k          Union{Missing, Int64}\n",
      "  14 │ R4k          Union{Missing, Int64}\n",
      "  15 │ R6k          Union{Missing, Int64}\n",
      "  16 │ R8k          Union{Missing, Int64}\n",
      "  17 │ gender       Union{Missing, String1}\n",
      "  18 │ naics        Int64\n",
      "  19 │ age_group    Int64\n",
      "  20 │ region       Union{Missing, String3}\n",
      "  21 │ NAICS_descr  String\n",
      "\n",
      "Numero de Filas y Columnas\n",
      "(1114966, 21)\n"
     ]
    }
   ],
   "source": [
    "\n",
    "# Crear un DataFrame con los nombres de las columnas y sus tipos\n",
    "tipos = DataFrame(\n",
    "    Columna = names(df),\n",
    "    Tipo = eltype.(eachcol(df))\n",
    ")\n",
    "\n",
    "# Mostrar la tabla\n",
    "println(tipos)\n",
    "\n",
    "\n",
    "# Numero de columnas y filas \n",
    "println(\"\")\n",
    "println(\"Numero de Filas y Columnas\")\n",
    "println(size(df))"
   ]
  },
  {
   "cell_type": "markdown",
   "id": "36171092",
   "metadata": {},
   "source": [
    "# Análisis estadístico básico\n",
    "Utilizando la función describe, realizamos un análisis estadístico básico de los datos contenidos en nuestra base de datos. Esta función nos permite calcular métricas como la media, la moda, el mínimo, el máximo, entre otros valores estadísticos relevantes"
   ]
  },
  {
   "cell_type": "code",
   "execution_count": 11,
   "id": "dabcdb04",
   "metadata": {},
   "outputs": [
    {
     "data": {
      "text/html": [
       "<div><div style = \"float: left;\"><span>21×7 DataFrame</span></div><div style = \"clear: both;\"></div></div><div class = \"data-frame\" style = \"overflow-x: scroll;\"><table class = \"data-frame\" style = \"margin-bottom: 6px;\"><thead><tr class = \"header\"><th class = \"rowNumber\" style = \"font-weight: bold; text-align: right;\">Row</th><th style = \"text-align: left;\">variable</th><th style = \"text-align: left;\">mean</th><th style = \"text-align: left;\">min</th><th style = \"text-align: left;\">median</th><th style = \"text-align: left;\">max</th><th style = \"text-align: left;\">nmissing</th><th style = \"text-align: left;\">eltype</th></tr><tr class = \"subheader headerLastRow\"><th class = \"rowNumber\" style = \"font-weight: bold; text-align: right;\"></th><th title = \"Symbol\" style = \"text-align: left;\">Symbol</th><th title = \"Union{Nothing, Float64}\" style = \"text-align: left;\">Union…</th><th title = \"Any\" style = \"text-align: left;\">Any</th><th title = \"Union{Nothing, Float64}\" style = \"text-align: left;\">Union…</th><th title = \"Any\" style = \"text-align: left;\">Any</th><th title = \"Int64\" style = \"text-align: left;\">Int64</th><th title = \"Type\" style = \"text-align: left;\">Type</th></tr></thead><tbody><tr><td class = \"rowNumber\" style = \"font-weight: bold; text-align: right;\">1</td><td style = \"text-align: left;\">test_date</td><td style = \"font-style: italic; text-align: left;\"></td><td style = \"text-align: left;\">01-APR-2000</td><td style = \"font-style: italic; text-align: left;\"></td><td style = \"text-align: left;\">31-OCT-2008</td><td style = \"text-align: right;\">0</td><td style = \"text-align: left;\">String15</td></tr><tr><td class = \"rowNumber\" style = \"font-weight: bold; text-align: right;\">2</td><td style = \"text-align: left;\">nid</td><td style = \"text-align: left;\">1.79337e6</td><td style = \"text-align: left;\">1</td><td style = \"text-align: left;\">2.31198e6</td><td style = \"text-align: left;\">3214191</td><td style = \"text-align: right;\">0</td><td style = \"text-align: left;\">Int64</td></tr><tr><td class = \"rowNumber\" style = \"font-weight: bold; text-align: right;\">3</td><td style = \"text-align: left;\">L500k</td><td style = \"text-align: left;\">9.5332</td><td style = \"text-align: left;\">-10</td><td style = \"text-align: left;\">10.0</td><td style = \"text-align: left;\">999</td><td style = \"text-align: right;\">56</td><td style = \"text-align: left;\">Union{Missing, Int64}</td></tr><tr><td class = \"rowNumber\" style = \"font-weight: bold; text-align: right;\">4</td><td style = \"text-align: left;\">L1k</td><td style = \"text-align: left;\">8.79378</td><td style = \"text-align: left;\">-10</td><td style = \"text-align: left;\">5.0</td><td style = \"text-align: left;\">999</td><td style = \"text-align: right;\">66</td><td style = \"text-align: left;\">Union{Missing, Int64}</td></tr><tr><td class = \"rowNumber\" style = \"font-weight: bold; text-align: right;\">5</td><td style = \"text-align: left;\">L2k</td><td style = \"text-align: left;\">11.382</td><td style = \"text-align: left;\">-10</td><td style = \"text-align: left;\">10.0</td><td style = \"text-align: left;\">999</td><td style = \"text-align: right;\">61</td><td style = \"text-align: left;\">Union{Missing, Int64}</td></tr><tr><td class = \"rowNumber\" style = \"font-weight: bold; text-align: right;\">6</td><td style = \"text-align: left;\">L3k</td><td style = \"text-align: left;\">16.8182</td><td style = \"text-align: left;\">-10</td><td style = \"text-align: left;\">10.0</td><td style = \"text-align: left;\">999</td><td style = \"text-align: right;\">61</td><td style = \"text-align: left;\">Union{Missing, Int64}</td></tr><tr><td class = \"rowNumber\" style = \"font-weight: bold; text-align: right;\">7</td><td style = \"text-align: left;\">L4k</td><td style = \"text-align: left;\">21.3242</td><td style = \"text-align: left;\">-10</td><td style = \"text-align: left;\">15.0</td><td style = \"text-align: left;\">999</td><td style = \"text-align: right;\">34</td><td style = \"text-align: left;\">Union{Missing, Int64}</td></tr><tr><td class = \"rowNumber\" style = \"font-weight: bold; text-align: right;\">8</td><td style = \"text-align: left;\">L6k</td><td style = \"text-align: left;\">24.2257</td><td style = \"text-align: left;\">-10</td><td style = \"text-align: left;\">20.0</td><td style = \"text-align: left;\">999</td><td style = \"text-align: right;\">77</td><td style = \"text-align: left;\">Union{Missing, Int64}</td></tr><tr><td class = \"rowNumber\" style = \"font-weight: bold; text-align: right;\">9</td><td style = \"text-align: left;\">L8k</td><td style = \"text-align: left;\">298.223</td><td style = \"text-align: left;\">-10</td><td style = \"text-align: left;\">25.0</td><td style = \"text-align: left;\">999</td><td style = \"text-align: right;\">2286</td><td style = \"text-align: left;\">Union{Missing, Int64}</td></tr><tr><td class = \"rowNumber\" style = \"font-weight: bold; text-align: right;\">10</td><td style = \"text-align: left;\">R500k</td><td style = \"text-align: left;\">9.45548</td><td style = \"text-align: left;\">-10</td><td style = \"text-align: left;\">10.0</td><td style = \"text-align: left;\">999</td><td style = \"text-align: right;\">69</td><td style = \"text-align: left;\">Union{Missing, Int64}</td></tr><tr><td class = \"rowNumber\" style = \"font-weight: bold; text-align: right;\">11</td><td style = \"text-align: left;\">R1k</td><td style = \"text-align: left;\">8.75485</td><td style = \"text-align: left;\">-10</td><td style = \"text-align: left;\">5.0</td><td style = \"text-align: left;\">999</td><td style = \"text-align: right;\">70</td><td style = \"text-align: left;\">Union{Missing, Int64}</td></tr><tr><td class = \"rowNumber\" style = \"font-weight: bold; text-align: right;\">12</td><td style = \"text-align: left;\">R2k</td><td style = \"text-align: left;\">10.3545</td><td style = \"text-align: left;\">-10</td><td style = \"text-align: left;\">5.0</td><td style = \"text-align: left;\">999</td><td style = \"text-align: right;\">73</td><td style = \"text-align: left;\">Union{Missing, Int64}</td></tr><tr><td class = \"rowNumber\" style = \"font-weight: bold; text-align: right;\">13</td><td style = \"text-align: left;\">R3k</td><td style = \"text-align: left;\">14.9712</td><td style = \"text-align: left;\">-10</td><td style = \"text-align: left;\">10.0</td><td style = \"text-align: left;\">999</td><td style = \"text-align: right;\">67</td><td style = \"text-align: left;\">Union{Missing, Int64}</td></tr><tr><td class = \"rowNumber\" style = \"font-weight: bold; text-align: right;\">14</td><td style = \"text-align: left;\">R4k</td><td style = \"text-align: left;\">19.4678</td><td style = \"text-align: left;\">-10</td><td style = \"text-align: left;\">15.0</td><td style = \"text-align: left;\">999</td><td style = \"text-align: right;\">52</td><td style = \"text-align: left;\">Union{Missing, Int64}</td></tr><tr><td class = \"rowNumber\" style = \"font-weight: bold; text-align: right;\">15</td><td style = \"text-align: left;\">R6k</td><td style = \"text-align: left;\">22.6121</td><td style = \"text-align: left;\">-10</td><td style = \"text-align: left;\">15.0</td><td style = \"text-align: left;\">999</td><td style = \"text-align: right;\">98</td><td style = \"text-align: left;\">Union{Missing, Int64}</td></tr><tr><td class = \"rowNumber\" style = \"font-weight: bold; text-align: right;\">16</td><td style = \"text-align: left;\">R8k</td><td style = \"text-align: left;\">297.64</td><td style = \"text-align: left;\">-10</td><td style = \"text-align: left;\">25.0</td><td style = \"text-align: left;\">999</td><td style = \"text-align: right;\">2307</td><td style = \"text-align: left;\">Union{Missing, Int64}</td></tr><tr><td class = \"rowNumber\" style = \"font-weight: bold; text-align: right;\">17</td><td style = \"text-align: left;\">gender</td><td style = \"font-style: italic; text-align: left;\"></td><td style = \"text-align: left;\">F</td><td style = \"font-style: italic; text-align: left;\"></td><td style = \"text-align: left;\">M</td><td style = \"text-align: right;\">3244</td><td style = \"text-align: left;\">Union{Missing, String1}</td></tr><tr><td class = \"rowNumber\" style = \"font-weight: bold; text-align: right;\">18</td><td style = \"text-align: left;\">naics</td><td style = \"text-align: left;\">3.82877e5</td><td style = \"text-align: left;\">221</td><td style = \"text-align: left;\">333412.0</td><td style = \"text-align: left;\">928110</td><td style = \"text-align: right;\">0</td><td style = \"text-align: left;\">Int64</td></tr><tr><td class = \"rowNumber\" style = \"font-weight: bold; text-align: right;\">19</td><td style = \"text-align: left;\">age_group</td><td style = \"text-align: left;\">2.84554</td><td style = \"text-align: left;\">1</td><td style = \"text-align: left;\">3.0</td><td style = \"text-align: left;\">5</td><td style = \"text-align: right;\">0</td><td style = \"text-align: left;\">Int64</td></tr><tr><td class = \"rowNumber\" style = \"font-weight: bold; text-align: right;\">20</td><td style = \"text-align: left;\">region</td><td style = \"font-style: italic; text-align: left;\"></td><td style = \"text-align: left;\">MA</td><td style = \"font-style: italic; text-align: left;\"></td><td style = \"text-align: left;\">WE</td><td style = \"text-align: right;\">28056</td><td style = \"text-align: left;\">Union{Missing, String3}</td></tr><tr><td class = \"rowNumber\" style = \"font-weight: bold; text-align: right;\">21</td><td style = \"text-align: left;\">NAICS_descr</td><td style = \"font-style: italic; text-align: left;\"></td><td style = \"text-align: left;\">Abrasive Product Manufacturing</td><td style = \"font-style: italic; text-align: left;\"></td><td style = \"text-align: left;\">Yarn Spinning Mills</td><td style = \"text-align: right;\">0</td><td style = \"text-align: left;\">String</td></tr></tbody></table></div>"
      ],
      "text/latex": [
       "\\begin{tabular}{r|cccccc}\n",
       "\t& variable & mean & min & median & max & \\\\\n",
       "\t\\hline\n",
       "\t& Symbol & Union… & Any & Union… & Any & \\\\\n",
       "\t\\hline\n",
       "\t1 & test\\_date &  & 01-APR-2000 &  & 31-OCT-2008 & $\\dots$ \\\\\n",
       "\t2 & nid & 1.79337e6 & 1 & 2.31198e6 & 3214191 & $\\dots$ \\\\\n",
       "\t3 & L500k & 9.5332 & -10 & 10.0 & 999 & $\\dots$ \\\\\n",
       "\t4 & L1k & 8.79378 & -10 & 5.0 & 999 & $\\dots$ \\\\\n",
       "\t5 & L2k & 11.382 & -10 & 10.0 & 999 & $\\dots$ \\\\\n",
       "\t6 & L3k & 16.8182 & -10 & 10.0 & 999 & $\\dots$ \\\\\n",
       "\t7 & L4k & 21.3242 & -10 & 15.0 & 999 & $\\dots$ \\\\\n",
       "\t8 & L6k & 24.2257 & -10 & 20.0 & 999 & $\\dots$ \\\\\n",
       "\t9 & L8k & 298.223 & -10 & 25.0 & 999 & $\\dots$ \\\\\n",
       "\t10 & R500k & 9.45548 & -10 & 10.0 & 999 & $\\dots$ \\\\\n",
       "\t11 & R1k & 8.75485 & -10 & 5.0 & 999 & $\\dots$ \\\\\n",
       "\t12 & R2k & 10.3545 & -10 & 5.0 & 999 & $\\dots$ \\\\\n",
       "\t13 & R3k & 14.9712 & -10 & 10.0 & 999 & $\\dots$ \\\\\n",
       "\t14 & R4k & 19.4678 & -10 & 15.0 & 999 & $\\dots$ \\\\\n",
       "\t15 & R6k & 22.6121 & -10 & 15.0 & 999 & $\\dots$ \\\\\n",
       "\t16 & R8k & 297.64 & -10 & 25.0 & 999 & $\\dots$ \\\\\n",
       "\t17 & gender &  & F &  & M & $\\dots$ \\\\\n",
       "\t18 & naics & 3.82877e5 & 221 & 333412.0 & 928110 & $\\dots$ \\\\\n",
       "\t19 & age\\_group & 2.84554 & 1 & 3.0 & 5 & $\\dots$ \\\\\n",
       "\t20 & region &  & MA &  & WE & $\\dots$ \\\\\n",
       "\t21 & NAICS\\_descr &  & Abrasive Product Manufacturing &  & Yarn Spinning Mills & $\\dots$ \\\\\n",
       "\\end{tabular}\n"
      ],
      "text/plain": [
       "\u001b[1m21×7 DataFrame\u001b[0m\n",
       "\u001b[1m Row \u001b[0m│\u001b[1m variable    \u001b[0m\u001b[1m mean      \u001b[0m\u001b[1m min                            \u001b[0m\u001b[1m median    \u001b[0m\u001b[1m max \u001b[0m ⋯\n",
       "     │\u001b[90m Symbol      \u001b[0m\u001b[90m Union…    \u001b[0m\u001b[90m Any                            \u001b[0m\u001b[90m Union…    \u001b[0m\u001b[90m Any \u001b[0m ⋯\n",
       "─────┼──────────────────────────────────────────────────────────────────────────\n",
       "   1 │ test_date   \u001b[90m           \u001b[0m 01-APR-2000                    \u001b[90m           \u001b[0m 31-O ⋯\n",
       "   2 │ nid          1.79337e6  1                               2.31198e6  3214\n",
       "   3 │ L500k        9.5332     -10                             10.0       999\n",
       "   4 │ L1k          8.79378    -10                             5.0        999\n",
       "   5 │ L2k          11.382     -10                             10.0       999  ⋯\n",
       "   6 │ L3k          16.8182    -10                             10.0       999\n",
       "   7 │ L4k          21.3242    -10                             15.0       999\n",
       "   8 │ L6k          24.2257    -10                             20.0       999\n",
       "  ⋮  │      ⋮           ⋮                    ⋮                     ⋮           ⋱\n",
       "  15 │ R6k          22.6121    -10                             15.0       999  ⋯\n",
       "  16 │ R8k          297.64     -10                             25.0       999\n",
       "  17 │ gender      \u001b[90m           \u001b[0m F                              \u001b[90m           \u001b[0m M\n",
       "  18 │ naics        3.82877e5  221                             333412.0   9281\n",
       "  19 │ age_group    2.84554    1                               3.0        5    ⋯\n",
       "  20 │ region      \u001b[90m           \u001b[0m MA                             \u001b[90m           \u001b[0m WE\n",
       "  21 │ NAICS_descr \u001b[90m           \u001b[0m Abrasive Product Manufacturing \u001b[90m           \u001b[0m Yarn\n",
       "\u001b[36m                                                    3 columns and 6 rows omitted\u001b[0m"
      ]
     },
     "metadata": {},
     "output_type": "display_data"
    }
   ],
   "source": [
    "# Resumen estadístico\n",
    "describe(df)"
   ]
  },
  {
   "cell_type": "markdown",
   "id": "95497ed3",
   "metadata": {},
   "source": [
    "# 2. Transformación de datos\n",
    "En esta etapa del proceso ETL, aplicamos diversas técnicas para limpiar, modificar y estructurar los datos extraídos previamente, con el fin de prepararlos para su análisis o carga en sistemas de destino. La transformación puede incluir tareas como la normalización de valores, el manejo de datos faltantes, la conversión de tipos de datos, la creación de nuevas columnas derivadas, y la eliminación de registros duplicados o irrelevantes."
   ]
  },
  {
   "cell_type": "markdown",
   "id": "6d5abe0b",
   "metadata": {},
   "source": [
    "# Identificación de columnas con códigos especiales\n",
    "\n",
    "Antes de realizar la limpieza de datos, es importante identificar cuáles columnas contienen valores especiales como 997, 998 o 999, que suelen representar respuestas inválidas, desconocidas o no aplicables. Esta verificación nos permite determinar el alcance del problema y enfocar las transformaciones en las columnas afectadas. Una vez identificadas, estos valores serán reemplazados por missing para tratarlos adecuadamente en el proceso de imputación."
   ]
  },
  {
   "cell_type": "code",
   "execution_count": 18,
   "id": "29e67209",
   "metadata": {},
   "outputs": [
    {
     "data": {
      "text/html": [
       "<div><div style = \"float: left;\"><span>20×3 DataFrame</span></div><div style = \"clear: both;\"></div></div><div class = \"data-frame\" style = \"overflow-x: scroll;\"><table class = \"data-frame\" style = \"margin-bottom: 6px;\"><thead><tr class = \"header\"><th class = \"rowNumber\" style = \"font-weight: bold; text-align: right;\">Row</th><th style = \"text-align: left;\">Columna</th><th style = \"text-align: left;\">Codigo</th><th style = \"text-align: left;\">Frecuencia</th></tr><tr class = \"subheader headerLastRow\"><th class = \"rowNumber\" style = \"font-weight: bold; text-align: right;\"></th><th title = \"String\" style = \"text-align: left;\">String</th><th title = \"Int64\" style = \"text-align: left;\">Int64</th><th title = \"Int64\" style = \"text-align: left;\">Int64</th></tr></thead><tbody><tr><td class = \"rowNumber\" style = \"font-weight: bold; text-align: right;\">1</td><td style = \"text-align: left;\">nid</td><td style = \"text-align: right;\">997</td><td style = \"text-align: right;\">1</td></tr><tr><td class = \"rowNumber\" style = \"font-weight: bold; text-align: right;\">2</td><td style = \"text-align: left;\">nid</td><td style = \"text-align: right;\">998</td><td style = \"text-align: right;\">0</td></tr><tr><td class = \"rowNumber\" style = \"font-weight: bold; text-align: right;\">3</td><td style = \"text-align: left;\">nid</td><td style = \"text-align: right;\">999</td><td style = \"text-align: right;\">1</td></tr><tr><td class = \"rowNumber\" style = \"font-weight: bold; text-align: right;\">4</td><td style = \"text-align: left;\">L500k</td><td style = \"text-align: right;\">997</td><td style = \"text-align: right;\">43</td></tr><tr><td class = \"rowNumber\" style = \"font-weight: bold; text-align: right;\">5</td><td style = \"text-align: left;\">L500k</td><td style = \"text-align: right;\">998</td><td style = \"text-align: right;\">288</td></tr><tr><td class = \"rowNumber\" style = \"font-weight: bold; text-align: right;\">6</td><td style = \"text-align: left;\">L500k</td><td style = \"text-align: right;\">999</td><td style = \"text-align: right;\">87</td></tr><tr><td class = \"rowNumber\" style = \"font-weight: bold; text-align: right;\">7</td><td style = \"text-align: left;\">L1k</td><td style = \"text-align: right;\">997</td><td style = \"text-align: right;\">43</td></tr><tr><td class = \"rowNumber\" style = \"font-weight: bold; text-align: right;\">8</td><td style = \"text-align: left;\">L1k</td><td style = \"text-align: right;\">998</td><td style = \"text-align: right;\">340</td></tr><tr><td class = \"rowNumber\" style = \"font-weight: bold; text-align: right;\">9</td><td style = \"text-align: left;\">L1k</td><td style = \"text-align: right;\">999</td><td style = \"text-align: right;\">85</td></tr><tr><td class = \"rowNumber\" style = \"font-weight: bold; text-align: right;\">10</td><td style = \"text-align: left;\">L2k</td><td style = \"text-align: right;\">997</td><td style = \"text-align: right;\">43</td></tr><tr><td class = \"rowNumber\" style = \"font-weight: bold; text-align: right;\">11</td><td style = \"text-align: left;\">L2k</td><td style = \"text-align: right;\">998</td><td style = \"text-align: right;\">459</td></tr><tr><td class = \"rowNumber\" style = \"font-weight: bold; text-align: right;\">12</td><td style = \"text-align: left;\">L2k</td><td style = \"text-align: right;\">999</td><td style = \"text-align: right;\">87</td></tr><tr><td class = \"rowNumber\" style = \"font-weight: bold; text-align: right;\">13</td><td style = \"text-align: left;\">L3k</td><td style = \"text-align: right;\">997</td><td style = \"text-align: right;\">43</td></tr><tr><td class = \"rowNumber\" style = \"font-weight: bold; text-align: right;\">14</td><td style = \"text-align: left;\">L3k</td><td style = \"text-align: right;\">998</td><td style = \"text-align: right;\">586</td></tr><tr><td class = \"rowNumber\" style = \"font-weight: bold; text-align: right;\">15</td><td style = \"text-align: left;\">L3k</td><td style = \"text-align: right;\">999</td><td style = \"text-align: right;\">101</td></tr><tr><td class = \"rowNumber\" style = \"font-weight: bold; text-align: right;\">16</td><td style = \"text-align: left;\">L4k</td><td style = \"text-align: right;\">997</td><td style = \"text-align: right;\">43</td></tr><tr><td class = \"rowNumber\" style = \"font-weight: bold; text-align: right;\">17</td><td style = \"text-align: left;\">L4k</td><td style = \"text-align: right;\">998</td><td style = \"text-align: right;\">819</td></tr><tr><td class = \"rowNumber\" style = \"font-weight: bold; text-align: right;\">18</td><td style = \"text-align: left;\">L4k</td><td style = \"text-align: right;\">999</td><td style = \"text-align: right;\">108</td></tr><tr><td class = \"rowNumber\" style = \"font-weight: bold; text-align: right;\">19</td><td style = \"text-align: left;\">L6k</td><td style = \"text-align: right;\">997</td><td style = \"text-align: right;\">43</td></tr><tr><td class = \"rowNumber\" style = \"font-weight: bold; text-align: right;\">20</td><td style = \"text-align: left;\">L6k</td><td style = \"text-align: right;\">998</td><td style = \"text-align: right;\">1471</td></tr></tbody></table></div>"
      ],
      "text/latex": [
       "\\begin{tabular}{r|ccc}\n",
       "\t& Columna & Codigo & Frecuencia\\\\\n",
       "\t\\hline\n",
       "\t& String & Int64 & Int64\\\\\n",
       "\t\\hline\n",
       "\t1 & nid & 997 & 1 \\\\\n",
       "\t2 & nid & 998 & 0 \\\\\n",
       "\t3 & nid & 999 & 1 \\\\\n",
       "\t4 & L500k & 997 & 43 \\\\\n",
       "\t5 & L500k & 998 & 288 \\\\\n",
       "\t6 & L500k & 999 & 87 \\\\\n",
       "\t7 & L1k & 997 & 43 \\\\\n",
       "\t8 & L1k & 998 & 340 \\\\\n",
       "\t9 & L1k & 999 & 85 \\\\\n",
       "\t10 & L2k & 997 & 43 \\\\\n",
       "\t11 & L2k & 998 & 459 \\\\\n",
       "\t12 & L2k & 999 & 87 \\\\\n",
       "\t13 & L3k & 997 & 43 \\\\\n",
       "\t14 & L3k & 998 & 586 \\\\\n",
       "\t15 & L3k & 999 & 101 \\\\\n",
       "\t16 & L4k & 997 & 43 \\\\\n",
       "\t17 & L4k & 998 & 819 \\\\\n",
       "\t18 & L4k & 999 & 108 \\\\\n",
       "\t19 & L6k & 997 & 43 \\\\\n",
       "\t20 & L6k & 998 & 1471 \\\\\n",
       "\\end{tabular}\n"
      ],
      "text/plain": [
       "\u001b[1m20×3 DataFrame\u001b[0m\n",
       "\u001b[1m Row \u001b[0m│\u001b[1m Columna \u001b[0m\u001b[1m Codigo \u001b[0m\u001b[1m Frecuencia \u001b[0m\n",
       "     │\u001b[90m String  \u001b[0m\u001b[90m Int64  \u001b[0m\u001b[90m Int64      \u001b[0m\n",
       "─────┼─────────────────────────────\n",
       "   1 │ nid         997           1\n",
       "   2 │ nid         998           0\n",
       "   3 │ nid         999           1\n",
       "   4 │ L500k       997          43\n",
       "   5 │ L500k       998         288\n",
       "   6 │ L500k       999          87\n",
       "   7 │ L1k         997          43\n",
       "   8 │ L1k         998         340\n",
       "  ⋮  │    ⋮       ⋮         ⋮\n",
       "  14 │ L3k         998         586\n",
       "  15 │ L3k         999         101\n",
       "  16 │ L4k         997          43\n",
       "  17 │ L4k         998         819\n",
       "  18 │ L4k         999         108\n",
       "  19 │ L6k         997          43\n",
       "  20 │ L6k         998        1471\n",
       "\u001b[36m                     5 rows omitted\u001b[0m"
      ]
     },
     "metadata": {},
     "output_type": "display_data"
    }
   ],
   "source": [
    "using DataFrames, CSV\n",
    "\n",
    "# cargar base\n",
    "df = CSV.read(\"C:\\\\Users\\\\USUARIO\\\\ing_datos\\\\data\\\\raw\\\\Paper1_WebData_Final.csv\", DataFrame)\n",
    "\n",
    "# función para contar códigos especiales\n",
    "function contar_codigos(df::DataFrame, codigos::Vector{Int})\n",
    "    resultados = DataFrame(Columna = String[], Codigo = Int[], Frecuencia = Int[])\n",
    "    \n",
    "    for c in names(df)\n",
    "        if eltype(df[!, c]) <: Union{Missing, Number}\n",
    "            for codigo in codigos\n",
    "                # ignorar missing en el conteo\n",
    "                count_val = count(x -> x == codigo, skipmissing(df[!, c]))\n",
    "                push!(resultados, (string(c), codigo, count_val))\n",
    "            end\n",
    "        end\n",
    "    end\n",
    "    \n",
    "    return resultados\n",
    "end\n",
    "\n",
    "# codigos a buscar\n",
    "codigos_especiales = [997, 998, 999]\n",
    "\n",
    "# aplicar\n",
    "resultados = contar_codigos(df, codigos_especiales)\n",
    "\n",
    "# mostrar los primeros 20\n",
    "first(resultados, 20)"
   ]
  },
  {
   "cell_type": "markdown",
   "id": "e0a3f1e0",
   "metadata": {},
   "source": [
    "# Limpieza e imputación de datos faltantes\n",
    "\n",
    "En esta etapa del proceso de transformación, aplicamos dos funciones clave para mejorar la calidad de los datos:\n",
    "\n",
    "limpiar_codigos!: Esta función recorre todas las columnas numéricas del DataFrame y reemplaza los códigos especiales (997, 998, 999), que suelen representar valores inválidos o desconocidos, por missing. Esto permite tratar estos valores como datos faltantes de forma estándar en Julia.\n",
    "\n",
    "imputar_media!: Una vez identificados los valores faltantes, esta función los reemplaza por la media de cada columna, calculada ignorando los missing. Si la columna contiene enteros, la media se redondea para mantener la consistencia del tipo de dato. Esta técnica de imputación ayuda a mantener la integridad del conjunto de datos sin eliminar registros."
   ]
  },
  {
   "cell_type": "code",
   "execution_count": 17,
   "id": "d0a0cb14",
   "metadata": {},
   "outputs": [
    {
     "data": {
      "text/html": [
       "<div><div style = \"float: left;\"><span>30×21 DataFrame</span></div><div style = \"float: right;\"><span style = \"font-style: italic;\">5 rows omitted</span></div><div style = \"clear: both;\"></div></div><div class = \"data-frame\" style = \"overflow-x: scroll;\"><table class = \"data-frame\" style = \"margin-bottom: 6px;\"><thead><tr class = \"header\"><th class = \"rowNumber\" style = \"font-weight: bold; text-align: right;\">Row</th><th style = \"text-align: left;\">test_date</th><th style = \"text-align: left;\">nid</th><th style = \"text-align: left;\">L500k</th><th style = \"text-align: left;\">L1k</th><th style = \"text-align: left;\">L2k</th><th style = \"text-align: left;\">L3k</th><th style = \"text-align: left;\">L4k</th><th style = \"text-align: left;\">L6k</th><th style = \"text-align: left;\">L8k</th><th style = \"text-align: left;\">R500k</th><th style = \"text-align: left;\">R1k</th><th style = \"text-align: left;\">R2k</th><th style = \"text-align: left;\">R3k</th><th style = \"text-align: left;\">R4k</th><th style = \"text-align: left;\">R6k</th><th style = \"text-align: left;\">R8k</th><th style = \"text-align: left;\">gender</th><th style = \"text-align: left;\">naics</th><th style = \"text-align: left;\">age_group</th><th style = \"text-align: left;\">region</th><th style = \"text-align: left;\">NAICS_descr</th></tr><tr class = \"subheader headerLastRow\"><th class = \"rowNumber\" style = \"font-weight: bold; text-align: right;\"></th><th title = \"String15\" style = \"text-align: left;\">String15</th><th title = \"Int64\" style = \"text-align: left;\">Int64</th><th title = \"Int64\" style = \"text-align: left;\">Int64</th><th title = \"Int64\" style = \"text-align: left;\">Int64</th><th title = \"Int64\" style = \"text-align: left;\">Int64</th><th title = \"Int64\" style = \"text-align: left;\">Int64</th><th title = \"Int64\" style = \"text-align: left;\">Int64</th><th title = \"Int64\" style = \"text-align: left;\">Int64</th><th title = \"Int64\" style = \"text-align: left;\">Int64</th><th title = \"Int64\" style = \"text-align: left;\">Int64</th><th title = \"Int64\" style = \"text-align: left;\">Int64</th><th title = \"Int64\" style = \"text-align: left;\">Int64</th><th title = \"Int64\" style = \"text-align: left;\">Int64</th><th title = \"Int64\" style = \"text-align: left;\">Int64</th><th title = \"Int64\" style = \"text-align: left;\">Int64</th><th title = \"Int64\" style = \"text-align: left;\">Int64</th><th title = \"Union{Missing, String1}\" style = \"text-align: left;\">String1?</th><th title = \"Int64\" style = \"text-align: left;\">Int64</th><th title = \"Int64\" style = \"text-align: left;\">Int64</th><th title = \"Union{Missing, String3}\" style = \"text-align: left;\">String3?</th><th title = \"String\" style = \"text-align: left;\">String</th></tr></thead><tbody><tr><td class = \"rowNumber\" style = \"font-weight: bold; text-align: right;\">1</td><td style = \"text-align: left;\">12-FEB-2007</td><td style = \"text-align: right;\">1</td><td style = \"text-align: right;\">10</td><td style = \"text-align: right;\">5</td><td style = \"text-align: right;\">5</td><td style = \"text-align: right;\">15</td><td style = \"text-align: right;\">5</td><td style = \"text-align: right;\">0</td><td style = \"text-align: right;\">20</td><td style = \"text-align: right;\">20</td><td style = \"text-align: right;\">20</td><td style = \"text-align: right;\">10</td><td style = \"text-align: right;\">10</td><td style = \"text-align: right;\">25</td><td style = \"text-align: right;\">30</td><td style = \"text-align: right;\">45</td><td style = \"text-align: left;\">M</td><td style = \"text-align: right;\">331512</td><td style = \"text-align: right;\">4</td><td style = \"text-align: left;\">MA</td><td style = \"text-align: left;\">Steel Investment Foundries</td></tr><tr><td class = \"rowNumber\" style = \"font-weight: bold; text-align: right;\">2</td><td style = \"text-align: left;\">29-FEB-2008</td><td style = \"text-align: right;\">2</td><td style = \"text-align: right;\">15</td><td style = \"text-align: right;\">5</td><td style = \"text-align: right;\">15</td><td style = \"text-align: right;\">20</td><td style = \"text-align: right;\">20</td><td style = \"text-align: right;\">15</td><td style = \"text-align: right;\">15</td><td style = \"text-align: right;\">10</td><td style = \"text-align: right;\">0</td><td style = \"text-align: right;\">10</td><td style = \"text-align: right;\">15</td><td style = \"text-align: right;\">30</td><td style = \"text-align: right;\">20</td><td style = \"text-align: right;\">15</td><td style = \"text-align: left;\">M</td><td style = \"text-align: right;\">331512</td><td style = \"text-align: right;\">3</td><td style = \"text-align: left;\">MA</td><td style = \"text-align: left;\">Steel Investment Foundries</td></tr><tr><td class = \"rowNumber\" style = \"font-weight: bold; text-align: right;\">3</td><td style = \"text-align: left;\">08-FEB-2006</td><td style = \"text-align: right;\">3</td><td style = \"text-align: right;\">25</td><td style = \"text-align: right;\">20</td><td style = \"text-align: right;\">15</td><td style = \"text-align: right;\">20</td><td style = \"text-align: right;\">35</td><td style = \"text-align: right;\">25</td><td style = \"text-align: right;\">15</td><td style = \"text-align: right;\">20</td><td style = \"text-align: right;\">20</td><td style = \"text-align: right;\">10</td><td style = \"text-align: right;\">15</td><td style = \"text-align: right;\">40</td><td style = \"text-align: right;\">30</td><td style = \"text-align: right;\">30</td><td style = \"text-align: left;\">M</td><td style = \"text-align: right;\">331512</td><td style = \"text-align: right;\">3</td><td style = \"text-align: left;\">MA</td><td style = \"text-align: left;\">Steel Investment Foundries</td></tr><tr><td class = \"rowNumber\" style = \"font-weight: bold; text-align: right;\">4</td><td style = \"text-align: left;\">29-FEB-2008</td><td style = \"text-align: right;\">6</td><td style = \"text-align: right;\">10</td><td style = \"text-align: right;\">10</td><td style = \"text-align: right;\">10</td><td style = \"text-align: right;\">35</td><td style = \"text-align: right;\">50</td><td style = \"text-align: right;\">30</td><td style = \"text-align: right;\">10</td><td style = \"text-align: right;\">10</td><td style = \"text-align: right;\">10</td><td style = \"text-align: right;\">5</td><td style = \"text-align: right;\">30</td><td style = \"text-align: right;\">35</td><td style = \"text-align: right;\">25</td><td style = \"text-align: right;\">20</td><td style = \"text-align: left;\">M</td><td style = \"text-align: right;\">331512</td><td style = \"text-align: right;\">4</td><td style = \"text-align: left;\">MA</td><td style = \"text-align: left;\">Steel Investment Foundries</td></tr><tr><td class = \"rowNumber\" style = \"font-weight: bold; text-align: right;\">5</td><td style = \"text-align: left;\">08-FEB-2006</td><td style = \"text-align: right;\">8</td><td style = \"text-align: right;\">15</td><td style = \"text-align: right;\">15</td><td style = \"text-align: right;\">5</td><td style = \"text-align: right;\">15</td><td style = \"text-align: right;\">45</td><td style = \"text-align: right;\">30</td><td style = \"text-align: right;\">20</td><td style = \"text-align: right;\">15</td><td style = \"text-align: right;\">15</td><td style = \"text-align: right;\">5</td><td style = \"text-align: right;\">40</td><td style = \"text-align: right;\">50</td><td style = \"text-align: right;\">20</td><td style = \"text-align: right;\">5</td><td style = \"text-align: left;\">M</td><td style = \"text-align: right;\">331512</td><td style = \"text-align: right;\">3</td><td style = \"text-align: left;\">MA</td><td style = \"text-align: left;\">Steel Investment Foundries</td></tr><tr><td class = \"rowNumber\" style = \"font-weight: bold; text-align: right;\">6</td><td style = \"text-align: left;\">29-FEB-2008</td><td style = \"text-align: right;\">9</td><td style = \"text-align: right;\">10</td><td style = \"text-align: right;\">5</td><td style = \"text-align: right;\">0</td><td style = \"text-align: right;\">5</td><td style = \"text-align: right;\">15</td><td style = \"text-align: right;\">15</td><td style = \"text-align: right;\">15</td><td style = \"text-align: right;\">5</td><td style = \"text-align: right;\">0</td><td style = \"text-align: right;\">5</td><td style = \"text-align: right;\">5</td><td style = \"text-align: right;\">5</td><td style = \"text-align: right;\">5</td><td style = \"text-align: right;\">20</td><td style = \"text-align: left;\">M</td><td style = \"text-align: right;\">331512</td><td style = \"text-align: right;\">3</td><td style = \"text-align: left;\">MA</td><td style = \"text-align: left;\">Steel Investment Foundries</td></tr><tr><td class = \"rowNumber\" style = \"font-weight: bold; text-align: right;\">7</td><td style = \"text-align: left;\">29-FEB-2008</td><td style = \"text-align: right;\">10</td><td style = \"text-align: right;\">5</td><td style = \"text-align: right;\">0</td><td style = \"text-align: right;\">5</td><td style = \"text-align: right;\">5</td><td style = \"text-align: right;\">5</td><td style = \"text-align: right;\">10</td><td style = \"text-align: right;\">0</td><td style = \"text-align: right;\">10</td><td style = \"text-align: right;\">5</td><td style = \"text-align: right;\">5</td><td style = \"text-align: right;\">5</td><td style = \"text-align: right;\">5</td><td style = \"text-align: right;\">5</td><td style = \"text-align: right;\">0</td><td style = \"text-align: left;\">M</td><td style = \"text-align: right;\">331512</td><td style = \"text-align: right;\">2</td><td style = \"text-align: left;\">MA</td><td style = \"text-align: left;\">Steel Investment Foundries</td></tr><tr><td class = \"rowNumber\" style = \"font-weight: bold; text-align: right;\">8</td><td style = \"text-align: left;\">29-FEB-2008</td><td style = \"text-align: right;\">11</td><td style = \"text-align: right;\">30</td><td style = \"text-align: right;\">20</td><td style = \"text-align: right;\">25</td><td style = \"text-align: right;\">60</td><td style = \"text-align: right;\">60</td><td style = \"text-align: right;\">60</td><td style = \"text-align: right;\">30</td><td style = \"text-align: right;\">25</td><td style = \"text-align: right;\">20</td><td style = \"text-align: right;\">35</td><td style = \"text-align: right;\">65</td><td style = \"text-align: right;\">65</td><td style = \"text-align: right;\">70</td><td style = \"text-align: right;\">50</td><td style = \"text-align: left;\">M</td><td style = \"text-align: right;\">331512</td><td style = \"text-align: right;\">5</td><td style = \"text-align: left;\">MA</td><td style = \"text-align: left;\">Steel Investment Foundries</td></tr><tr><td class = \"rowNumber\" style = \"font-weight: bold; text-align: right;\">9</td><td style = \"text-align: left;\">29-FEB-2008</td><td style = \"text-align: right;\">12</td><td style = \"text-align: right;\">15</td><td style = \"text-align: right;\">10</td><td style = \"text-align: right;\">5</td><td style = \"text-align: right;\">5</td><td style = \"text-align: right;\">35</td><td style = \"text-align: right;\">20</td><td style = \"text-align: right;\">5</td><td style = \"text-align: right;\">10</td><td style = \"text-align: right;\">15</td><td style = \"text-align: right;\">5</td><td style = \"text-align: right;\">25</td><td style = \"text-align: right;\">40</td><td style = \"text-align: right;\">10</td><td style = \"text-align: right;\">20</td><td style = \"text-align: left;\">M</td><td style = \"text-align: right;\">331512</td><td style = \"text-align: right;\">3</td><td style = \"text-align: left;\">MA</td><td style = \"text-align: left;\">Steel Investment Foundries</td></tr><tr><td class = \"rowNumber\" style = \"font-weight: bold; text-align: right;\">10</td><td style = \"text-align: left;\">08-FEB-2005</td><td style = \"text-align: right;\">13</td><td style = \"text-align: right;\">10</td><td style = \"text-align: right;\">5</td><td style = \"text-align: right;\">10</td><td style = \"text-align: right;\">45</td><td style = \"text-align: right;\">50</td><td style = \"text-align: right;\">35</td><td style = \"text-align: right;\">30</td><td style = \"text-align: right;\">10</td><td style = \"text-align: right;\">10</td><td style = \"text-align: right;\">10</td><td style = \"text-align: right;\">10</td><td style = \"text-align: right;\">20</td><td style = \"text-align: right;\">5</td><td style = \"text-align: right;\">20</td><td style = \"text-align: left;\">M</td><td style = \"text-align: right;\">331512</td><td style = \"text-align: right;\">5</td><td style = \"text-align: left;\">MA</td><td style = \"text-align: left;\">Steel Investment Foundries</td></tr><tr><td class = \"rowNumber\" style = \"font-weight: bold; text-align: right;\">11</td><td style = \"text-align: left;\">29-FEB-2008</td><td style = \"text-align: right;\">14</td><td style = \"text-align: right;\">15</td><td style = \"text-align: right;\">5</td><td style = \"text-align: right;\">10</td><td style = \"text-align: right;\">55</td><td style = \"text-align: right;\">60</td><td style = \"text-align: right;\">75</td><td style = \"text-align: right;\">75</td><td style = \"text-align: right;\">15</td><td style = \"text-align: right;\">5</td><td style = \"text-align: right;\">20</td><td style = \"text-align: right;\">65</td><td style = \"text-align: right;\">65</td><td style = \"text-align: right;\">75</td><td style = \"text-align: right;\">80</td><td style = \"text-align: left;\">M</td><td style = \"text-align: right;\">331512</td><td style = \"text-align: right;\">5</td><td style = \"text-align: left;\">MA</td><td style = \"text-align: left;\">Steel Investment Foundries</td></tr><tr><td class = \"rowNumber\" style = \"font-weight: bold; text-align: right;\">12</td><td style = \"text-align: left;\">29-FEB-2008</td><td style = \"text-align: right;\">15</td><td style = \"text-align: right;\">15</td><td style = \"text-align: right;\">15</td><td style = \"text-align: right;\">15</td><td style = \"text-align: right;\">30</td><td style = \"text-align: right;\">60</td><td style = \"text-align: right;\">45</td><td style = \"text-align: right;\">15</td><td style = \"text-align: right;\">20</td><td style = \"text-align: right;\">10</td><td style = \"text-align: right;\">5</td><td style = \"text-align: right;\">35</td><td style = \"text-align: right;\">45</td><td style = \"text-align: right;\">60</td><td style = \"text-align: right;\">25</td><td style = \"text-align: left;\">M</td><td style = \"text-align: right;\">331512</td><td style = \"text-align: right;\">4</td><td style = \"text-align: left;\">MA</td><td style = \"text-align: left;\">Steel Investment Foundries</td></tr><tr><td class = \"rowNumber\" style = \"font-weight: bold; text-align: right;\">13</td><td style = \"text-align: left;\">29-FEB-2008</td><td style = \"text-align: right;\">17</td><td style = \"text-align: right;\">15</td><td style = \"text-align: right;\">10</td><td style = \"text-align: right;\">5</td><td style = \"text-align: right;\">10</td><td style = \"text-align: right;\">40</td><td style = \"text-align: right;\">20</td><td style = \"text-align: right;\">10</td><td style = \"text-align: right;\">15</td><td style = \"text-align: right;\">5</td><td style = \"text-align: right;\">0</td><td style = \"text-align: right;\">20</td><td style = \"text-align: right;\">5</td><td style = \"text-align: right;\">25</td><td style = \"text-align: right;\">5</td><td style = \"text-align: left;\">M</td><td style = \"text-align: right;\">331512</td><td style = \"text-align: right;\">2</td><td style = \"text-align: left;\">MA</td><td style = \"text-align: left;\">Steel Investment Foundries</td></tr><tr><td style = \"text-align: right;\">&vellip;</td><td style = \"text-align: right;\">&vellip;</td><td style = \"text-align: right;\">&vellip;</td><td style = \"text-align: right;\">&vellip;</td><td style = \"text-align: right;\">&vellip;</td><td style = \"text-align: right;\">&vellip;</td><td style = \"text-align: right;\">&vellip;</td><td style = \"text-align: right;\">&vellip;</td><td style = \"text-align: right;\">&vellip;</td><td style = \"text-align: right;\">&vellip;</td><td style = \"text-align: right;\">&vellip;</td><td style = \"text-align: right;\">&vellip;</td><td style = \"text-align: right;\">&vellip;</td><td style = \"text-align: right;\">&vellip;</td><td style = \"text-align: right;\">&vellip;</td><td style = \"text-align: right;\">&vellip;</td><td style = \"text-align: right;\">&vellip;</td><td style = \"text-align: right;\">&vellip;</td><td style = \"text-align: right;\">&vellip;</td><td style = \"text-align: right;\">&vellip;</td><td style = \"text-align: right;\">&vellip;</td><td style = \"text-align: right;\">&vellip;</td></tr><tr><td class = \"rowNumber\" style = \"font-weight: bold; text-align: right;\">19</td><td style = \"text-align: left;\">22-FEB-2006</td><td style = \"text-align: right;\">24</td><td style = \"text-align: right;\">5</td><td style = \"text-align: right;\">0</td><td style = \"text-align: right;\">0</td><td style = \"text-align: right;\">0</td><td style = \"text-align: right;\">5</td><td style = \"text-align: right;\">10</td><td style = \"text-align: right;\">0</td><td style = \"text-align: right;\">0</td><td style = \"text-align: right;\">0</td><td style = \"text-align: right;\">0</td><td style = \"text-align: right;\">0</td><td style = \"text-align: right;\">10</td><td style = \"text-align: right;\">0</td><td style = \"text-align: right;\">5</td><td style = \"text-align: left;\">M</td><td style = \"text-align: right;\">331512</td><td style = \"text-align: right;\">3</td><td style = \"text-align: left;\">MA</td><td style = \"text-align: left;\">Steel Investment Foundries</td></tr><tr><td class = \"rowNumber\" style = \"font-weight: bold; text-align: right;\">20</td><td style = \"text-align: left;\">12-FEB-2007</td><td style = \"text-align: right;\">26</td><td style = \"text-align: right;\">15</td><td style = \"text-align: right;\">5</td><td style = \"text-align: right;\">15</td><td style = \"text-align: right;\">25</td><td style = \"text-align: right;\">35</td><td style = \"text-align: right;\">20</td><td style = \"text-align: right;\">5</td><td style = \"text-align: right;\">10</td><td style = \"text-align: right;\">15</td><td style = \"text-align: right;\">20</td><td style = \"text-align: right;\">25</td><td style = \"text-align: right;\">55</td><td style = \"text-align: right;\">15</td><td style = \"text-align: right;\">30</td><td style = \"text-align: left;\">M</td><td style = \"text-align: right;\">331512</td><td style = \"text-align: right;\">3</td><td style = \"text-align: left;\">MA</td><td style = \"text-align: left;\">Steel Investment Foundries</td></tr><tr><td class = \"rowNumber\" style = \"font-weight: bold; text-align: right;\">21</td><td style = \"text-align: left;\">12-FEB-2007</td><td style = \"text-align: right;\">27</td><td style = \"text-align: right;\">10</td><td style = \"text-align: right;\">5</td><td style = \"text-align: right;\">5</td><td style = \"text-align: right;\">10</td><td style = \"text-align: right;\">5</td><td style = \"text-align: right;\">0</td><td style = \"text-align: right;\">5</td><td style = \"text-align: right;\">10</td><td style = \"text-align: right;\">5</td><td style = \"text-align: right;\">10</td><td style = \"text-align: right;\">10</td><td style = \"text-align: right;\">10</td><td style = \"text-align: right;\">15</td><td style = \"text-align: right;\">5</td><td style = \"text-align: left;\">M</td><td style = \"text-align: right;\">331512</td><td style = \"text-align: right;\">2</td><td style = \"text-align: left;\">MA</td><td style = \"text-align: left;\">Steel Investment Foundries</td></tr><tr><td class = \"rowNumber\" style = \"font-weight: bold; text-align: right;\">22</td><td style = \"text-align: left;\">29-FEB-2008</td><td style = \"text-align: right;\">29</td><td style = \"text-align: right;\">20</td><td style = \"text-align: right;\">15</td><td style = \"text-align: right;\">15</td><td style = \"text-align: right;\">20</td><td style = \"text-align: right;\">25</td><td style = \"text-align: right;\">25</td><td style = \"text-align: right;\">10</td><td style = \"text-align: right;\">15</td><td style = \"text-align: right;\">20</td><td style = \"text-align: right;\">10</td><td style = \"text-align: right;\">10</td><td style = \"text-align: right;\">20</td><td style = \"text-align: right;\">25</td><td style = \"text-align: right;\">25</td><td style = \"text-align: left;\">M</td><td style = \"text-align: right;\">331512</td><td style = \"text-align: right;\">4</td><td style = \"text-align: left;\">MA</td><td style = \"text-align: left;\">Steel Investment Foundries</td></tr><tr><td class = \"rowNumber\" style = \"font-weight: bold; text-align: right;\">23</td><td style = \"text-align: left;\">12-FEB-2007</td><td style = \"text-align: right;\">30</td><td style = \"text-align: right;\">25</td><td style = \"text-align: right;\">20</td><td style = \"text-align: right;\">15</td><td style = \"text-align: right;\">10</td><td style = \"text-align: right;\">10</td><td style = \"text-align: right;\">30</td><td style = \"text-align: right;\">15</td><td style = \"text-align: right;\">25</td><td style = \"text-align: right;\">20</td><td style = \"text-align: right;\">15</td><td style = \"text-align: right;\">25</td><td style = \"text-align: right;\">30</td><td style = \"text-align: right;\">10</td><td style = \"text-align: right;\">5</td><td style = \"text-align: left;\">M</td><td style = \"text-align: right;\">331512</td><td style = \"text-align: right;\">4</td><td style = \"text-align: left;\">MA</td><td style = \"text-align: left;\">Steel Investment Foundries</td></tr><tr><td class = \"rowNumber\" style = \"font-weight: bold; text-align: right;\">24</td><td style = \"text-align: left;\">29-FEB-2008</td><td style = \"text-align: right;\">31</td><td style = \"text-align: right;\">20</td><td style = \"text-align: right;\">15</td><td style = \"text-align: right;\">20</td><td style = \"text-align: right;\">20</td><td style = \"text-align: right;\">25</td><td style = \"text-align: right;\">40</td><td style = \"text-align: right;\">10</td><td style = \"text-align: right;\">15</td><td style = \"text-align: right;\">15</td><td style = \"text-align: right;\">10</td><td style = \"text-align: right;\">25</td><td style = \"text-align: right;\">20</td><td style = \"text-align: right;\">35</td><td style = \"text-align: right;\">10</td><td style = \"text-align: left;\">M</td><td style = \"text-align: right;\">331512</td><td style = \"text-align: right;\">1</td><td style = \"text-align: left;\">MA</td><td style = \"text-align: left;\">Steel Investment Foundries</td></tr><tr><td class = \"rowNumber\" style = \"font-weight: bold; text-align: right;\">25</td><td style = \"text-align: left;\">29-FEB-2008</td><td style = \"text-align: right;\">32</td><td style = \"text-align: right;\">10</td><td style = \"text-align: right;\">0</td><td style = \"text-align: right;\">10</td><td style = \"text-align: right;\">5</td><td style = \"text-align: right;\">5</td><td style = \"text-align: right;\">25</td><td style = \"text-align: right;\">15</td><td style = \"text-align: right;\">10</td><td style = \"text-align: right;\">5</td><td style = \"text-align: right;\">10</td><td style = \"text-align: right;\">0</td><td style = \"text-align: right;\">0</td><td style = \"text-align: right;\">25</td><td style = \"text-align: right;\">15</td><td style = \"text-align: left;\">M</td><td style = \"text-align: right;\">331512</td><td style = \"text-align: right;\">2</td><td style = \"text-align: left;\">MA</td><td style = \"text-align: left;\">Steel Investment Foundries</td></tr><tr><td class = \"rowNumber\" style = \"font-weight: bold; text-align: right;\">26</td><td style = \"text-align: left;\">12-FEB-2007</td><td style = \"text-align: right;\">33</td><td style = \"text-align: right;\">15</td><td style = \"text-align: right;\">10</td><td style = \"text-align: right;\">5</td><td style = \"text-align: right;\">10</td><td style = \"text-align: right;\">5</td><td style = \"text-align: right;\">15</td><td style = \"text-align: right;\">20</td><td style = \"text-align: right;\">10</td><td style = \"text-align: right;\">15</td><td style = \"text-align: right;\">5</td><td style = \"text-align: right;\">10</td><td style = \"text-align: right;\">15</td><td style = \"text-align: right;\">0</td><td style = \"text-align: right;\">10</td><td style = \"text-align: left;\">M</td><td style = \"text-align: right;\">331512</td><td style = \"text-align: right;\">2</td><td style = \"text-align: left;\">MA</td><td style = \"text-align: left;\">Steel Investment Foundries</td></tr><tr><td class = \"rowNumber\" style = \"font-weight: bold; text-align: right;\">27</td><td style = \"text-align: left;\">29-FEB-2008</td><td style = \"text-align: right;\">34</td><td style = \"text-align: right;\">15</td><td style = \"text-align: right;\">15</td><td style = \"text-align: right;\">10</td><td style = \"text-align: right;\">15</td><td style = \"text-align: right;\">5</td><td style = \"text-align: right;\">20</td><td style = \"text-align: right;\">20</td><td style = \"text-align: right;\">15</td><td style = \"text-align: right;\">20</td><td style = \"text-align: right;\">10</td><td style = \"text-align: right;\">25</td><td style = \"text-align: right;\">10</td><td style = \"text-align: right;\">10</td><td style = \"text-align: right;\">10</td><td style = \"text-align: left;\">M</td><td style = \"text-align: right;\">331512</td><td style = \"text-align: right;\">2</td><td style = \"text-align: left;\">MA</td><td style = \"text-align: left;\">Steel Investment Foundries</td></tr><tr><td class = \"rowNumber\" style = \"font-weight: bold; text-align: right;\">28</td><td style = \"text-align: left;\">29-FEB-2008</td><td style = \"text-align: right;\">35</td><td style = \"text-align: right;\">10</td><td style = \"text-align: right;\">15</td><td style = \"text-align: right;\">30</td><td style = \"text-align: right;\">40</td><td style = \"text-align: right;\">55</td><td style = \"text-align: right;\">45</td><td style = \"text-align: right;\">45</td><td style = \"text-align: right;\">15</td><td style = \"text-align: right;\">15</td><td style = \"text-align: right;\">25</td><td style = \"text-align: right;\">55</td><td style = \"text-align: right;\">55</td><td style = \"text-align: right;\">30</td><td style = \"text-align: right;\">35</td><td style = \"text-align: left;\">M</td><td style = \"text-align: right;\">331512</td><td style = \"text-align: right;\">4</td><td style = \"text-align: left;\">MA</td><td style = \"text-align: left;\">Steel Investment Foundries</td></tr><tr><td class = \"rowNumber\" style = \"font-weight: bold; text-align: right;\">29</td><td style = \"text-align: left;\">29-FEB-2008</td><td style = \"text-align: right;\">37</td><td style = \"text-align: right;\">10</td><td style = \"text-align: right;\">5</td><td style = \"text-align: right;\">0</td><td style = \"text-align: right;\">20</td><td style = \"text-align: right;\">10</td><td style = \"text-align: right;\">20</td><td style = \"text-align: right;\">10</td><td style = \"text-align: right;\">10</td><td style = \"text-align: right;\">5</td><td style = \"text-align: right;\">15</td><td style = \"text-align: right;\">5</td><td style = \"text-align: right;\">0</td><td style = \"text-align: right;\">5</td><td style = \"text-align: right;\">10</td><td style = \"text-align: left;\">M</td><td style = \"text-align: right;\">331512</td><td style = \"text-align: right;\">3</td><td style = \"text-align: left;\">MA</td><td style = \"text-align: left;\">Steel Investment Foundries</td></tr><tr><td class = \"rowNumber\" style = \"font-weight: bold; text-align: right;\">30</td><td style = \"text-align: left;\">29-FEB-2008</td><td style = \"text-align: right;\">39</td><td style = \"text-align: right;\">5</td><td style = \"text-align: right;\">5</td><td style = \"text-align: right;\">10</td><td style = \"text-align: right;\">25</td><td style = \"text-align: right;\">15</td><td style = \"text-align: right;\">20</td><td style = \"text-align: right;\">10</td><td style = \"text-align: right;\">5</td><td style = \"text-align: right;\">10</td><td style = \"text-align: right;\">10</td><td style = \"text-align: right;\">20</td><td style = \"text-align: right;\">40</td><td style = \"text-align: right;\">30</td><td style = \"text-align: right;\">10</td><td style = \"text-align: left;\">M</td><td style = \"text-align: right;\">331512</td><td style = \"text-align: right;\">2</td><td style = \"text-align: left;\">MA</td><td style = \"text-align: left;\">Steel Investment Foundries</td></tr></tbody></table></div>"
      ],
      "text/latex": [
       "\\begin{tabular}{r|cccccccccccc}\n",
       "\t& test\\_date & nid & L500k & L1k & L2k & L3k & L4k & L6k & L8k & R500k & R1k & \\\\\n",
       "\t\\hline\n",
       "\t& String15 & Int64 & Int64 & Int64 & Int64 & Int64 & Int64 & Int64 & Int64 & Int64 & Int64 & \\\\\n",
       "\t\\hline\n",
       "\t1 & 12-FEB-2007 & 1 & 10 & 5 & 5 & 15 & 5 & 0 & 20 & 20 & 20 & $\\dots$ \\\\\n",
       "\t2 & 29-FEB-2008 & 2 & 15 & 5 & 15 & 20 & 20 & 15 & 15 & 10 & 0 & $\\dots$ \\\\\n",
       "\t3 & 08-FEB-2006 & 3 & 25 & 20 & 15 & 20 & 35 & 25 & 15 & 20 & 20 & $\\dots$ \\\\\n",
       "\t4 & 29-FEB-2008 & 6 & 10 & 10 & 10 & 35 & 50 & 30 & 10 & 10 & 10 & $\\dots$ \\\\\n",
       "\t5 & 08-FEB-2006 & 8 & 15 & 15 & 5 & 15 & 45 & 30 & 20 & 15 & 15 & $\\dots$ \\\\\n",
       "\t6 & 29-FEB-2008 & 9 & 10 & 5 & 0 & 5 & 15 & 15 & 15 & 5 & 0 & $\\dots$ \\\\\n",
       "\t7 & 29-FEB-2008 & 10 & 5 & 0 & 5 & 5 & 5 & 10 & 0 & 10 & 5 & $\\dots$ \\\\\n",
       "\t8 & 29-FEB-2008 & 11 & 30 & 20 & 25 & 60 & 60 & 60 & 30 & 25 & 20 & $\\dots$ \\\\\n",
       "\t9 & 29-FEB-2008 & 12 & 15 & 10 & 5 & 5 & 35 & 20 & 5 & 10 & 15 & $\\dots$ \\\\\n",
       "\t10 & 08-FEB-2005 & 13 & 10 & 5 & 10 & 45 & 50 & 35 & 30 & 10 & 10 & $\\dots$ \\\\\n",
       "\t11 & 29-FEB-2008 & 14 & 15 & 5 & 10 & 55 & 60 & 75 & 75 & 15 & 5 & $\\dots$ \\\\\n",
       "\t12 & 29-FEB-2008 & 15 & 15 & 15 & 15 & 30 & 60 & 45 & 15 & 20 & 10 & $\\dots$ \\\\\n",
       "\t13 & 29-FEB-2008 & 17 & 15 & 10 & 5 & 10 & 40 & 20 & 10 & 15 & 5 & $\\dots$ \\\\\n",
       "\t14 & 08-FEB-2006 & 18 & 10 & 10 & 5 & 35 & 40 & 35 & 10 & 10 & 5 & $\\dots$ \\\\\n",
       "\t15 & 12-FEB-2007 & 20 & 15 & 5 & 10 & 50 & 50 & 15 & 20 & 15 & 10 & $\\dots$ \\\\\n",
       "\t16 & 22-FEB-2006 & 21 & 5 & 0 & 5 & 20 & 10 & 25 & 0 & 5 & 0 & $\\dots$ \\\\\n",
       "\t17 & 29-FEB-2008 & 22 & 15 & 5 & 5 & 15 & 15 & 40 & 15 & 10 & 10 & $\\dots$ \\\\\n",
       "\t18 & 29-FEB-2008 & 23 & 10 & 10 & 5 & 5 & 20 & 20 & 15 & 10 & 5 & $\\dots$ \\\\\n",
       "\t19 & 22-FEB-2006 & 24 & 5 & 0 & 0 & 0 & 5 & 10 & 0 & 0 & 0 & $\\dots$ \\\\\n",
       "\t20 & 12-FEB-2007 & 26 & 15 & 5 & 15 & 25 & 35 & 20 & 5 & 10 & 15 & $\\dots$ \\\\\n",
       "\t21 & 12-FEB-2007 & 27 & 10 & 5 & 5 & 10 & 5 & 0 & 5 & 10 & 5 & $\\dots$ \\\\\n",
       "\t22 & 29-FEB-2008 & 29 & 20 & 15 & 15 & 20 & 25 & 25 & 10 & 15 & 20 & $\\dots$ \\\\\n",
       "\t23 & 12-FEB-2007 & 30 & 25 & 20 & 15 & 10 & 10 & 30 & 15 & 25 & 20 & $\\dots$ \\\\\n",
       "\t24 & 29-FEB-2008 & 31 & 20 & 15 & 20 & 20 & 25 & 40 & 10 & 15 & 15 & $\\dots$ \\\\\n",
       "\t$\\dots$ & $\\dots$ & $\\dots$ & $\\dots$ & $\\dots$ & $\\dots$ & $\\dots$ & $\\dots$ & $\\dots$ & $\\dots$ & $\\dots$ & $\\dots$ &  \\\\\n",
       "\\end{tabular}\n"
      ],
      "text/plain": [
       "\u001b[1m30×21 DataFrame\u001b[0m\n",
       "\u001b[1m Row \u001b[0m│\u001b[1m test_date   \u001b[0m\u001b[1m nid   \u001b[0m\u001b[1m L500k \u001b[0m\u001b[1m L1k   \u001b[0m\u001b[1m L2k   \u001b[0m\u001b[1m L3k   \u001b[0m\u001b[1m L4k   \u001b[0m\u001b[1m L6k   \u001b[0m\u001b[1m L8k   \u001b[0m\u001b[1m R5\u001b[0m ⋯\n",
       "     │\u001b[90m String15    \u001b[0m\u001b[90m Int64 \u001b[0m\u001b[90m Int64 \u001b[0m\u001b[90m Int64 \u001b[0m\u001b[90m Int64 \u001b[0m\u001b[90m Int64 \u001b[0m\u001b[90m Int64 \u001b[0m\u001b[90m Int64 \u001b[0m\u001b[90m Int64 \u001b[0m\u001b[90m In\u001b[0m ⋯\n",
       "─────┼──────────────────────────────────────────────────────────────────────────\n",
       "   1 │ 12-FEB-2007      1     10      5      5     15      5      0     20     ⋯\n",
       "   2 │ 29-FEB-2008      2     15      5     15     20     20     15     15\n",
       "   3 │ 08-FEB-2006      3     25     20     15     20     35     25     15\n",
       "   4 │ 29-FEB-2008      6     10     10     10     35     50     30     10\n",
       "   5 │ 08-FEB-2006      8     15     15      5     15     45     30     20     ⋯\n",
       "   6 │ 29-FEB-2008      9     10      5      0      5     15     15     15\n",
       "   7 │ 29-FEB-2008     10      5      0      5      5      5     10      0\n",
       "   8 │ 29-FEB-2008     11     30     20     25     60     60     60     30\n",
       "  ⋮  │      ⋮         ⋮      ⋮      ⋮      ⋮      ⋮      ⋮      ⋮      ⋮       ⋱\n",
       "  24 │ 29-FEB-2008     31     20     15     20     20     25     40     10     ⋯\n",
       "  25 │ 29-FEB-2008     32     10      0     10      5      5     25     15\n",
       "  26 │ 12-FEB-2007     33     15     10      5     10      5     15     20\n",
       "  27 │ 29-FEB-2008     34     15     15     10     15      5     20     20\n",
       "  28 │ 29-FEB-2008     35     10     15     30     40     55     45     45     ⋯\n",
       "  29 │ 29-FEB-2008     37     10      5      0     20     10     20     10\n",
       "  30 │ 29-FEB-2008     39      5      5     10     25     15     20     10\n",
       "\u001b[36m                                                  12 columns and 15 rows omitted\u001b[0m"
      ]
     },
     "metadata": {},
     "output_type": "display_data"
    }
   ],
   "source": [
    "using DataFrames, CSV, Statistics, StatsBase\n",
    "\n",
    "# cargar base (ajusta la ruta si hace falta)\n",
    "df = CSV.read(\"C:\\\\Users\\\\USUARIO\\\\ing_datos\\\\data\\\\raw\\\\Paper1_WebData_Final.csv\", DataFrame)\n",
    "\n",
    "# ----------------------------------------------------------------\n",
    "# Función: reemplazar códigos especiales (997, 998, 999) por missing\n",
    "# ----------------------------------------------------------------\n",
    "function limpiar_codigos!(df::DataFrame, codigos::Vector{Int})\n",
    "    for c in names(df)\n",
    "        # trabajar solo en columnas numéricas (o que acepten missing numérico)\n",
    "        col = df[!, c]\n",
    "        if eltype(col) <: Number || eltype(col) <: Union{Missing, Number}\n",
    "            # asegurar que la columna pueda contener missing\n",
    "            if !(eltype(col) <: Union{Missing, eltype(skipmissing(col))})\n",
    "                col = Vector{Union{Missing, eltype(col)}}(col)\n",
    "            end\n",
    "\n",
    "            # opción A: máscara sin missing usando coalesce\n",
    "            mask = coalesce.(col .∈ Ref(codigos), false)\n",
    "\n",
    "            # opción B (alternativa): usar map para evitar missing en la condición\n",
    "            # mask = map(x -> (!ismissing(x) && x in codigos), col)\n",
    "\n",
    "            # reemplazar donde mask==true por missing\n",
    "            df[!, c] = ifelse.(mask, missing, col)\n",
    "        end\n",
    "    end\n",
    "end\n",
    "\n",
    "# ----------------------------------------------------------------\n",
    "# Función: imputar missing por la media (redondeada si es entero)\n",
    "# ----------------------------------------------------------------\n",
    "function imputar_media!(df::DataFrame)\n",
    "    for c in names(df)\n",
    "        col = df[!, c]\n",
    "        if eltype(col) <: Union{Missing, Number} || eltype(col) <: Number\n",
    "            # asegurarnos de que la columna permita missing\n",
    "            if !(eltype(col) <: Union{Missing, eltype(skipmissing(col))})\n",
    "                col = Vector{Union{Missing, eltype(col)}}(col)\n",
    "            end\n",
    "\n",
    "            if any(ismissing, col)\n",
    "                media = mean(skipmissing(col))\n",
    "                # redondear si la columna original eran enteros\n",
    "                if eltype(skipmissing(col)) <: Integer\n",
    "                    media = round(Int, media)\n",
    "                end\n",
    "                df[!, c] = coalesce.(col, media)\n",
    "            end\n",
    "        end\n",
    "    end\n",
    "end\n",
    "\n",
    "# ---------------------------\n",
    "# Ejecutar el pipeline\n",
    "# ---------------------------\n",
    "limpiar_codigos!(df, [997, 998, 999])   # step 1: poner missing donde haya esos códigos\n",
    "imputar_media!(df)                      # step 2: imputar missing con la media\n",
    "\n",
    "# ver primeras filas para comprobar\n",
    "first(df, 30)"
   ]
  },
  {
   "cell_type": "markdown",
   "id": "64b74e6b",
   "metadata": {},
   "source": [
    "# Normalización del esquema\n",
    "\n",
    "Como parte de la transformación de datos, aplicamos una técnica de normalización del esquema que consiste en estandarizar los nombres de las columnas, reorganizar su orden y agregar metadatos relevantes. Esta práctica mejora la legibilidad, consistencia y compatibilidad del conjunto de datos con otros sistemas, como almacenes de datos o modelos analíticos. Además, facilita el mantenimiento y la trazabilidad del flujo de datos al incluir información como la fecha de procesamiento y la fuente de origen."
   ]
  },
  {
   "cell_type": "code",
   "execution_count": null,
   "id": "26d72282",
   "metadata": {},
   "outputs": [
    {
     "data": {
      "text/html": [
       "<div><div style = \"float: left;\"><span>10×19 DataFrame</span></div><div style = \"clear: both;\"></div></div><div class = \"data-frame\" style = \"overflow-x: scroll;\"><table class = \"data-frame\" style = \"margin-bottom: 6px;\"><thead><tr class = \"header\"><th class = \"rowNumber\" style = \"font-weight: bold; text-align: right;\">Row</th><th style = \"text-align: left;\">gender</th><th style = \"text-align: left;\">test_date</th><th style = \"text-align: left;\">naics_description</th><th style = \"text-align: left;\">left_ear_500hz</th><th style = \"text-align: left;\">left_ear_1000hz</th><th style = \"text-align: left;\">left_ear_2000hz</th><th style = \"text-align: left;\">left_ear_3000hz</th><th style = \"text-align: left;\">left_ear_4000hz</th><th style = \"text-align: left;\">left_ear_6000hz</th><th style = \"text-align: left;\">left_ear_8000hz</th><th style = \"text-align: left;\">right_ear_500hz</th><th style = \"text-align: left;\">right_ear_1000hz</th><th style = \"text-align: left;\">right_ear_2000hz</th><th style = \"text-align: left;\">right_ear_3000hz</th><th style = \"text-align: left;\">right_ear_4000hz</th><th style = \"text-align: left;\">right_ear_6000hz</th><th style = \"text-align: left;\">right_ear_8000hz</th><th style = \"text-align: left;\">processed_at</th><th style = \"text-align: left;\">data_source</th></tr><tr class = \"subheader headerLastRow\"><th class = \"rowNumber\" style = \"font-weight: bold; text-align: right;\"></th><th title = \"Union{Missing, String1}\" style = \"text-align: left;\">String1?</th><th title = \"String15\" style = \"text-align: left;\">String15</th><th title = \"String\" style = \"text-align: left;\">String</th><th title = \"Union{Missing, Int64}\" style = \"text-align: left;\">Int64?</th><th title = \"Union{Missing, Int64}\" style = \"text-align: left;\">Int64?</th><th title = \"Union{Missing, Int64}\" style = \"text-align: left;\">Int64?</th><th title = \"Union{Missing, Int64}\" style = \"text-align: left;\">Int64?</th><th title = \"Union{Missing, Int64}\" style = \"text-align: left;\">Int64?</th><th title = \"Union{Missing, Int64}\" style = \"text-align: left;\">Int64?</th><th title = \"Union{Missing, Int64}\" style = \"text-align: left;\">Int64?</th><th title = \"Union{Missing, Int64}\" style = \"text-align: left;\">Int64?</th><th title = \"Union{Missing, Int64}\" style = \"text-align: left;\">Int64?</th><th title = \"Union{Missing, Int64}\" style = \"text-align: left;\">Int64?</th><th title = \"Union{Missing, Int64}\" style = \"text-align: left;\">Int64?</th><th title = \"Union{Missing, Int64}\" style = \"text-align: left;\">Int64?</th><th title = \"Union{Missing, Int64}\" style = \"text-align: left;\">Int64?</th><th title = \"Union{Missing, Int64}\" style = \"text-align: left;\">Int64?</th><th title = \"DateTime\" style = \"text-align: left;\">DateTime</th><th title = \"String\" style = \"text-align: left;\">String</th></tr></thead><tbody><tr><td class = \"rowNumber\" style = \"font-weight: bold; text-align: right;\">1</td><td style = \"text-align: left;\">M</td><td style = \"text-align: left;\">12-FEB-2007</td><td style = \"text-align: left;\">Steel Investment Foundries</td><td style = \"text-align: right;\">10</td><td style = \"text-align: right;\">5</td><td style = \"text-align: right;\">5</td><td style = \"text-align: right;\">15</td><td style = \"text-align: right;\">5</td><td style = \"text-align: right;\">0</td><td style = \"text-align: right;\">20</td><td style = \"text-align: right;\">20</td><td style = \"text-align: right;\">20</td><td style = \"text-align: right;\">10</td><td style = \"text-align: right;\">10</td><td style = \"text-align: right;\">25</td><td style = \"text-align: right;\">30</td><td style = \"text-align: right;\">45</td><td style = \"text-align: left;\">2025-09-06T23:25:17.841</td><td style = \"text-align: left;\">user_database</td></tr><tr><td class = \"rowNumber\" style = \"font-weight: bold; text-align: right;\">2</td><td style = \"text-align: left;\">M</td><td style = \"text-align: left;\">29-FEB-2008</td><td style = \"text-align: left;\">Steel Investment Foundries</td><td style = \"text-align: right;\">15</td><td style = \"text-align: right;\">5</td><td style = \"text-align: right;\">15</td><td style = \"text-align: right;\">20</td><td style = \"text-align: right;\">20</td><td style = \"text-align: right;\">15</td><td style = \"text-align: right;\">15</td><td style = \"text-align: right;\">10</td><td style = \"text-align: right;\">0</td><td style = \"text-align: right;\">10</td><td style = \"text-align: right;\">15</td><td style = \"text-align: right;\">30</td><td style = \"text-align: right;\">20</td><td style = \"text-align: right;\">15</td><td style = \"text-align: left;\">2025-09-06T23:25:17.841</td><td style = \"text-align: left;\">user_database</td></tr><tr><td class = \"rowNumber\" style = \"font-weight: bold; text-align: right;\">3</td><td style = \"text-align: left;\">M</td><td style = \"text-align: left;\">08-FEB-2006</td><td style = \"text-align: left;\">Steel Investment Foundries</td><td style = \"text-align: right;\">25</td><td style = \"text-align: right;\">20</td><td style = \"text-align: right;\">15</td><td style = \"text-align: right;\">20</td><td style = \"text-align: right;\">35</td><td style = \"text-align: right;\">25</td><td style = \"text-align: right;\">15</td><td style = \"text-align: right;\">20</td><td style = \"text-align: right;\">20</td><td style = \"text-align: right;\">10</td><td style = \"text-align: right;\">15</td><td style = \"text-align: right;\">40</td><td style = \"text-align: right;\">30</td><td style = \"text-align: right;\">30</td><td style = \"text-align: left;\">2025-09-06T23:25:17.841</td><td style = \"text-align: left;\">user_database</td></tr><tr><td class = \"rowNumber\" style = \"font-weight: bold; text-align: right;\">4</td><td style = \"text-align: left;\">M</td><td style = \"text-align: left;\">29-FEB-2008</td><td style = \"text-align: left;\">Steel Investment Foundries</td><td style = \"text-align: right;\">10</td><td style = \"text-align: right;\">10</td><td style = \"text-align: right;\">10</td><td style = \"text-align: right;\">35</td><td style = \"text-align: right;\">50</td><td style = \"text-align: right;\">30</td><td style = \"text-align: right;\">10</td><td style = \"text-align: right;\">10</td><td style = \"text-align: right;\">10</td><td style = \"text-align: right;\">5</td><td style = \"text-align: right;\">30</td><td style = \"text-align: right;\">35</td><td style = \"text-align: right;\">25</td><td style = \"text-align: right;\">20</td><td style = \"text-align: left;\">2025-09-06T23:25:17.841</td><td style = \"text-align: left;\">user_database</td></tr><tr><td class = \"rowNumber\" style = \"font-weight: bold; text-align: right;\">5</td><td style = \"text-align: left;\">M</td><td style = \"text-align: left;\">08-FEB-2006</td><td style = \"text-align: left;\">Steel Investment Foundries</td><td style = \"text-align: right;\">15</td><td style = \"text-align: right;\">15</td><td style = \"text-align: right;\">5</td><td style = \"text-align: right;\">15</td><td style = \"text-align: right;\">45</td><td style = \"text-align: right;\">30</td><td style = \"text-align: right;\">20</td><td style = \"text-align: right;\">15</td><td style = \"text-align: right;\">15</td><td style = \"text-align: right;\">5</td><td style = \"text-align: right;\">40</td><td style = \"text-align: right;\">50</td><td style = \"text-align: right;\">20</td><td style = \"text-align: right;\">5</td><td style = \"text-align: left;\">2025-09-06T23:25:17.841</td><td style = \"text-align: left;\">user_database</td></tr><tr><td class = \"rowNumber\" style = \"font-weight: bold; text-align: right;\">6</td><td style = \"text-align: left;\">M</td><td style = \"text-align: left;\">29-FEB-2008</td><td style = \"text-align: left;\">Steel Investment Foundries</td><td style = \"text-align: right;\">10</td><td style = \"text-align: right;\">5</td><td style = \"text-align: right;\">0</td><td style = \"text-align: right;\">5</td><td style = \"text-align: right;\">15</td><td style = \"text-align: right;\">15</td><td style = \"text-align: right;\">15</td><td style = \"text-align: right;\">5</td><td style = \"text-align: right;\">0</td><td style = \"text-align: right;\">5</td><td style = \"text-align: right;\">5</td><td style = \"text-align: right;\">5</td><td style = \"text-align: right;\">5</td><td style = \"text-align: right;\">20</td><td style = \"text-align: left;\">2025-09-06T23:25:17.841</td><td style = \"text-align: left;\">user_database</td></tr><tr><td class = \"rowNumber\" style = \"font-weight: bold; text-align: right;\">7</td><td style = \"text-align: left;\">M</td><td style = \"text-align: left;\">29-FEB-2008</td><td style = \"text-align: left;\">Steel Investment Foundries</td><td style = \"text-align: right;\">5</td><td style = \"text-align: right;\">0</td><td style = \"text-align: right;\">5</td><td style = \"text-align: right;\">5</td><td style = \"text-align: right;\">5</td><td style = \"text-align: right;\">10</td><td style = \"text-align: right;\">0</td><td style = \"text-align: right;\">10</td><td style = \"text-align: right;\">5</td><td style = \"text-align: right;\">5</td><td style = \"text-align: right;\">5</td><td style = \"text-align: right;\">5</td><td style = \"text-align: right;\">5</td><td style = \"text-align: right;\">0</td><td style = \"text-align: left;\">2025-09-06T23:25:17.841</td><td style = \"text-align: left;\">user_database</td></tr><tr><td class = \"rowNumber\" style = \"font-weight: bold; text-align: right;\">8</td><td style = \"text-align: left;\">M</td><td style = \"text-align: left;\">29-FEB-2008</td><td style = \"text-align: left;\">Steel Investment Foundries</td><td style = \"text-align: right;\">30</td><td style = \"text-align: right;\">20</td><td style = \"text-align: right;\">25</td><td style = \"text-align: right;\">60</td><td style = \"text-align: right;\">60</td><td style = \"text-align: right;\">60</td><td style = \"text-align: right;\">30</td><td style = \"text-align: right;\">25</td><td style = \"text-align: right;\">20</td><td style = \"text-align: right;\">35</td><td style = \"text-align: right;\">65</td><td style = \"text-align: right;\">65</td><td style = \"text-align: right;\">70</td><td style = \"text-align: right;\">50</td><td style = \"text-align: left;\">2025-09-06T23:25:17.841</td><td style = \"text-align: left;\">user_database</td></tr><tr><td class = \"rowNumber\" style = \"font-weight: bold; text-align: right;\">9</td><td style = \"text-align: left;\">M</td><td style = \"text-align: left;\">29-FEB-2008</td><td style = \"text-align: left;\">Steel Investment Foundries</td><td style = \"text-align: right;\">15</td><td style = \"text-align: right;\">10</td><td style = \"text-align: right;\">5</td><td style = \"text-align: right;\">5</td><td style = \"text-align: right;\">35</td><td style = \"text-align: right;\">20</td><td style = \"text-align: right;\">5</td><td style = \"text-align: right;\">10</td><td style = \"text-align: right;\">15</td><td style = \"text-align: right;\">5</td><td style = \"text-align: right;\">25</td><td style = \"text-align: right;\">40</td><td style = \"text-align: right;\">10</td><td style = \"text-align: right;\">20</td><td style = \"text-align: left;\">2025-09-06T23:25:17.841</td><td style = \"text-align: left;\">user_database</td></tr><tr><td class = \"rowNumber\" style = \"font-weight: bold; text-align: right;\">10</td><td style = \"text-align: left;\">M</td><td style = \"text-align: left;\">08-FEB-2005</td><td style = \"text-align: left;\">Steel Investment Foundries</td><td style = \"text-align: right;\">10</td><td style = \"text-align: right;\">5</td><td style = \"text-align: right;\">10</td><td style = \"text-align: right;\">45</td><td style = \"text-align: right;\">50</td><td style = \"text-align: right;\">35</td><td style = \"text-align: right;\">30</td><td style = \"text-align: right;\">10</td><td style = \"text-align: right;\">10</td><td style = \"text-align: right;\">10</td><td style = \"text-align: right;\">10</td><td style = \"text-align: right;\">20</td><td style = \"text-align: right;\">5</td><td style = \"text-align: right;\">20</td><td style = \"text-align: left;\">2025-09-06T23:25:17.841</td><td style = \"text-align: left;\">user_database</td></tr></tbody></table></div>"
      ],
      "text/latex": [
       "\\begin{tabular}{r|cccccc}\n",
       "\t& gender & test\\_date & naics\\_description & left\\_ear\\_500hz & left\\_ear\\_1000hz & \\\\\n",
       "\t\\hline\n",
       "\t& String1? & String15 & String & Int64? & Int64? & \\\\\n",
       "\t\\hline\n",
       "\t1 & M & 12-FEB-2007 & Steel Investment Foundries & 10 & 5 & $\\dots$ \\\\\n",
       "\t2 & M & 29-FEB-2008 & Steel Investment Foundries & 15 & 5 & $\\dots$ \\\\\n",
       "\t3 & M & 08-FEB-2006 & Steel Investment Foundries & 25 & 20 & $\\dots$ \\\\\n",
       "\t4 & M & 29-FEB-2008 & Steel Investment Foundries & 10 & 10 & $\\dots$ \\\\\n",
       "\t5 & M & 08-FEB-2006 & Steel Investment Foundries & 15 & 15 & $\\dots$ \\\\\n",
       "\t6 & M & 29-FEB-2008 & Steel Investment Foundries & 10 & 5 & $\\dots$ \\\\\n",
       "\t7 & M & 29-FEB-2008 & Steel Investment Foundries & 5 & 0 & $\\dots$ \\\\\n",
       "\t8 & M & 29-FEB-2008 & Steel Investment Foundries & 30 & 20 & $\\dots$ \\\\\n",
       "\t9 & M & 29-FEB-2008 & Steel Investment Foundries & 15 & 10 & $\\dots$ \\\\\n",
       "\t10 & M & 08-FEB-2005 & Steel Investment Foundries & 10 & 5 & $\\dots$ \\\\\n",
       "\\end{tabular}\n"
      ],
      "text/plain": [
       "\u001b[1m10×19 DataFrame\u001b[0m\n",
       "\u001b[1m Row \u001b[0m│\u001b[1m gender   \u001b[0m\u001b[1m test_date   \u001b[0m\u001b[1m naics_description          \u001b[0m\u001b[1m left_ear_500hz \u001b[0m\u001b[1m left\u001b[0m ⋯\n",
       "     │\u001b[90m String1? \u001b[0m\u001b[90m String15    \u001b[0m\u001b[90m String                     \u001b[0m\u001b[90m Int64?         \u001b[0m\u001b[90m Int6\u001b[0m ⋯\n",
       "─────┼──────────────────────────────────────────────────────────────────────────\n",
       "   1 │ M         12-FEB-2007  Steel Investment Foundries              10       ⋯\n",
       "   2 │ M         29-FEB-2008  Steel Investment Foundries              15\n",
       "   3 │ M         08-FEB-2006  Steel Investment Foundries              25\n",
       "   4 │ M         29-FEB-2008  Steel Investment Foundries              10\n",
       "   5 │ M         08-FEB-2006  Steel Investment Foundries              15       ⋯\n",
       "   6 │ M         29-FEB-2008  Steel Investment Foundries              10\n",
       "   7 │ M         29-FEB-2008  Steel Investment Foundries               5\n",
       "   8 │ M         29-FEB-2008  Steel Investment Foundries              30\n",
       "   9 │ M         29-FEB-2008  Steel Investment Foundries              15       ⋯\n",
       "  10 │ M         08-FEB-2005  Steel Investment Foundries              10\n",
       "\u001b[36m                                                              15 columns omitted\u001b[0m"
      ]
     },
     "metadata": {},
     "output_type": "display_data"
    }
   ],
   "source": [
    "using DataFrames, Dates\n",
    "\n",
    "# cargar base (ajusta la ruta si hace falta)\n",
    "df = CSV.read(\"C:\\\\Users\\\\USUARIO\\\\ing_datos\\\\data\\\\raw\\\\Paper1_WebData_Final.csv\", DataFrame)\n",
    "\n",
    "function normalize_schema(df::DataFrame)::DataFrame\n",
    "    # 1. Renombrar columnas\n",
    "    column_rename_map = Dict(\n",
    "        \"NID\" => \"worker_id\",\n",
    "        \"Age_group\" => \"age_group_code\",\n",
    "        \"Gender\" => \"gender\",\n",
    "        \"Region\" => \"region_code\",\n",
    "        \"Test_date\" => \"test_date\",\n",
    "        \"NAICS\" => \"naics_code\",\n",
    "        \"NAICS_descr\" => \"naics_description\",\n",
    "        \n",
    "        # Umbrales oído izquierdo\n",
    "        \"L500k\" => \"left_ear_500hz\",\n",
    "        \"L1k\" => \"left_ear_1000hz\",\n",
    "        \"L2k\" => \"left_ear_2000hz\",\n",
    "        \"L3k\" => \"left_ear_3000hz\",\n",
    "        \"L4k\" => \"left_ear_4000hz\",\n",
    "        \"L6k\" => \"left_ear_6000hz\",\n",
    "        \"L8k\" => \"left_ear_8000hz\",\n",
    "\n",
    "        # Umbrales oído derecho\n",
    "        \"R500k\" => \"right_ear_500hz\",\n",
    "        \"R1k\" => \"right_ear_1000hz\",\n",
    "        \"R2k\" => \"right_ear_2000hz\",\n",
    "        \"R3k\" => \"right_ear_3000hz\",\n",
    "        \"R4k\" => \"right_ear_4000hz\",\n",
    "        \"R6k\" => \"right_ear_6000hz\",\n",
    "        \"R8k\" => \"right_ear_8000hz\"\n",
    "    )\n",
    "\n",
    "    # Renombrar solo columnas existentes\n",
    "        for (old, new) in column_rename_map\n",
    "            if old in names(df)\n",
    "                rename!(df, old => new)\n",
    "            end\n",
    "        end\n",
    "\n",
    "\n",
    "    # 2. Agregar metadatos\n",
    "    df.processed_at = fill(Dates.now(), nrow(df))\n",
    "    df.data_source = fill(\"user_database\", nrow(df))\n",
    "\n",
    "    # 3. Reordenar columnas\n",
    "    new_column_order = [\n",
    "        \"worker_id\", \"age_group_code\", \"gender\", \"region_code\", \"test_date\",\n",
    "        \"naics_code\", \"naics_description\",\n",
    "        \"left_ear_500hz\", \"left_ear_1000hz\", \"left_ear_2000hz\", \"left_ear_3000hz\",\n",
    "        \"left_ear_4000hz\", \"left_ear_6000hz\", \"left_ear_8000hz\",\n",
    "        \"right_ear_500hz\", \"right_ear_1000hz\", \"right_ear_2000hz\", \"right_ear_3000hz\",\n",
    "        \"right_ear_4000hz\", \"right_ear_6000hz\", \"right_ear_8000hz\",\n",
    "        \"processed_at\", \"data_source\"\n",
    "    ]\n",
    "\n",
    "    # Filtrar columnas que existen\n",
    "    available_columns = filter(col -> col in names(df), new_column_order)\n",
    "    return df[:, available_columns]\n",
    "end\n",
    "\n",
    "# Ejecutar la normalización\n",
    "df_normalizado = normalize_schema(df)\n",
    "first(df_normalizado, 10)\n"
   ]
  },
  {
   "cell_type": "code",
   "execution_count": null,
   "id": "88b07ce6",
   "metadata": {},
   "outputs": [],
   "source": []
  }
 ],
 "metadata": {
  "kernelspec": {
   "display_name": "Julia 1.11.6",
   "language": "julia",
   "name": "julia-1.11"
  },
  "language_info": {
   "file_extension": ".jl",
   "mimetype": "application/julia",
   "name": "julia",
   "version": "1.11.6"
  }
 },
 "nbformat": 4,
 "nbformat_minor": 5
}
