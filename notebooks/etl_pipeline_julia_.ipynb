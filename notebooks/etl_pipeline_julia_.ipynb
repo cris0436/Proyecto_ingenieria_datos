{
 "cells": [
  {
   "cell_type": "code",
   "execution_count": 3,
   "id": "b1991e54",
   "metadata": {},
   "outputs": [
    {
     "name": "stdout",
     "output_type": "stream",
     "text": [
      "✅ Librerías cargadas exitosamente\n"
     ]
    }
   ],
   "source": [
    "# Instalar paquetes necesarios (ejecutar solo la primera vez)\n",
    "using Pkg\n",
    "# Pkg.add([\"DataFrames\", \"CSV\", \"Dates\", \"JSON3\", \"Logging\", \"Statistics\"])\n",
    "\n",
    "# Cargar librerías\n",
    "using DataFrames        # Manipulación y análisis de datos\n",
    "using CSV              # Lectura y escritura de archivos CSV\n",
    "using Dates            # Manejo de fechas y tiempos\n",
    "using JSON3            # Manejo de datos JSON\n",
    "using Logging          # Sistema de logs\n",
    "using Statistics       # Funciones estadísticas básicas\n",
    "\n",
    "# Configuración de logging para monitorear el pipeline\n",
    "logger = ConsoleLogger(stdout, Logging.Info)\n",
    "global_logger(logger)\n",
    "\n",
    "println(\"✅ Librerías cargadas exitosamente\")"
   ]
  },
  {
   "cell_type": "markdown",
   "id": "765809d1",
   "metadata": {},
   "source": [
    "# Instalar paquetes necesarios (ejecutar solo la primera vez)\n",
    "# Pkg.add([\"DataFrames\", \"CSV\", \"Dates\", \"JSON3\", \"Logging\", \"Statistics\"])\n",
    "\n",
    "# Cargar librerías\n"
   ]
  },
  {
   "cell_type": "code",
   "execution_count": 11,
   "id": "76f157fc",
   "metadata": {},
   "outputs": [
    {
     "name": "stdout",
     "output_type": "stream",
     "text": [
      "✅ Datos cargados exitosamente\n"
     ]
    }
   ],
   "source": [
    "df = CSV.read(\"..\\\\data\\\\raw\\\\Paper1_WebData_Final.csv\", DataFrame) \n",
    "println(\"✅ Datos cargados exitosamente\")"
   ]
  },
  {
   "cell_type": "code",
   "execution_count": 22,
   "id": "b1ca123f",
   "metadata": {},
   "outputs": [
    {
     "name": "stdout",
     "output_type": "stream",
     "text": [
      "las filas son :1114966\n",
      "las columnas son :21\n",
      "el tamaño del dataframe es :(1114966, 21)\n",
      "Información del DataFrame:\n",
      "\u001b[1m5×21 DataFrame\u001b[0m\n",
      "\u001b[1m Row \u001b[0m│\u001b[1m test_date   \u001b[0m\u001b[1m nid   \u001b[0m\u001b[1m L500k  \u001b[0m\u001b[1m L1k    \u001b[0m\u001b[1m L2k    \u001b[0m\u001b[1m L3k    \u001b[0m\u001b[1m L4k    \u001b[0m\u001b[1m L6k    \u001b[0m\u001b[1m L8k    \u001b[0m\u001b[1m R500k  \u001b[0m\u001b[1m R1k    \u001b[0m\u001b[1m R2k    \u001b[0m\u001b[1m R3k    \u001b[0m\u001b[1m R4k    \u001b[0m\u001b[1m R6k    \u001b[0m\u001b[1m R8k    \u001b[0m\u001b[1m gender   \u001b[0m\u001b[1m naics  \u001b[0m\u001b[1m age_group \u001b[0m\u001b[1m region   \u001b[0m\u001b[1m NAICS_descr                \u001b[0m\n",
      "     │\u001b[90m String15    \u001b[0m\u001b[90m Int64 \u001b[0m\u001b[90m Int64? \u001b[0m\u001b[90m Int64? \u001b[0m\u001b[90m Int64? \u001b[0m\u001b[90m Int64? \u001b[0m\u001b[90m Int64? \u001b[0m\u001b[90m Int64? \u001b[0m\u001b[90m Int64? \u001b[0m\u001b[90m Int64? \u001b[0m\u001b[90m Int64? \u001b[0m\u001b[90m Int64? \u001b[0m\u001b[90m Int64? \u001b[0m\u001b[90m Int64? \u001b[0m\u001b[90m Int64? \u001b[0m\u001b[90m Int64? \u001b[0m\u001b[90m String1? \u001b[0m\u001b[90m Int64  \u001b[0m\u001b[90m Int64     \u001b[0m\u001b[90m String3? \u001b[0m\u001b[90m String                     \u001b[0m\n",
      "─────┼───────────────────────────────────────────────────────────────────────────────────────────────────────────────────────────────────────────────────────────────────────────────────────────────────────\n",
      "   1 │ 12-FEB-2007      1      10       5       5      15       5       0      20      20      20      10      10      25      30      45  M         331512          4  MA        Steel Investment Foundries\n",
      "   2 │ 29-FEB-2008      2      15       5      15      20      20      15      15      10       0      10      15      30      20      15  M         331512          3  MA        Steel Investment Foundries\n",
      "   3 │ 08-FEB-2006      3      25      20      15      20      35      25      15      20      20      10      15      40      30      30  M         331512          3  MA        Steel Investment Foundries\n",
      "   4 │ 29-FEB-2008      6      10      10      10      35      50      30      10      10      10       5      30      35      25      20  M         331512          4  MA        Steel Investment Foundries\n",
      "   5 │ 08-FEB-2006      8      15      15       5      15      45      30      20      15      15       5      40      50      20       5  M         331512          3  MA        Steel Investment Foundries\n"
     ]
    }
   ],
   "source": [
    "println(\"las filas son :\",nrow(df) ,\"\\n\", \"las columnas son :\", ncol(df),\"\\n\",\"el tamaño del dataframe es :\", size(df))\n",
    "println(\"Información del DataFrame:\")\n",
    "\n",
    "println(first(df, 5))"
   ]
  },
  {
   "cell_type": "code",
   "execution_count": 27,
   "id": "aec7dc6b",
   "metadata": {},
   "outputs": [
    {
     "ename": "ErrorException",
     "evalue": "type ConsoleLogger has no field info",
     "output_type": "error",
     "traceback": [
      "type ConsoleLogger has no field info\n",
      "\n",
      "Stacktrace:\n",
      " [1] getproperty\n",
      "   @ .\\Base.jl:49 [inlined]\n",
      " [2] extract_data(file_path::String)\n",
      "   @ Main c:\\Users\\crist\\Downloads\\proyecto ingenieria de datos\\Proyecto_ingenieria_datos\\Proyecto_ingenieria_datos\\notebooks\\jl_notebook_cell_df34fa98e69747e1a8f8a730347b8e2f_W4sZmlsZQ==.jl:7\n",
      " [3] top-level scope\n",
      "   @ c:\\Users\\crist\\Downloads\\proyecto ingenieria de datos\\Proyecto_ingenieria_datos\\Proyecto_ingenieria_datos\\notebooks\\jl_notebook_cell_df34fa98e69747e1a8f8a730347b8e2f_W4sZmlsZQ==.jl:19"
     ]
    }
   ],
   "source": [
    "\n",
    "function extract_data(file_path::String)\n",
    "    logger = ConsoleLogger(stdout, Logging.Info)\n",
    "    global_logger(logger)\n",
    "\n",
    "    @info \"Iniciando extracción de datos desde $file_path\"\n",
    "\n",
    "    # Leer el archivo CSV\n",
    "    df = CSV.read(file_path, DataFrame)\n",
    "    # Mostrar información básica del DataFrame\n",
    "    if nrow(df) == 0\n",
    "        println(\"El DataFrame está vacío.\")\n",
    "    else\n",
    "        println(\"\\nRegistros extraídos: \", nrow(df))\n",
    "    end\n",
    "end\n",
    "\n",
    "extract_data(\"..\\\\data\\\\raw\\\\Paper1_WebData_Final.csv\")"
   ]
  }
 ],
 "metadata": {
  "kernelspec": {
   "display_name": "Julia 1.11.6",
   "language": "julia",
   "name": "julia-1.11"
  },
  "language_info": {
   "file_extension": ".jl",
   "mimetype": "application/julia",
   "name": "julia",
   "version": "1.11.6"
  }
 },
 "nbformat": 4,
 "nbformat_minor": 5
}
