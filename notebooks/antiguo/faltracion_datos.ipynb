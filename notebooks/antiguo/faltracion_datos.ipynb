{
 "cells": [
  {
   "cell_type": "code",
   "execution_count": null,
   "id": "619d7481",
   "metadata": {},
   "outputs": [
    {
     "data": {
      "text/html": [
       "<div><div style = \"float: left;\"><span>1114966×21 DataFrame</span></div><div style = \"float: right;\"><span style = \"font-style: italic;\">1114941 rows omitted</span></div><div style = \"clear: both;\"></div></div><div class = \"data-frame\" style = \"overflow-x: scroll;\"><table class = \"data-frame\" style = \"margin-bottom: 6px;\"><thead><tr class = \"header\"><th class = \"rowNumber\" style = \"font-weight: bold; text-align: right;\">Row</th><th style = \"text-align: left;\">test_date</th><th style = \"text-align: left;\">nid</th><th style = \"text-align: left;\">L500k</th><th style = \"text-align: left;\">L1k</th><th style = \"text-align: left;\">L2k</th><th style = \"text-align: left;\">L3k</th><th style = \"text-align: left;\">L4k</th><th style = \"text-align: left;\">L6k</th><th style = \"text-align: left;\">L8k</th><th style = \"text-align: left;\">R500k</th><th style = \"text-align: left;\">R1k</th><th style = \"text-align: left;\">R2k</th><th style = \"text-align: left;\">R3k</th><th style = \"text-align: left;\">R4k</th><th style = \"text-align: left;\">R6k</th><th style = \"text-align: left;\">R8k</th><th style = \"text-align: left;\">gender</th><th style = \"text-align: left;\">naics</th><th style = \"text-align: left;\">age_group</th><th style = \"text-align: left;\">region</th><th style = \"text-align: left;\">NAICS_descr</th></tr><tr class = \"subheader headerLastRow\"><th class = \"rowNumber\" style = \"font-weight: bold; text-align: right;\"></th><th title = \"String15\" style = \"text-align: left;\">String15</th><th title = \"Int64\" style = \"text-align: left;\">Int64</th><th title = \"Union{Missing, Int64}\" style = \"text-align: left;\">Int64?</th><th title = \"Union{Missing, Int64}\" style = \"text-align: left;\">Int64?</th><th title = \"Union{Missing, Int64}\" style = \"text-align: left;\">Int64?</th><th title = \"Union{Missing, Int64}\" style = \"text-align: left;\">Int64?</th><th title = \"Union{Missing, Int64}\" style = \"text-align: left;\">Int64?</th><th title = \"Union{Missing, Int64}\" style = \"text-align: left;\">Int64?</th><th title = \"Union{Missing, Int64}\" style = \"text-align: left;\">Int64?</th><th title = \"Union{Missing, Int64}\" style = \"text-align: left;\">Int64?</th><th title = \"Union{Missing, Int64}\" style = \"text-align: left;\">Int64?</th><th title = \"Union{Missing, Int64}\" style = \"text-align: left;\">Int64?</th><th title = \"Union{Missing, Int64}\" style = \"text-align: left;\">Int64?</th><th title = \"Union{Missing, Int64}\" style = \"text-align: left;\">Int64?</th><th title = \"Union{Missing, Int64}\" style = \"text-align: left;\">Int64?</th><th title = \"Union{Missing, Int64}\" style = \"text-align: left;\">Int64?</th><th title = \"Union{Missing, String1}\" style = \"text-align: left;\">String1?</th><th title = \"Int64\" style = \"text-align: left;\">Int64</th><th title = \"Int64\" style = \"text-align: left;\">Int64</th><th title = \"Union{Missing, String3}\" style = \"text-align: left;\">String3?</th><th title = \"String\" style = \"text-align: left;\">String</th></tr></thead><tbody><tr><td class = \"rowNumber\" style = \"font-weight: bold; text-align: right;\">1</td><td style = \"text-align: left;\">12-FEB-2007</td><td style = \"text-align: right;\">1</td><td style = \"text-align: right;\">10</td><td style = \"text-align: right;\">5</td><td style = \"text-align: right;\">5</td><td style = \"text-align: right;\">15</td><td style = \"text-align: right;\">5</td><td style = \"text-align: right;\">0</td><td style = \"text-align: right;\">20</td><td style = \"text-align: right;\">20</td><td style = \"text-align: right;\">20</td><td style = \"text-align: right;\">10</td><td style = \"text-align: right;\">10</td><td style = \"text-align: right;\">25</td><td style = \"text-align: right;\">30</td><td style = \"text-align: right;\">45</td><td style = \"text-align: left;\">M</td><td style = \"text-align: right;\">331512</td><td style = \"text-align: right;\">4</td><td style = \"text-align: left;\">MA</td><td style = \"text-align: left;\">Steel Investment Foundries</td></tr><tr><td class = \"rowNumber\" style = \"font-weight: bold; text-align: right;\">2</td><td style = \"text-align: left;\">29-FEB-2008</td><td style = \"text-align: right;\">2</td><td style = \"text-align: right;\">15</td><td style = \"text-align: right;\">5</td><td style = \"text-align: right;\">15</td><td style = \"text-align: right;\">20</td><td style = \"text-align: right;\">20</td><td style = \"text-align: right;\">15</td><td style = \"text-align: right;\">15</td><td style = \"text-align: right;\">10</td><td style = \"text-align: right;\">0</td><td style = \"text-align: right;\">10</td><td style = \"text-align: right;\">15</td><td style = \"text-align: right;\">30</td><td style = \"text-align: right;\">20</td><td style = \"text-align: right;\">15</td><td style = \"text-align: left;\">M</td><td style = \"text-align: right;\">331512</td><td style = \"text-align: right;\">3</td><td style = \"text-align: left;\">MA</td><td style = \"text-align: left;\">Steel Investment Foundries</td></tr><tr><td class = \"rowNumber\" style = \"font-weight: bold; text-align: right;\">3</td><td style = \"text-align: left;\">08-FEB-2006</td><td style = \"text-align: right;\">3</td><td style = \"text-align: right;\">25</td><td style = \"text-align: right;\">20</td><td style = \"text-align: right;\">15</td><td style = \"text-align: right;\">20</td><td style = \"text-align: right;\">35</td><td style = \"text-align: right;\">25</td><td style = \"text-align: right;\">15</td><td style = \"text-align: right;\">20</td><td style = \"text-align: right;\">20</td><td style = \"text-align: right;\">10</td><td style = \"text-align: right;\">15</td><td style = \"text-align: right;\">40</td><td style = \"text-align: right;\">30</td><td style = \"text-align: right;\">30</td><td style = \"text-align: left;\">M</td><td style = \"text-align: right;\">331512</td><td style = \"text-align: right;\">3</td><td style = \"text-align: left;\">MA</td><td style = \"text-align: left;\">Steel Investment Foundries</td></tr><tr><td class = \"rowNumber\" style = \"font-weight: bold; text-align: right;\">4</td><td style = \"text-align: left;\">29-FEB-2008</td><td style = \"text-align: right;\">6</td><td style = \"text-align: right;\">10</td><td style = \"text-align: right;\">10</td><td style = \"text-align: right;\">10</td><td style = \"text-align: right;\">35</td><td style = \"text-align: right;\">50</td><td style = \"text-align: right;\">30</td><td style = \"text-align: right;\">10</td><td style = \"text-align: right;\">10</td><td style = \"text-align: right;\">10</td><td style = \"text-align: right;\">5</td><td style = \"text-align: right;\">30</td><td style = \"text-align: right;\">35</td><td style = \"text-align: right;\">25</td><td style = \"text-align: right;\">20</td><td style = \"text-align: left;\">M</td><td style = \"text-align: right;\">331512</td><td style = \"text-align: right;\">4</td><td style = \"text-align: left;\">MA</td><td style = \"text-align: left;\">Steel Investment Foundries</td></tr><tr><td class = \"rowNumber\" style = \"font-weight: bold; text-align: right;\">5</td><td style = \"text-align: left;\">08-FEB-2006</td><td style = \"text-align: right;\">8</td><td style = \"text-align: right;\">15</td><td style = \"text-align: right;\">15</td><td style = \"text-align: right;\">5</td><td style = \"text-align: right;\">15</td><td style = \"text-align: right;\">45</td><td style = \"text-align: right;\">30</td><td style = \"text-align: right;\">20</td><td style = \"text-align: right;\">15</td><td style = \"text-align: right;\">15</td><td style = \"text-align: right;\">5</td><td style = \"text-align: right;\">40</td><td style = \"text-align: right;\">50</td><td style = \"text-align: right;\">20</td><td style = \"text-align: right;\">5</td><td style = \"text-align: left;\">M</td><td style = \"text-align: right;\">331512</td><td style = \"text-align: right;\">3</td><td style = \"text-align: left;\">MA</td><td style = \"text-align: left;\">Steel Investment Foundries</td></tr><tr><td class = \"rowNumber\" style = \"font-weight: bold; text-align: right;\">6</td><td style = \"text-align: left;\">29-FEB-2008</td><td style = \"text-align: right;\">9</td><td style = \"text-align: right;\">10</td><td style = \"text-align: right;\">5</td><td style = \"text-align: right;\">0</td><td style = \"text-align: right;\">5</td><td style = \"text-align: right;\">15</td><td style = \"text-align: right;\">15</td><td style = \"text-align: right;\">15</td><td style = \"text-align: right;\">5</td><td style = \"text-align: right;\">0</td><td style = \"text-align: right;\">5</td><td style = \"text-align: right;\">5</td><td style = \"text-align: right;\">5</td><td style = \"text-align: right;\">5</td><td style = \"text-align: right;\">20</td><td style = \"text-align: left;\">M</td><td style = \"text-align: right;\">331512</td><td style = \"text-align: right;\">3</td><td style = \"text-align: left;\">MA</td><td style = \"text-align: left;\">Steel Investment Foundries</td></tr><tr><td class = \"rowNumber\" style = \"font-weight: bold; text-align: right;\">7</td><td style = \"text-align: left;\">29-FEB-2008</td><td style = \"text-align: right;\">10</td><td style = \"text-align: right;\">5</td><td style = \"text-align: right;\">0</td><td style = \"text-align: right;\">5</td><td style = \"text-align: right;\">5</td><td style = \"text-align: right;\">5</td><td style = \"text-align: right;\">10</td><td style = \"text-align: right;\">0</td><td style = \"text-align: right;\">10</td><td style = \"text-align: right;\">5</td><td style = \"text-align: right;\">5</td><td style = \"text-align: right;\">5</td><td style = \"text-align: right;\">5</td><td style = \"text-align: right;\">5</td><td style = \"text-align: right;\">0</td><td style = \"text-align: left;\">M</td><td style = \"text-align: right;\">331512</td><td style = \"text-align: right;\">2</td><td style = \"text-align: left;\">MA</td><td style = \"text-align: left;\">Steel Investment Foundries</td></tr><tr><td class = \"rowNumber\" style = \"font-weight: bold; text-align: right;\">8</td><td style = \"text-align: left;\">29-FEB-2008</td><td style = \"text-align: right;\">11</td><td style = \"text-align: right;\">30</td><td style = \"text-align: right;\">20</td><td style = \"text-align: right;\">25</td><td style = \"text-align: right;\">60</td><td style = \"text-align: right;\">60</td><td style = \"text-align: right;\">60</td><td style = \"text-align: right;\">30</td><td style = \"text-align: right;\">25</td><td style = \"text-align: right;\">20</td><td style = \"text-align: right;\">35</td><td style = \"text-align: right;\">65</td><td style = \"text-align: right;\">65</td><td style = \"text-align: right;\">70</td><td style = \"text-align: right;\">50</td><td style = \"text-align: left;\">M</td><td style = \"text-align: right;\">331512</td><td style = \"text-align: right;\">5</td><td style = \"text-align: left;\">MA</td><td style = \"text-align: left;\">Steel Investment Foundries</td></tr><tr><td class = \"rowNumber\" style = \"font-weight: bold; text-align: right;\">9</td><td style = \"text-align: left;\">29-FEB-2008</td><td style = \"text-align: right;\">12</td><td style = \"text-align: right;\">15</td><td style = \"text-align: right;\">10</td><td style = \"text-align: right;\">5</td><td style = \"text-align: right;\">5</td><td style = \"text-align: right;\">35</td><td style = \"text-align: right;\">20</td><td style = \"text-align: right;\">5</td><td style = \"text-align: right;\">10</td><td style = \"text-align: right;\">15</td><td style = \"text-align: right;\">5</td><td style = \"text-align: right;\">25</td><td style = \"text-align: right;\">40</td><td style = \"text-align: right;\">10</td><td style = \"text-align: right;\">20</td><td style = \"text-align: left;\">M</td><td style = \"text-align: right;\">331512</td><td style = \"text-align: right;\">3</td><td style = \"text-align: left;\">MA</td><td style = \"text-align: left;\">Steel Investment Foundries</td></tr><tr><td class = \"rowNumber\" style = \"font-weight: bold; text-align: right;\">10</td><td style = \"text-align: left;\">08-FEB-2005</td><td style = \"text-align: right;\">13</td><td style = \"text-align: right;\">10</td><td style = \"text-align: right;\">5</td><td style = \"text-align: right;\">10</td><td style = \"text-align: right;\">45</td><td style = \"text-align: right;\">50</td><td style = \"text-align: right;\">35</td><td style = \"text-align: right;\">30</td><td style = \"text-align: right;\">10</td><td style = \"text-align: right;\">10</td><td style = \"text-align: right;\">10</td><td style = \"text-align: right;\">10</td><td style = \"text-align: right;\">20</td><td style = \"text-align: right;\">5</td><td style = \"text-align: right;\">20</td><td style = \"text-align: left;\">M</td><td style = \"text-align: right;\">331512</td><td style = \"text-align: right;\">5</td><td style = \"text-align: left;\">MA</td><td style = \"text-align: left;\">Steel Investment Foundries</td></tr><tr><td class = \"rowNumber\" style = \"font-weight: bold; text-align: right;\">11</td><td style = \"text-align: left;\">29-FEB-2008</td><td style = \"text-align: right;\">14</td><td style = \"text-align: right;\">15</td><td style = \"text-align: right;\">5</td><td style = \"text-align: right;\">10</td><td style = \"text-align: right;\">55</td><td style = \"text-align: right;\">60</td><td style = \"text-align: right;\">75</td><td style = \"text-align: right;\">75</td><td style = \"text-align: right;\">15</td><td style = \"text-align: right;\">5</td><td style = \"text-align: right;\">20</td><td style = \"text-align: right;\">65</td><td style = \"text-align: right;\">65</td><td style = \"text-align: right;\">75</td><td style = \"text-align: right;\">80</td><td style = \"text-align: left;\">M</td><td style = \"text-align: right;\">331512</td><td style = \"text-align: right;\">5</td><td style = \"text-align: left;\">MA</td><td style = \"text-align: left;\">Steel Investment Foundries</td></tr><tr><td class = \"rowNumber\" style = \"font-weight: bold; text-align: right;\">12</td><td style = \"text-align: left;\">29-FEB-2008</td><td style = \"text-align: right;\">15</td><td style = \"text-align: right;\">15</td><td style = \"text-align: right;\">15</td><td style = \"text-align: right;\">15</td><td style = \"text-align: right;\">30</td><td style = \"text-align: right;\">60</td><td style = \"text-align: right;\">45</td><td style = \"text-align: right;\">15</td><td style = \"text-align: right;\">20</td><td style = \"text-align: right;\">10</td><td style = \"text-align: right;\">5</td><td style = \"text-align: right;\">35</td><td style = \"text-align: right;\">45</td><td style = \"text-align: right;\">60</td><td style = \"text-align: right;\">25</td><td style = \"text-align: left;\">M</td><td style = \"text-align: right;\">331512</td><td style = \"text-align: right;\">4</td><td style = \"text-align: left;\">MA</td><td style = \"text-align: left;\">Steel Investment Foundries</td></tr><tr><td class = \"rowNumber\" style = \"font-weight: bold; text-align: right;\">13</td><td style = \"text-align: left;\">29-FEB-2008</td><td style = \"text-align: right;\">17</td><td style = \"text-align: right;\">15</td><td style = \"text-align: right;\">10</td><td style = \"text-align: right;\">5</td><td style = \"text-align: right;\">10</td><td style = \"text-align: right;\">40</td><td style = \"text-align: right;\">20</td><td style = \"text-align: right;\">10</td><td style = \"text-align: right;\">15</td><td style = \"text-align: right;\">5</td><td style = \"text-align: right;\">0</td><td style = \"text-align: right;\">20</td><td style = \"text-align: right;\">5</td><td style = \"text-align: right;\">25</td><td style = \"text-align: right;\">5</td><td style = \"text-align: left;\">M</td><td style = \"text-align: right;\">331512</td><td style = \"text-align: right;\">2</td><td style = \"text-align: left;\">MA</td><td style = \"text-align: left;\">Steel Investment Foundries</td></tr><tr><td style = \"text-align: right;\">&vellip;</td><td style = \"text-align: right;\">&vellip;</td><td style = \"text-align: right;\">&vellip;</td><td style = \"text-align: right;\">&vellip;</td><td style = \"text-align: right;\">&vellip;</td><td style = \"text-align: right;\">&vellip;</td><td style = \"text-align: right;\">&vellip;</td><td style = \"text-align: right;\">&vellip;</td><td style = \"text-align: right;\">&vellip;</td><td style = \"text-align: right;\">&vellip;</td><td style = \"text-align: right;\">&vellip;</td><td style = \"text-align: right;\">&vellip;</td><td style = \"text-align: right;\">&vellip;</td><td style = \"text-align: right;\">&vellip;</td><td style = \"text-align: right;\">&vellip;</td><td style = \"text-align: right;\">&vellip;</td><td style = \"text-align: right;\">&vellip;</td><td style = \"text-align: right;\">&vellip;</td><td style = \"text-align: right;\">&vellip;</td><td style = \"text-align: right;\">&vellip;</td><td style = \"text-align: right;\">&vellip;</td><td style = \"text-align: right;\">&vellip;</td></tr><tr><td class = \"rowNumber\" style = \"font-weight: bold; text-align: right;\">1114955</td><td style = \"text-align: left;\">02-DEC-2003</td><td style = \"text-align: right;\">3214175</td><td style = \"text-align: right;\">15</td><td style = \"text-align: right;\">10</td><td style = \"text-align: right;\">5</td><td style = \"text-align: right;\">15</td><td style = \"text-align: right;\">10</td><td style = \"text-align: right;\">30</td><td style = \"text-align: right;\">15</td><td style = \"text-align: right;\">20</td><td style = \"text-align: right;\">10</td><td style = \"text-align: right;\">15</td><td style = \"text-align: right;\">25</td><td style = \"text-align: right;\">30</td><td style = \"text-align: right;\">50</td><td style = \"text-align: right;\">35</td><td style = \"text-align: left;\">M</td><td style = \"text-align: right;\">334418</td><td style = \"text-align: right;\">4</td><td style = \"text-align: left;\">MW</td><td style = \"text-align: left;\">Printed Circuit Assembly (Electronic Assembly) Manufacturing</td></tr><tr><td class = \"rowNumber\" style = \"font-weight: bold; text-align: right;\">1114956</td><td style = \"text-align: left;\">28-NOV-2001</td><td style = \"text-align: right;\">3214176</td><td style = \"text-align: right;\">5</td><td style = \"text-align: right;\">10</td><td style = \"text-align: right;\">5</td><td style = \"text-align: right;\">5</td><td style = \"text-align: right;\">15</td><td style = \"text-align: right;\">10</td><td style = \"text-align: right;\">5</td><td style = \"text-align: right;\">5</td><td style = \"text-align: right;\">10</td><td style = \"text-align: right;\">5</td><td style = \"text-align: right;\">0</td><td style = \"text-align: right;\">5</td><td style = \"text-align: right;\">0</td><td style = \"text-align: right;\">15</td><td style = \"text-align: left;\">M</td><td style = \"text-align: right;\">334418</td><td style = \"text-align: right;\">2</td><td style = \"text-align: left;\">MW</td><td style = \"text-align: left;\">Printed Circuit Assembly (Electronic Assembly) Manufacturing</td></tr><tr><td class = \"rowNumber\" style = \"font-weight: bold; text-align: right;\">1114957</td><td style = \"text-align: left;\">01-FEB-2001</td><td style = \"text-align: right;\">3214178</td><td style = \"text-align: right;\">15</td><td style = \"text-align: right;\">10</td><td style = \"text-align: right;\">25</td><td style = \"text-align: right;\">10</td><td style = \"text-align: right;\">10</td><td style = \"text-align: right;\">5</td><td style = \"text-align: right;\">20</td><td style = \"text-align: right;\">10</td><td style = \"text-align: right;\">5</td><td style = \"text-align: right;\">20</td><td style = \"text-align: right;\">5</td><td style = \"text-align: right;\">10</td><td style = \"text-align: right;\">0</td><td style = \"text-align: right;\">10</td><td style = \"text-align: left;\">M</td><td style = \"text-align: right;\">334418</td><td style = \"text-align: right;\">2</td><td style = \"text-align: left;\">MW</td><td style = \"text-align: left;\">Printed Circuit Assembly (Electronic Assembly) Manufacturing</td></tr><tr><td class = \"rowNumber\" style = \"font-weight: bold; text-align: right;\">1114958</td><td style = \"text-align: left;\">31-JAN-2001</td><td style = \"text-align: right;\">3214179</td><td style = \"text-align: right;\">30</td><td style = \"text-align: right;\">20</td><td style = \"text-align: right;\">15</td><td style = \"text-align: right;\">10</td><td style = \"text-align: right;\">25</td><td style = \"text-align: right;\">35</td><td style = \"text-align: right;\">35</td><td style = \"text-align: right;\">5</td><td style = \"text-align: right;\">10</td><td style = \"text-align: right;\">5</td><td style = \"text-align: right;\">0</td><td style = \"text-align: right;\">0</td><td style = \"text-align: right;\">5</td><td style = \"text-align: right;\">5</td><td style = \"text-align: left;\">F</td><td style = \"text-align: right;\">334418</td><td style = \"text-align: right;\">1</td><td style = \"text-align: left;\">MW</td><td style = \"text-align: left;\">Printed Circuit Assembly (Electronic Assembly) Manufacturing</td></tr><tr><td class = \"rowNumber\" style = \"font-weight: bold; text-align: right;\">1114959</td><td style = \"text-align: left;\">31-JAN-2001</td><td style = \"text-align: right;\">3214181</td><td style = \"text-align: right;\">10</td><td style = \"text-align: right;\">0</td><td style = \"text-align: right;\">5</td><td style = \"text-align: right;\">0</td><td style = \"text-align: right;\">10</td><td style = \"text-align: right;\">25</td><td style = \"text-align: right;\">15</td><td style = \"text-align: right;\">10</td><td style = \"text-align: right;\">5</td><td style = \"text-align: right;\">5</td><td style = \"text-align: right;\">0</td><td style = \"text-align: right;\">20</td><td style = \"text-align: right;\">20</td><td style = \"text-align: right;\">15</td><td style = \"text-align: left;\">F</td><td style = \"text-align: right;\">334418</td><td style = \"text-align: right;\">3</td><td style = \"text-align: left;\">MW</td><td style = \"text-align: left;\">Printed Circuit Assembly (Electronic Assembly) Manufacturing</td></tr><tr><td class = \"rowNumber\" style = \"font-weight: bold; text-align: right;\">1114960</td><td style = \"text-align: left;\">27-FEB-2001</td><td style = \"text-align: right;\">3214182</td><td style = \"text-align: right;\">10</td><td style = \"text-align: right;\">5</td><td style = \"text-align: right;\">0</td><td style = \"text-align: right;\">0</td><td style = \"text-align: right;\">5</td><td style = \"text-align: right;\">20</td><td style = \"text-align: right;\">15</td><td style = \"text-align: right;\">10</td><td style = \"text-align: right;\">10</td><td style = \"text-align: right;\">5</td><td style = \"text-align: right;\">0</td><td style = \"text-align: right;\">0</td><td style = \"text-align: right;\">10</td><td style = \"text-align: right;\">25</td><td style = \"text-align: left;\">M</td><td style = \"text-align: right;\">334418</td><td style = \"text-align: right;\">4</td><td style = \"text-align: left;\">MW</td><td style = \"text-align: left;\">Printed Circuit Assembly (Electronic Assembly) Manufacturing</td></tr><tr><td class = \"rowNumber\" style = \"font-weight: bold; text-align: right;\">1114961</td><td style = \"text-align: left;\">31-JAN-2001</td><td style = \"text-align: right;\">3214183</td><td style = \"text-align: right;\">0</td><td style = \"text-align: right;\">0</td><td style = \"text-align: right;\">0</td><td style = \"text-align: right;\">0</td><td style = \"text-align: right;\">0</td><td style = \"text-align: right;\">20</td><td style = \"text-align: right;\">0</td><td style = \"text-align: right;\">0</td><td style = \"text-align: right;\">0</td><td style = \"text-align: right;\">5</td><td style = \"text-align: right;\">0</td><td style = \"text-align: right;\">5</td><td style = \"text-align: right;\">10</td><td style = \"text-align: right;\">5</td><td style = \"text-align: left;\">M</td><td style = \"text-align: right;\">334418</td><td style = \"text-align: right;\">2</td><td style = \"text-align: left;\">MW</td><td style = \"text-align: left;\">Printed Circuit Assembly (Electronic Assembly) Manufacturing</td></tr><tr><td class = \"rowNumber\" style = \"font-weight: bold; text-align: right;\">1114962</td><td style = \"text-align: left;\">11-DEC-2001</td><td style = \"text-align: right;\">3214185</td><td style = \"text-align: right;\">20</td><td style = \"text-align: right;\">15</td><td style = \"text-align: right;\">20</td><td style = \"text-align: right;\">15</td><td style = \"text-align: right;\">25</td><td style = \"text-align: right;\">15</td><td style = \"text-align: right;\">25</td><td style = \"text-align: right;\">15</td><td style = \"text-align: right;\">15</td><td style = \"text-align: right;\">10</td><td style = \"text-align: right;\">15</td><td style = \"text-align: right;\">20</td><td style = \"text-align: right;\">20</td><td style = \"text-align: right;\">15</td><td style = \"text-align: left;\">M</td><td style = \"text-align: right;\">334418</td><td style = \"text-align: right;\">3</td><td style = \"text-align: left;\">MW</td><td style = \"text-align: left;\">Printed Circuit Assembly (Electronic Assembly) Manufacturing</td></tr><tr><td class = \"rowNumber\" style = \"font-weight: bold; text-align: right;\">1114963</td><td style = \"text-align: left;\">02-DEC-2002</td><td style = \"text-align: right;\">3214186</td><td style = \"text-align: right;\">5</td><td style = \"text-align: right;\">5</td><td style = \"text-align: right;\">15</td><td style = \"text-align: right;\">50</td><td style = \"text-align: right;\">60</td><td style = \"text-align: right;\">55</td><td style = \"text-align: right;\">25</td><td style = \"text-align: right;\">10</td><td style = \"text-align: right;\">15</td><td style = \"text-align: right;\">30</td><td style = \"text-align: right;\">55</td><td style = \"text-align: right;\">60</td><td style = \"text-align: right;\">55</td><td style = \"text-align: right;\">50</td><td style = \"text-align: left;\">M</td><td style = \"text-align: right;\">334418</td><td style = \"text-align: right;\">4</td><td style = \"text-align: left;\">MW</td><td style = \"text-align: left;\">Printed Circuit Assembly (Electronic Assembly) Manufacturing</td></tr><tr><td class = \"rowNumber\" style = \"font-weight: bold; text-align: right;\">1114964</td><td style = \"text-align: left;\">31-JAN-2001</td><td style = \"text-align: right;\">3214187</td><td style = \"text-align: right;\">10</td><td style = \"text-align: right;\">5</td><td style = \"text-align: right;\">5</td><td style = \"text-align: right;\">0</td><td style = \"text-align: right;\">10</td><td style = \"text-align: right;\">10</td><td style = \"text-align: right;\">10</td><td style = \"text-align: right;\">5</td><td style = \"text-align: right;\">0</td><td style = \"text-align: right;\">0</td><td style = \"text-align: right;\">5</td><td style = \"text-align: right;\">5</td><td style = \"text-align: right;\">15</td><td style = \"text-align: right;\">10</td><td style = \"text-align: left;\">M</td><td style = \"text-align: right;\">334418</td><td style = \"text-align: right;\">1</td><td style = \"text-align: left;\">MW</td><td style = \"text-align: left;\">Printed Circuit Assembly (Electronic Assembly) Manufacturing</td></tr><tr><td class = \"rowNumber\" style = \"font-weight: bold; text-align: right;\">1114965</td><td style = \"text-align: left;\">13-MAR-2001</td><td style = \"text-align: right;\">3214189</td><td style = \"text-align: right;\">10</td><td style = \"text-align: right;\">0</td><td style = \"text-align: right;\">5</td><td style = \"text-align: right;\">0</td><td style = \"text-align: right;\">10</td><td style = \"text-align: right;\">15</td><td style = \"text-align: right;\">10</td><td style = \"text-align: right;\">5</td><td style = \"text-align: right;\">0</td><td style = \"text-align: right;\">5</td><td style = \"text-align: right;\">5</td><td style = \"text-align: right;\">10</td><td style = \"text-align: right;\">10</td><td style = \"text-align: right;\">10</td><td style = \"text-align: left;\">F</td><td style = \"text-align: right;\">334418</td><td style = \"text-align: right;\">1</td><td style = \"text-align: left;\">MW</td><td style = \"text-align: left;\">Printed Circuit Assembly (Electronic Assembly) Manufacturing</td></tr><tr><td class = \"rowNumber\" style = \"font-weight: bold; text-align: right;\">1114966</td><td style = \"text-align: left;\">13-MAR-2001</td><td style = \"text-align: right;\">3214191</td><td style = \"text-align: right;\">5</td><td style = \"text-align: right;\">5</td><td style = \"text-align: right;\">10</td><td style = \"text-align: right;\">15</td><td style = \"text-align: right;\">10</td><td style = \"text-align: right;\">15</td><td style = \"text-align: right;\">35</td><td style = \"text-align: right;\">30</td><td style = \"text-align: right;\">20</td><td style = \"text-align: right;\">25</td><td style = \"text-align: right;\">15</td><td style = \"text-align: right;\">10</td><td style = \"text-align: right;\">30</td><td style = \"text-align: right;\">25</td><td style = \"text-align: left;\">M</td><td style = \"text-align: right;\">334418</td><td style = \"text-align: right;\">3</td><td style = \"text-align: left;\">MW</td><td style = \"text-align: left;\">Printed Circuit Assembly (Electronic Assembly) Manufacturing</td></tr></tbody></table></div>"
      ],
      "text/latex": [
       "\\begin{tabular}{r|ccccccccccc}\n",
       "\t& test\\_date & nid & L500k & L1k & L2k & L3k & L4k & L6k & L8k & R500k & \\\\\n",
       "\t\\hline\n",
       "\t& String15 & Int64 & Int64? & Int64? & Int64? & Int64? & Int64? & Int64? & Int64? & Int64? & \\\\\n",
       "\t\\hline\n",
       "\t1 & 12-FEB-2007 & 1 & 10 & 5 & 5 & 15 & 5 & 0 & 20 & 20 & $\\dots$ \\\\\n",
       "\t2 & 29-FEB-2008 & 2 & 15 & 5 & 15 & 20 & 20 & 15 & 15 & 10 & $\\dots$ \\\\\n",
       "\t3 & 08-FEB-2006 & 3 & 25 & 20 & 15 & 20 & 35 & 25 & 15 & 20 & $\\dots$ \\\\\n",
       "\t4 & 29-FEB-2008 & 6 & 10 & 10 & 10 & 35 & 50 & 30 & 10 & 10 & $\\dots$ \\\\\n",
       "\t5 & 08-FEB-2006 & 8 & 15 & 15 & 5 & 15 & 45 & 30 & 20 & 15 & $\\dots$ \\\\\n",
       "\t6 & 29-FEB-2008 & 9 & 10 & 5 & 0 & 5 & 15 & 15 & 15 & 5 & $\\dots$ \\\\\n",
       "\t7 & 29-FEB-2008 & 10 & 5 & 0 & 5 & 5 & 5 & 10 & 0 & 10 & $\\dots$ \\\\\n",
       "\t8 & 29-FEB-2008 & 11 & 30 & 20 & 25 & 60 & 60 & 60 & 30 & 25 & $\\dots$ \\\\\n",
       "\t9 & 29-FEB-2008 & 12 & 15 & 10 & 5 & 5 & 35 & 20 & 5 & 10 & $\\dots$ \\\\\n",
       "\t10 & 08-FEB-2005 & 13 & 10 & 5 & 10 & 45 & 50 & 35 & 30 & 10 & $\\dots$ \\\\\n",
       "\t11 & 29-FEB-2008 & 14 & 15 & 5 & 10 & 55 & 60 & 75 & 75 & 15 & $\\dots$ \\\\\n",
       "\t12 & 29-FEB-2008 & 15 & 15 & 15 & 15 & 30 & 60 & 45 & 15 & 20 & $\\dots$ \\\\\n",
       "\t13 & 29-FEB-2008 & 17 & 15 & 10 & 5 & 10 & 40 & 20 & 10 & 15 & $\\dots$ \\\\\n",
       "\t14 & 08-FEB-2006 & 18 & 10 & 10 & 5 & 35 & 40 & 35 & 10 & 10 & $\\dots$ \\\\\n",
       "\t15 & 12-FEB-2007 & 20 & 15 & 5 & 10 & 50 & 50 & 15 & 20 & 15 & $\\dots$ \\\\\n",
       "\t16 & 22-FEB-2006 & 21 & 5 & 0 & 5 & 20 & 10 & 25 & 0 & 5 & $\\dots$ \\\\\n",
       "\t17 & 29-FEB-2008 & 22 & 15 & 5 & 5 & 15 & 15 & 40 & 15 & 10 & $\\dots$ \\\\\n",
       "\t18 & 29-FEB-2008 & 23 & 10 & 10 & 5 & 5 & 20 & 20 & 15 & 10 & $\\dots$ \\\\\n",
       "\t19 & 22-FEB-2006 & 24 & 5 & 0 & 0 & 0 & 5 & 10 & 0 & 0 & $\\dots$ \\\\\n",
       "\t20 & 12-FEB-2007 & 26 & 15 & 5 & 15 & 25 & 35 & 20 & 5 & 10 & $\\dots$ \\\\\n",
       "\t21 & 12-FEB-2007 & 27 & 10 & 5 & 5 & 10 & 5 & 0 & 5 & 10 & $\\dots$ \\\\\n",
       "\t22 & 29-FEB-2008 & 29 & 20 & 15 & 15 & 20 & 25 & 25 & 10 & 15 & $\\dots$ \\\\\n",
       "\t23 & 12-FEB-2007 & 30 & 25 & 20 & 15 & 10 & 10 & 30 & 15 & 25 & $\\dots$ \\\\\n",
       "\t24 & 29-FEB-2008 & 31 & 20 & 15 & 20 & 20 & 25 & 40 & 10 & 15 & $\\dots$ \\\\\n",
       "\t$\\dots$ & $\\dots$ & $\\dots$ & $\\dots$ & $\\dots$ & $\\dots$ & $\\dots$ & $\\dots$ & $\\dots$ & $\\dots$ & $\\dots$ &  \\\\\n",
       "\\end{tabular}\n"
      ],
      "text/plain": [
       "\u001b[1m1114966×21 DataFrame\u001b[0m\n",
       "\u001b[1m     Row \u001b[0m│\u001b[1m test_date   \u001b[0m\u001b[1m nid     \u001b[0m\u001b[1m L500k  \u001b[0m\u001b[1m L1k    \u001b[0m\u001b[1m L2k    \u001b[0m\u001b[1m L3k    \u001b[0m\u001b[1m L4k    \u001b[0m\u001b[1m L6k  \u001b[0m ⋯\n",
       "         │\u001b[90m String15    \u001b[0m\u001b[90m Int64   \u001b[0m\u001b[90m Int64? \u001b[0m\u001b[90m Int64? \u001b[0m\u001b[90m Int64? \u001b[0m\u001b[90m Int64? \u001b[0m\u001b[90m Int64? \u001b[0m\u001b[90m Int64\u001b[0m ⋯\n",
       "─────────┼──────────────────────────────────────────────────────────────────────\n",
       "       1 │ 12-FEB-2007        1      10       5       5      15       5        ⋯\n",
       "       2 │ 29-FEB-2008        2      15       5      15      20      20      1\n",
       "       3 │ 08-FEB-2006        3      25      20      15      20      35      2\n",
       "       4 │ 29-FEB-2008        6      10      10      10      35      50      3\n",
       "       5 │ 08-FEB-2006        8      15      15       5      15      45      3 ⋯\n",
       "       6 │ 29-FEB-2008        9      10       5       0       5      15      1\n",
       "       7 │ 29-FEB-2008       10       5       0       5       5       5      1\n",
       "       8 │ 29-FEB-2008       11      30      20      25      60      60      6\n",
       "    ⋮    │      ⋮          ⋮       ⋮       ⋮       ⋮       ⋮       ⋮       ⋮   ⋱\n",
       " 1114960 │ 27-FEB-2001  3214182      10       5       0       0       5      2 ⋯\n",
       " 1114961 │ 31-JAN-2001  3214183       0       0       0       0       0      2\n",
       " 1114962 │ 11-DEC-2001  3214185      20      15      20      15      25      1\n",
       " 1114963 │ 02-DEC-2002  3214186       5       5      15      50      60      5\n",
       " 1114964 │ 31-JAN-2001  3214187      10       5       5       0      10      1 ⋯\n",
       " 1114965 │ 13-MAR-2001  3214189      10       0       5       0      10      1\n",
       " 1114966 │ 13-MAR-2001  3214191       5       5      10      15      10      1\n",
       "\u001b[36m                                             14 columns and 1114951 rows omitted\u001b[0m"
      ]
     },
     "metadata": {},
     "output_type": "display_data"
    }
   ],
   "source": [
    "using CSV\n",
    "using DataFrames\n",
    "# Ruta del archivo\n",
    "file_path = \"../data/raw/Paper1_WebData_Final.csv\"\n",
    "\n",
    "# Cargar el CSV en un DataFrame\n",
    "df = CSV.read(file_path, DataFrame)\n",
    "\n",
    "# Mostrar los tipos de datos de cada columna\n"
   ]
  },
  {
   "cell_type": "code",
   "execution_count": 8,
   "id": "86459084",
   "metadata": {},
   "outputs": [
    {
     "name": "stdout",
     "output_type": "stream",
     "text": [
      "Columna: test_date \t Tipo de dato: String15\n",
      "Columna: nid \t Tipo de dato: Int64\n",
      "Columna: L500k \t Tipo de dato: Union{Missing, Int64}\n",
      "Columna: L1k \t Tipo de dato: Union{Missing, Int64}\n",
      "Columna: L2k \t Tipo de dato: Union{Missing, Int64}\n",
      "Columna: L3k \t Tipo de dato: Union{Missing, Int64}\n",
      "Columna: L4k \t Tipo de dato: Union{Missing, Int64}\n",
      "Columna: L6k \t Tipo de dato: Union{Missing, Int64}\n",
      "Columna: L8k \t Tipo de dato: Union{Missing, Int64}\n",
      "Columna: R500k \t Tipo de dato: Union{Missing, Int64}\n",
      "Columna: R1k \t Tipo de dato: Union{Missing, Int64}\n",
      "Columna: R2k \t Tipo de dato: Union{Missing, Int64}\n",
      "Columna: R3k \t Tipo de dato: Union{Missing, Int64}\n",
      "Columna: R4k \t Tipo de dato: Union{Missing, Int64}\n",
      "Columna: R6k \t Tipo de dato: Union{Missing, Int64}\n",
      "Columna: R8k \t Tipo de dato: Union{Missing, Int64}\n",
      "Columna: gender \t Tipo de dato: Union{Missing, String1}\n",
      "Columna: naics \t Tipo de dato: Int64\n",
      "Columna: age_group \t Tipo de dato: Int64\n",
      "Columna: region \t Tipo de dato: Union{Missing, String3}\n",
      "Columna: NAICS_descr \t Tipo de dato: String\n"
     ]
    }
   ],
   "source": [
    "eltypes = eltype.(eachcol(df))\n",
    "for (name, etype) in zip(names(df), eltypes)\n",
    "    println(\"Columna: $name \\t Tipo de dato: $etype\")\n",
    "end"
   ]
  },
  {
   "cell_type": "code",
   "execution_count": 9,
   "id": "9235ee8f",
   "metadata": {},
   "outputs": [
    {
     "name": "stdout",
     "output_type": "stream",
     "text": [
      "Numero de filas: 1114966\n",
      "Numero de columnas: 21\n"
     ]
    }
   ],
   "source": [
    "# contar numero de filas y columnas\n",
    "println(\"Numero de filas: \", size(df, 1))\n",
    "println(\"Numero de columnas: \", size(df, 2))"
   ]
  },
  {
   "cell_type": "code",
   "execution_count": null,
   "id": "f6f2b4a7",
   "metadata": {},
   "outputs": [
    {
     "ename": "MethodError",
     "evalue": "MethodError: no method matching isless(::SentinelArrays.SentinelVector{Int64, Int64, Missing, Vector{Int64}}, ::Float64)\nThe function `isless` exists, but no method is defined for this combination of argument types.\n\nClosest candidates are:\n  isless(!Matched::Missing, ::Any)\n   @ Base missing.jl:87\n  isless(::Any, !Matched::Missing)\n   @ Base missing.jl:88\n  isless(!Matched::T, ::T) where T<:Union{Float16, Float32, Float64}\n   @ Base float.jl:630\n  ...\n",
     "output_type": "error",
     "traceback": [
      "MethodError: no method matching isless(::SentinelArrays.SentinelVector{Int64, Int64, Missing, Vector{Int64}}, ::Float64)\n",
      "The function `isless` exists, but no method is defined for this combination of argument types.\n",
      "\n",
      "Closest candidates are:\n",
      "  isless(!Matched::Missing, ::Any)\n",
      "   @ Base missing.jl:87\n",
      "  isless(::Any, !Matched::Missing)\n",
      "   @ Base missing.jl:88\n",
      "  isless(!Matched::T, ::T) where T<:Union{Float16, Float32, Float64}\n",
      "   @ Base float.jl:630\n",
      "  ...\n",
      "\n",
      "\n",
      "Stacktrace:\n",
      " [1] <(x::SentinelArrays.SentinelVector{Int64, Int64, Missing, Vector{Int64}}, y::Float64)\n",
      "   @ Base .\\operators.jl:353\n",
      " [2] top-level scope\n",
      "   @ c:\\Users\\crist\\Documents\\Quinto semestre\\Sexto semestre\\Ingenieria de datos\\ing_datos\\notebooks\\jl_notebook_cell_df34fa98e69747e1a8f8a730347b8e2f_W3sZmlsZQ==.jl:6"
     ]
    }
   ],
   "source": [
    "using Statistics\n",
    "# rango de valores para frecuencia (para descartar valores atipicos )\n",
    "# los valores atipicos se remplazan por el promedio de la columna\n",
    "promedio_frecuencia = mean(skipmissing(df.L500k)) # calcular el promedio ignorando valores faltantes\n",
    "rango_frecuencia = (promedio_frecuencia - 3*std(skipmissing(df.L500k)), promedio_frecuencia + 3*std(skipmissing(df.L500k))) # definir un rango aceptable basado en el promedio y la desviacion estandar\n",
    "\n",
    "df.L500k = ifelse.((df.L500k < rango_frecuencia[1]) || (df.L500k > rango_frecuencia[2]), promedio_frecuencia, df.L500k)\n",
    "# rango de valores para frecuenciaq (para descartar valores atipicos )"
   ]
  }
 ],
 "metadata": {
  "kernelspec": {
   "display_name": "Julia 1.11.6",
   "language": "julia",
   "name": "julia-1.11"
  },
  "language_info": {
   "file_extension": ".jl",
   "mimetype": "application/julia",
   "name": "julia",
   "version": "1.11.6"
  }
 },
 "nbformat": 4,
 "nbformat_minor": 5
}
