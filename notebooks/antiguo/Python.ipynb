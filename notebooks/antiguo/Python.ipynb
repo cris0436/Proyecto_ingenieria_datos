{
 "cells": [
  {
   "cell_type": "code",
   "execution_count": null,
   "id": "44e98f0f-9fd4-4b14-93ab-ea598c9d535f",
   "metadata": {},
   "outputs": [],
   "source": [
    "import pandas as pd\n",
    "\n",
    "# Cargar la base de datos\n",
    "df = pd.read_csv(\"..\\\\data\\\\raw\\\\Paper1_WebData_Final.csv\")\n",
    "\n",
    "# Lista de columnas de umbrales auditivos\n",
    "threshold_columns = [\n",
    "    \"L500k\", \"L1k\", \"L2k\", \"L3k\", \"L4k\", \"L6k\", \"L8k\",\n",
    "    \"R500k\", \"R1k\", \"R2k\", \"R3k\", \"R4k\", \"R6k\", \"R8k\"\n",
    "]\n",
    "\n",
    "# Función para verificar si un valor es válido\n",
    "def is_valid(val):\n",
    "    return pd.notna(val) and val not in [997, 998, 999]\n",
    "\n",
    "# Filtrar registros válidos\n",
    "df_cleaned = df[df[threshold_columns].applymap(is_valid).all(axis=1)]\n",
    "\n",
    "# Guardar dataset limpio en processed\n",
    "df_cleaned.to_csv(\"..\\\\data\\\\processed\\\\datos_limpios.csv\", index=False)\n",
    "\n",
    "print(\"Registros eliminados correctamente\")"
   ]
  },
  {
   "cell_type": "code",
   "execution_count": null,
   "id": "1b030754-4a04-4955-a797-4b5ae7f44646",
   "metadata": {},
   "outputs": [],
   "source": [
    "import pandas as pd\n",
    "\n",
    "# Cargar la base de datos\n",
    "df = pd.read_csv(\"..\\\\data\\\\raw\\\\Paper1_WebData_Final.csv\")\n",
    "\n",
    "# Función para verificar si el género es masculino\n",
    "def is_masculino(g):\n",
    "    return pd.notna(g) and g == \"M\"\n",
    "\n",
    "# Función para verificar si el género es femenino\n",
    "def is_femenino(g):\n",
    "    return pd.notna(g) and g == \"F\"\n",
    "\n",
    "# Filtrar registros masculinos\n",
    "df_masculino = df[df['gender'].apply(is_masculino)]\n",
    "\n",
    "# Filtrar registros femeninos\n",
    "df_femenino = df[df['gender'].apply(is_femenino)]\n",
    "\n",
    "# Guardar los resultados en archivos separados\n",
    "df_masculino.to_csv(\"..\\\\data\\\\processed\\\\hearing_loss_masculino.csv\", index=False)\n",
    "df_femenino.to_csv(\"..\\\\data\\\\processed\\\\hearing_loss_femenino.csv\", index=False)\n",
    "\n",
    "print(\"Datos filtrados por género guardados como 'hearing_loss_masculino.csv' y 'hearing_loss_femenino.csv'.\")"
   ]
  },
  {
   "cell_type": "code",
   "execution_count": null,
   "id": "fd178717-3d52-4b09-b815-04a4f26be410",
   "metadata": {},
   "outputs": [],
   "source": [
    "import pandas as pd\n",
    "\n",
    "# Cargar la base de datos\n",
    "df = pd.read_csv(\"C:\\\\Users\\\\USUARIO\\\\ing_datos\\\\data\\\\raw\\\\Paper1_WebData_Final.csv\")\n",
    "\n",
    "# Función para verificar grupo de edad\n",
    "def edad_en_grupo(row, grupo):\n",
    "    return pd.notna(row['age_group']) and row['age_group'] == grupo\n",
    "\n",
    "# Filtrar por grupo de edad (ejemplo: grupo 4 = 46–55 años)\n",
    "df_edad_46_55 = df[df.apply(lambda row: edad_en_grupo(row, 4), axis=1)]\n",
    "\n",
    "# Guardar el resultado\n",
    "df_edad_46_55.to_csv(\"..\\\\data\\\\processed\\\\hearing_loss_edad_46_55.csv\", index=False)\n",
    "\n",
    "print(\"Datos filtrados por grupo de edad 46–55 años guardados como 'hearing_loss_edad_46_55.csv'.\")\n"
   ]
  },
  {
   "cell_type": "code",
   "execution_count": null,
   "id": "ff58ec9f-8c53-4995-b3d3-8c2bcd412bde",
   "metadata": {},
   "outputs": [],
   "source": [
    "import pandas as pd\n",
    "\n",
    "# Cargar la base de datos\n",
    "df = pd.read_csv(\"..\\\\data\\\\raw\\\\Paper1_WebData_Final.csv\")\n",
    "\n",
    "# Filtrar por región \"WE\"\n",
    "df_region_WE = df[df['region'].notna() & (df['region'] == \"WE\")]\n",
    "\n",
    "# Guardar el resultado\n",
    "df_region_WE.to_csv(\"..\\\\data\\\\processed\\\\region_WE.csv\", index=False)\n",
    "\n",
    "print(\"Datos guardados según la región.\")\n"
   ]
  },
  {
   "cell_type": "code",
   "execution_count": null,
   "id": "632104aa-d1e4-4cd7-93e9-560cf198d2e9",
   "metadata": {},
   "outputs": [],
   "source": [
    "import pandas as pd\n",
    "\n",
    "# Cargar la base de datos\n",
    "df = pd.read_csv(\"..\\\\data\\\\raw\\\\Paper1_WebData_Final.csv\")\n",
    "\n",
    "# Filtrar por compañía que contiene \"Construction\"\n",
    "df_industria_construccion = df[df['NAICS_descr'].notna() & df['NAICS_descr'].str.contains(\"Construction\", na=False)]\n",
    "\n",
    "# Guardar el resultado\n",
    "df_industria_construccion.to_csv(\"C:\\\\Users\\\\USUARIO\\\\ing_datos\\\\data\\\\processed\\\\contruccion.csv\", index=False)\n",
    "\n",
    "print(\"Datos guardados según su trabajo.\")\n"
   ]
  }
 ],
 "metadata": {
  "kernelspec": {
   "display_name": "Python 3 (ipykernel)",
   "language": "python",
   "name": "python3"
  },
  "language_info": {
   "codemirror_mode": {
    "name": "ipython",
    "version": 3
   },
   "file_extension": ".py",
   "mimetype": "text/x-python",
   "name": "python",
   "nbconvert_exporter": "python",
   "pygments_lexer": "ipython3",
   "version": "3.13.5"
  }
 },
 "nbformat": 4,
 "nbformat_minor": 5
}
